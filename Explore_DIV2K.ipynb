{
 "cells": [
  {
   "cell_type": "code",
   "execution_count": 2,
   "metadata": {
    "kernel": "Python3"
   },
   "outputs": [],
   "source": [
    "import numpy as np\n",
    "from pathlib import Path\n",
    "import matplotlib.pyplot as plt\n",
    "import cv2 as cv\n",
    "import scipy.io as sio\n",
    "import skimage.io as skio\n",
    "from skimage import exposure\n",
    "\n",
    "%matplotlib widget\n",
    "\n",
    "import sys  \n",
    "sys.path.insert(0, 'lib')\n",
    "from iplabs import IPLabViewer as viewer\n",
    "\n",
    "# Print colors\n",
    "class bcolors:\n",
    "    HEADER = '\\033[95m'\n",
    "    OKBLUE = '\\033[94m'\n",
    "    OKGREEN = '\\033[92m'\n",
    "    WARNING = '\\033[93m'\n",
    "    FAIL = '\\033[91m'\n",
    "    ENDC = '\\033[0m'\n",
    "    BOLD = '\\033[1m'\n",
    "    UNDERLINE = '\\033[4m'"
   ]
  },
  {
   "cell_type": "code",
   "execution_count": 3,
   "metadata": {
    "kernel": "Python3"
   },
   "outputs": [],
   "source": [
    "# Load the entire sim dataset into a numpy array\n",
    "def load_dataset(path_to_raw):\n",
    "    ls = []\n",
    "    path_to_raw = Path(path_to_raw)\n",
    "\n",
    "    # Read images and resize them\n",
    "    print('Collecting images...   0%', end='\\r')\n",
    "    subdir_list = [f for f in path_to_raw.glob('*')]\n",
    "    for i, f in enumerate(subdir_list):\n",
    "        img = cv.imread(str(f), cv.IMREAD_GRAYSCALE)\n",
    "        sz = min(img.shape)//2\n",
    "        img = cv.resize(img[img.shape[0]//2 - sz:img.shape[0]//2 + sz, img.shape[1]//2 - sz:img.shape[1]//2 + sz], (512, 512))\n",
    "        img = img / np.max(img)\n",
    "        ls.append(img)\n",
    "        print(f'Collecting images... {i/len(subdir_list)*100:3.0f}%', end='\\r')\n",
    "    \n",
    "    print(f'Collecting images... {bcolors.OKGREEN}100%{bcolors.ENDC}')\n",
    "        \n",
    "    return np.array(ls)"
   ]
  },
  {
   "cell_type": "code",
   "execution_count": 4,
   "metadata": {
    "kernel": "Python3"
   },
   "outputs": [
    {
     "name": "stdout",
     "output_type": "stream",
     "text": [
      "Collecting images... \u001b[92m100%\u001b[0m\n"
     ]
    }
   ],
   "source": [
    "dataset = load_dataset('DNN4SIM_data/DIV2K')"
   ]
  },
  {
   "cell_type": "markdown",
   "metadata": {
    "kernel": "Python3"
   },
   "source": [
    "### Test img"
   ]
  },
  {
   "cell_type": "code",
   "execution_count": 71,
   "metadata": {
    "kernel": "Python3"
   },
   "outputs": [
    {
     "data": {
      "text/plain": [
       "(2, 1028, 1054)"
      ]
     },
     "execution_count": 71,
     "metadata": {},
     "output_type": "execute_result"
    }
   ],
   "source": [
    "# tif\n",
    "img = skio.imread('DNN4SIM_data/sim_test_img_2.tif')\n",
    "img.shape"
   ]
  },
  {
   "cell_type": "code",
   "execution_count": 76,
   "metadata": {
    "kernel": "Python3"
   },
   "outputs": [
    {
     "data": {
      "application/vnd.jupyter.widget-view+json": {
       "model_id": "5ed27313233f4db18faaeb315ef89233",
       "version_major": 2,
       "version_minor": 0
      },
      "text/plain": [
       "HBox(children=(Output(layout=Layout(width='80%')), Output(), Output(layout=Layout(width='25%'))))"
      ]
     },
     "metadata": {},
     "output_type": "display_data"
    },
    {
     "data": {
      "application/vnd.jupyter.widget-view+json": {
       "model_id": "b797b14e6ec74ef0b9b9080e9680266d",
       "version_major": 2,
       "version_minor": 0
      },
      "text/plain": [
       "Button(description='Show Widgets', style=ButtonStyle())"
      ]
     },
     "metadata": {},
     "output_type": "display_data"
    },
    {
     "data": {
      "text/plain": [
       "<iplabs.IPLabViewer at 0x24c90088a88>"
      ]
     },
     "execution_count": 76,
     "metadata": {},
     "output_type": "execute_result"
    }
   ],
   "source": [
    "viewer(img[0])"
   ]
  },
  {
   "cell_type": "code",
   "execution_count": 77,
   "metadata": {
    "kernel": "Python3"
   },
   "outputs": [
    {
     "data": {
      "text/plain": [
       "(1028, 1054)"
      ]
     },
     "execution_count": 77,
     "metadata": {},
     "output_type": "execute_result"
    }
   ],
   "source": [
    "img = img[0]\n",
    "img.shape"
   ]
  },
  {
   "cell_type": "code",
   "execution_count": 78,
   "metadata": {
    "kernel": "Python3"
   },
   "outputs": [
    {
     "data": {
      "text/plain": [
       "(1024, 1024)"
      ]
     },
     "execution_count": 78,
     "metadata": {},
     "output_type": "execute_result"
    }
   ],
   "source": [
    "img = img[:1024, :1024]\n",
    "img.shape"
   ]
  },
  {
   "cell_type": "code",
   "execution_count": 68,
   "metadata": {
    "kernel": "Python3"
   },
   "outputs": [
    {
     "data": {
      "text/plain": [
       "(1024, 1024)"
      ]
     },
     "execution_count": 68,
     "metadata": {},
     "output_type": "execute_result"
    }
   ],
   "source": [
    "# png\n",
    "img = cv.imread('DNN4SIM_data/sim_test_img_2.png', cv.IMREAD_GRAYSCALE)\n",
    "#img=img[img.shape[0]-img.shape[1]:,:]\n",
    "img.shape"
   ]
  },
  {
   "cell_type": "code",
   "execution_count": 15,
   "metadata": {
    "kernel": "Python3"
   },
   "outputs": [],
   "source": [
    "img = cv.resize(img, dsize=(1024,1024), interpolation=cv.INTER_LANCZOS4)"
   ]
  },
  {
   "cell_type": "code",
   "execution_count": 79,
   "metadata": {
    "kernel": "Python3"
   },
   "outputs": [
    {
     "name": "stdout",
     "output_type": "stream",
     "text": [
      "0.0 1.0\n"
     ]
    }
   ],
   "source": [
    "img = img/np.max(img)\n",
    "print(img.min(), img.max())"
   ]
  },
  {
   "cell_type": "code",
   "execution_count": 17,
   "metadata": {
    "kernel": "Python3"
   },
   "outputs": [],
   "source": [
    "# invert\n",
    "img = img.max() - img"
   ]
  },
  {
   "cell_type": "code",
   "execution_count": 82,
   "metadata": {
    "kernel": "Python3"
   },
   "outputs": [],
   "source": [
    "img_up = exposure.equalize_adapthist(img, clip_limit=0.05)"
   ]
  },
  {
   "cell_type": "code",
   "execution_count": 60,
   "metadata": {
    "kernel": "Python3"
   },
   "outputs": [],
   "source": [
    "img[img > 0.5] = 1\n",
    "img[img <= 0.5] += 0.5"
   ]
  },
  {
   "cell_type": "code",
   "execution_count": 83,
   "metadata": {
    "kernel": "Python3"
   },
   "outputs": [
    {
     "data": {
      "application/vnd.jupyter.widget-view+json": {
       "model_id": "82b5649263814bdeb6476da2a5849a18",
       "version_major": 2,
       "version_minor": 0
      },
      "text/plain": [
       "HBox(children=(Output(layout=Layout(width='80%')), Output(), Output(layout=Layout(width='25%'))))"
      ]
     },
     "metadata": {},
     "output_type": "display_data"
    },
    {
     "data": {
      "application/vnd.jupyter.widget-view+json": {
       "model_id": "",
       "version_major": 2,
       "version_minor": 0
      },
      "text/plain": [
       "Button(description='Show Widgets', style=ButtonStyle())"
      ]
     },
     "metadata": {},
     "output_type": "display_data"
    }
   ],
   "source": [
    "plt.close('all')\n",
    "view = viewer(img_up, cmap='viridis')"
   ]
  },
  {
   "cell_type": "code",
   "execution_count": 84,
   "metadata": {
    "kernel": "Python3"
   },
   "outputs": [
    {
     "data": {
      "text/plain": [
       "True"
      ]
     },
     "execution_count": 84,
     "metadata": {},
     "output_type": "execute_result"
    }
   ],
   "source": [
    "cv.imwrite('DNN4SIM_data/sim_test_img_2.png', img_up*255)"
   ]
  },
  {
   "cell_type": "markdown",
   "metadata": {
    "kernel": "Python3"
   },
   "source": [
    "# Save dataset as .mat file"
   ]
  },
  {
   "cell_type": "code",
   "execution_count": 5,
   "metadata": {
    "kernel": "Python3"
   },
   "outputs": [],
   "source": [
    "for i in range(4):\n",
    "    with open(f'DNN4SIM_data/DIV2K_512_{i}.mat', 'wb') as f:\n",
    "        sio.savemat(f, {'data' : dataset[i*dataset.shape[0]//4:(i+1)*dataset.shape[0]//4]})"
   ]
  },
  {
   "cell_type": "markdown",
   "metadata": {
    "kernel": "Python3"
   },
   "source": [
    "# Generating the rosette"
   ]
  },
  {
   "cell_type": "code",
   "execution_count": 19,
   "metadata": {
    "kernel": "Python3"
   },
   "outputs": [],
   "source": [
    "rosette_512 = sio.loadmat(f'DNN4SIM_data/rosette_512.mat')['rosette']\n",
    "rosette_1024 = sio.loadmat(f'DNN4SIM_data/rosette_1024.mat')['rosette']\n",
    "rosette_512 = cv.morphologyEx(rosette_512, cv.MORPH_CLOSE, np.ones((3,3)))\n",
    "rosette_1024 = cv.morphologyEx(rosette_1024, cv.MORPH_CLOSE, np.ones((7,7)))"
   ]
  },
  {
   "cell_type": "code",
   "execution_count": 24,
   "metadata": {
    "kernel": "Python3"
   },
   "outputs": [
    {
     "data": {
      "application/vnd.jupyter.widget-view+json": {
       "model_id": "be32a9a5fbb94d9f96329b11b23d57b7",
       "version_major": 2,
       "version_minor": 0
      },
      "text/plain": [
       "HBox(children=(Output(layout=Layout(width='80%')), Output(), Output(layout=Layout(width='25%'))))"
      ]
     },
     "metadata": {},
     "output_type": "display_data"
    },
    {
     "data": {
      "application/vnd.jupyter.widget-view+json": {
       "model_id": "69a538496b8845eaa2b3119c918e9832",
       "version_major": 2,
       "version_minor": 0
      },
      "text/plain": [
       "Button(description='Show Widgets', style=ButtonStyle())"
      ]
     },
     "metadata": {},
     "output_type": "display_data"
    }
   ],
   "source": [
    "plt.close('all')\n",
    "view = viewer([rosette_512, rosette_1024], subplots=(1,2))"
   ]
  },
  {
   "cell_type": "code",
   "execution_count": 25,
   "metadata": {
    "kernel": "Python3"
   },
   "outputs": [],
   "source": [
    "with open('DNN4SIM_data/rosette_512.npy', 'wb') as f:\n",
    "    np.save(f, rosette_512)\n",
    "with open('DNN4SIM_data/rosette_1024.npy', 'wb') as f:\n",
    "    np.save(f, rosette_1024)"
   ]
  },
  {
   "cell_type": "markdown",
   "metadata": {
    "kernel": "Python3"
   },
   "source": [
    "# Histogram equalization"
   ]
  },
  {
   "cell_type": "code",
   "execution_count": 3,
   "metadata": {
    "kernel": "Python3"
   },
   "outputs": [],
   "source": [
    "feats = np.load('DNN4SIM_data/features.npy')"
   ]
  },
  {
   "cell_type": "code",
   "execution_count": 29,
   "metadata": {
    "kernel": "Python3"
   },
   "outputs": [],
   "source": [
    "for i in range(feats.shape[0]):\n",
    "    feats[i] = exposure.equalize_adapthist(feats[i], clip_limit=0.1)"
   ]
  },
  {
   "cell_type": "code",
   "execution_count": null,
   "metadata": {
    "kernel": "Python3"
   },
   "outputs": [],
   "source": [
    "with open('DNN4SIM_data/data_reduced/features_1.npy', 'wb') as f:\n",
    "    np.save(f, feats[:feats.shape[0]//2])\n",
    "with open('DNN4SIM_data/data_reduced/features_2.npy', 'wb') as f:\n",
    "    np.save(f, feats[feats.shape[0]//2:])"
   ]
  },
  {
   "cell_type": "code",
   "execution_count": 5,
   "metadata": {
    "kernel": "Python3"
   },
   "outputs": [],
   "source": [
    "labs = np.load('DNN4SIM_data/labels.npy')"
   ]
  },
  {
   "cell_type": "code",
   "execution_count": 30,
   "metadata": {
    "kernel": "Python3"
   },
   "outputs": [],
   "source": [
    "for i in range(labs.shape[0]):\n",
    "    labs[i] = exposure.equalize_adapthist(labs[i], clip_limit=0.1)"
   ]
  },
  {
   "cell_type": "code",
   "execution_count": 34,
   "metadata": {
    "kernel": "Python3"
   },
   "outputs": [],
   "source": [
    "with open('DNN4SIM_data/data_reduced/labels_1.npy', 'wb') as f:\n",
    "    np.save(f, labs[:labs.shape[0]//2])\n",
    "with open('DNN4SIM_data/data_reduced/labels_2.npy', 'wb') as f:\n",
    "    np.save(f, labs[labs.shape[0]//2:])"
   ]
  },
  {
   "cell_type": "code",
   "execution_count": 4,
   "metadata": {
    "kernel": "Python3"
   },
   "outputs": [],
   "source": [
    "wf = np.load('DNN4SIM_data/wf.npy')"
   ]
  },
  {
   "cell_type": "code",
   "execution_count": 8,
   "metadata": {
    "kernel": "Python3"
   },
   "outputs": [],
   "source": [
    "for i in range(wf.shape[0]):\n",
    "    wf[i] = exposure.equalize_adapthist((wf[i] - np.min(wf[i])) / (np.max(wf[i]) - np.min(wf[i])), clip_limit=0.1)"
   ]
  },
  {
   "cell_type": "code",
   "execution_count": 10,
   "metadata": {
    "kernel": "Python3"
   },
   "outputs": [],
   "source": [
    "with open('DNN4SIM_data/data_reduced/wf_1.npy', 'wb') as f:\n",
    "    np.save(f, wf[:wf.shape[0]//2])\n",
    "with open('DNN4SIM_data/data_reduced/wf_2.npy', 'wb') as f:\n",
    "    np.save(f, wf[wf.shape[0]//2:])"
   ]
  },
  {
   "cell_type": "code",
   "execution_count": 9,
   "metadata": {
    "kernel": "Python3"
   },
   "outputs": [
    {
     "data": {
      "application/vnd.jupyter.widget-view+json": {
       "model_id": "962cc199abd94d37b149cbd09fbc7a46",
       "version_major": 2,
       "version_minor": 0
      },
      "text/plain": [
       "HBox(children=(Output(layout=Layout(width='80%')), Output(), Output(layout=Layout(width='25%'))))"
      ]
     },
     "metadata": {},
     "output_type": "display_data"
    }
   ],
   "source": [
    "plt.close('all')\n",
    "view = viewer([wf[253]], hist=True, cmap='viridis')"
   ]
  },
  {
   "cell_type": "markdown",
   "metadata": {
    "kernel": "Python3"
   },
   "source": [
    "# Generate NumPy dataset from reconstruction .mat files"
   ]
  },
  {
   "cell_type": "code",
   "execution_count": 2,
   "metadata": {
    "kernel": "Python3"
   },
   "outputs": [],
   "source": [
    "rosette_1024 = np.load('DNN4SIM_data/rosette_1024.npy')\n",
    "rosette_512 = np.load('DNN4SIM_data/rosette_512.npy')\n",
    "def apply_rosette(img, rosette):\n",
    "    FT = np.fft.fftshift(np.fft.fft2(img))\n",
    "    FT[rosette == 0] = 1e-5\n",
    "    return np.real(np.fft.ifft2(np.fft.ifftshift(FT)))\n",
    "\n",
    "def apply_fft(img):\n",
    "    FT = np.abs(np.fft.fftshift(np.fft.fft2(img)))\n",
    "    FT[FT == 0] = 1e-5\n",
    "    return 10*np.log10(FT)\n",
    "\n",
    "def process_img(img):\n",
    "    return (img - np.mean(img)) / np.std(img)"
   ]
  },
  {
   "cell_type": "code",
   "execution_count": 3,
   "metadata": {
    "kernel": "Python3"
   },
   "outputs": [],
   "source": [
    "ds_recons = []\n",
    "#ds = []\n",
    "ds_wf = []\n",
    "\n",
    "snr = 15\n",
    "\n",
    "for i in range(4):\n",
    "    ds_recons.append(sio.loadmat(f'DNN4SIM_data/DIV2K_recons_snr{snr}_{i}.mat')['recons_data'])\n",
    "    #ds.append(sio.loadmat(f'DNN4SIM_data/DIV2K_{i}.mat')['data'])\n",
    "    ds_wf.append(sio.loadmat(f'DNN4SIM_data/DIV2K_wf_snr{snr}_{i}.mat')['wf_data'])\n",
    "\n",
    "ds_recons = np.concatenate(ds_recons, axis=0)\n",
    "#ds = np.concatenate(ds, axis=0)\n",
    "ds_wf = np.concatenate(ds_wf, axis=0)"
   ]
  },
  {
   "cell_type": "code",
   "execution_count": 4,
   "metadata": {
    "kernel": "Python3"
   },
   "outputs": [
    {
     "data": {
      "application/vnd.jupyter.widget-view+json": {
       "model_id": "683c3a85f7484834aea4047ce1a1ce2b",
       "version_major": 2,
       "version_minor": 0
      },
      "text/plain": [
       "HBox(children=(Output(layout=Layout(width='80%')), Output(), Output(layout=Layout(width='25%'))))"
      ]
     },
     "metadata": {},
     "output_type": "display_data"
    },
    {
     "data": {
      "application/vnd.jupyter.widget-view+json": {
       "model_id": "7fc6fa7843fc4d82863281f3045a5a4d",
       "version_major": 2,
       "version_minor": 0
      },
      "text/plain": [
       "Button(description='Show Widgets', style=ButtonStyle())"
      ]
     },
     "metadata": {},
     "output_type": "display_data"
    }
   ],
   "source": [
    "view = viewer([ds_recons[253], ds_wf[253]], subplots=(1,2), title=['Feature', 'Widefield'], cmap='viridis', joint_zoom=True)"
   ]
  },
  {
   "cell_type": "code",
   "execution_count": 5,
   "metadata": {
    "kernel": "Python3"
   },
   "outputs": [],
   "source": [
    "for i in range(len(ds_recons)):\n",
    "    #ds[i] = process_img(apply_rosette(ds[i], rosette_1024))\n",
    "    ds_recons[i] = process_img(ds_recons[i])\n",
    "    ds_wf[i] = process_img(ds_wf[i])"
   ]
  },
  {
   "cell_type": "code",
   "execution_count": 6,
   "metadata": {
    "kernel": "Python3"
   },
   "outputs": [
    {
     "data": {
      "application/vnd.jupyter.widget-view+json": {
       "model_id": "6aba0b1020864da6a7ab6d250292d541",
       "version_major": 2,
       "version_minor": 0
      },
      "text/plain": [
       "HBox(children=(Output(layout=Layout(width='80%')), Output(), Output(layout=Layout(width='25%'))))"
      ]
     },
     "metadata": {},
     "output_type": "display_data"
    },
    {
     "data": {
      "application/vnd.jupyter.widget-view+json": {
       "model_id": "ace7843efd444cf69dc8d26d1401d60d",
       "version_major": 2,
       "version_minor": 0
      },
      "text/plain": [
       "Button(description='Show Widgets', style=ButtonStyle())"
      ]
     },
     "metadata": {},
     "output_type": "display_data"
    }
   ],
   "source": [
    "view = viewer([ds_recons[62], ds_wf[62]], subplots=(1,2), title=['Feature', 'Widefield'], cmap='viridis', joint_zoom=True)"
   ]
  },
  {
   "cell_type": "code",
   "execution_count": 9,
   "metadata": {
    "kernel": "Python3"
   },
   "outputs": [],
   "source": [
    "with open(f'DNN4SIM_data/features_snr{snr}.npy', 'wb') as f:\n",
    "    np.save(f, ds_recons)\n",
    "#with open(f'DNN4SIM_data/labels_snr{snr}.npy', 'wb') as f:\n",
    "#    np.save(f, ds)\n",
    "with open(f'DNN4SIM_data/wf_snr{snr}.npy', 'wb') as f:\n",
    "    np.save(f, ds_wf)"
   ]
  },
  {
   "cell_type": "code",
   "execution_count": 7,
   "metadata": {
    "kernel": "Python3"
   },
   "outputs": [],
   "source": [
    "with open(f'DNN4SIM_data/features_snr{snr}_1.npy', 'wb') as f:\n",
    "    np.save(f, ds_recons[:ds_recons.shape[0]//2])\n",
    "with open(f'DNN4SIM_data/features_snr{snr}_2.npy', 'wb') as f:\n",
    "    np.save(f, ds_recons[ds_recons.shape[0]//2:])\n",
    "    \n",
    "#with open(f'DNN4SIM_data/labels_snr{snr}_1.npy', 'wb') as f:\n",
    "#    np.save(f, ds[:ds.shape[0]//2])\n",
    "#with open(f'DNN4SIM_data/labels_snr{snr}_2.npy', 'wb') as f:\n",
    "#    np.save(f, ds[ds.shape[0]//2:])\n",
    "    \n",
    "with open(f'DNN4SIM_data/wf_snr{snr}_1.npy', 'wb') as f:\n",
    "    np.save(f, ds_wf[:ds_wf.shape[0]//2])\n",
    "with open(f'DNN4SIM_data/wf_snr{snr}_2.npy', 'wb') as f:\n",
    "    np.save(f, ds_wf[ds_wf.shape[0]//2:])"
   ]
  },
  {
   "cell_type": "markdown",
   "metadata": {
    "kernel": "Python3"
   },
   "source": [
    "### Generating mixed dataset"
   ]
  },
  {
   "cell_type": "code",
   "execution_count": 19,
   "metadata": {
    "kernel": "Python3"
   },
   "outputs": [],
   "source": [
    "ds_snr = []\n",
    "snrs = ['15', '20']\n",
    "ds_type = 'wf'\n",
    "num = 2\n",
    "m = len(snrs)\n",
    "for i in range(m):\n",
    "    ds_snr.append(np.load(f'DNN4SIM_data/{ds_type}_snr{snrs[i]}_{num}.npy'))"
   ]
  },
  {
   "cell_type": "code",
   "execution_count": 20,
   "metadata": {
    "kernel": "Python3"
   },
   "outputs": [
    {
     "data": {
      "application/vnd.jupyter.widget-view+json": {
       "model_id": "c534d52de0744dba90a9a5c3b30444ea",
       "version_major": 2,
       "version_minor": 0
      },
      "text/plain": [
       "HBox(children=(Output(layout=Layout(width='80%')), Output(), Output(layout=Layout(width='25%'))))"
      ]
     },
     "metadata": {},
     "output_type": "display_data"
    },
    {
     "data": {
      "application/vnd.jupyter.widget-view+json": {
       "model_id": "62a6571b5f7744f58fb1b0fa60356c2f",
       "version_major": 2,
       "version_minor": 0
      },
      "text/plain": [
       "Button(description='Show Widgets', style=ButtonStyle())"
      ]
     },
     "metadata": {},
     "output_type": "display_data"
    }
   ],
   "source": [
    "plt.close('all')\n",
    "view = viewer([ds_snr[0][253], ds_snr[1][253]], subplots=(1,2), joint_zoom=True)"
   ]
  },
  {
   "cell_type": "code",
   "execution_count": 21,
   "metadata": {
    "kernel": "Python3"
   },
   "outputs": [],
   "source": [
    "ds_mixed = []\n",
    "for i in range(len(ds_snr[0])):\n",
    "    ds_mixed.append(ds_snr[m-1-i%m][i])"
   ]
  },
  {
   "cell_type": "code",
   "execution_count": 22,
   "metadata": {
    "kernel": "Python3"
   },
   "outputs": [
    {
     "data": {
      "application/vnd.jupyter.widget-view+json": {
       "model_id": "7d8a380e46cc42649f52326da902bd9a",
       "version_major": 2,
       "version_minor": 0
      },
      "text/plain": [
       "HBox(children=(Output(layout=Layout(width='80%')), Output(), Output(layout=Layout(width='25%'))))"
      ]
     },
     "metadata": {},
     "output_type": "display_data"
    },
    {
     "data": {
      "application/vnd.jupyter.widget-view+json": {
       "model_id": "10cdd217fe2a412eaa1b58e22c9e251b",
       "version_major": 2,
       "version_minor": 0
      },
      "text/plain": [
       "Button(description='Show Widgets', style=ButtonStyle())"
      ]
     },
     "metadata": {},
     "output_type": "display_data"
    }
   ],
   "source": [
    "plt.close('all')\n",
    "n = 253\n",
    "view = viewer([ds_mixed[n], ds_mixed[n+1], ds_mixed[n+2], ds_mixed[n+3]], subplots=(2,2), joint_zoom=True)"
   ]
  },
  {
   "cell_type": "code",
   "execution_count": 23,
   "metadata": {
    "kernel": "Python3"
   },
   "outputs": [],
   "source": [
    "# 1: 5, 10, 20, 35; 2: 5, 10, 15, 20; 3: 15, 20\n",
    "with open(f'DNN4SIM_data/{ds_type}_snrMIX3_{num}.npy', 'wb') as f:\n",
    "    np.save(f, ds_mixed)"
   ]
  },
  {
   "cell_type": "markdown",
   "metadata": {
    "kernel": "Python3"
   },
   "source": [
    "# Real test image"
   ]
  },
  {
   "cell_type": "code",
   "execution_count": 37,
   "metadata": {
    "kernel": "Python3"
   },
   "outputs": [
    {
     "name": "stdout",
     "output_type": "stream",
     "text": [
      "(9, 512, 512) (512, 512) (512, 512)\n"
     ]
    }
   ],
   "source": [
    "img_sim = skio.imread('DNN4SIM_data/real_images/cos7_utubule488.tif')\n",
    "img_recons = cv.resize(skio.imread('DNN4SIM_data/real_images/cos7_utubule488_SIM.tif'), (512,512), interpolation=cv.INTER_CUBIC )\n",
    "img_wf = skio.imread('DNN4SIM_data/real_images/cos7_utubule488_wfMean.tif')\n",
    "print(img_sim.shape, img_recons.shape, img_wf.shape)"
   ]
  },
  {
   "cell_type": "code",
   "execution_count": 38,
   "metadata": {
    "kernel": "Python3"
   },
   "outputs": [],
   "source": [
    "img_recons[img_recons<0] = 0\n",
    "img_wf[img_wf<0] = 0\n",
    "img_recons = (img_recons-np.min(img_recons))/(np.max(img_recons)-np.min(img_recons))\n",
    "img_wf = (img_wf-np.min(img_wf))/(np.max(img_wf)-np.min(img_wf))"
   ]
  },
  {
   "cell_type": "code",
   "execution_count": 40,
   "metadata": {
    "kernel": "Python3"
   },
   "outputs": [
    {
     "data": {
      "text/plain": [
       "True"
      ]
     },
     "execution_count": 40,
     "metadata": {},
     "output_type": "execute_result"
    }
   ],
   "source": [
    "cv.imwrite('DNN4SIM_data/sim_test_img_real.png', img_recons*255)\n",
    "cv.imwrite('DNN4SIM_data/sim_test_img_real_wf.png', img_wf*255)"
   ]
  },
  {
   "cell_type": "code",
   "execution_count": 39,
   "metadata": {
    "kernel": "Python3"
   },
   "outputs": [
    {
     "data": {
      "application/vnd.jupyter.widget-view+json": {
       "model_id": "7d58058a021a4f26b09459d41ed9b27a",
       "version_major": 2,
       "version_minor": 0
      },
      "text/plain": [
       "HBox(children=(Output(layout=Layout(width='80%')), Output(), Output(layout=Layout(width='25%'))))"
      ]
     },
     "metadata": {},
     "output_type": "display_data"
    },
    {
     "data": {
      "application/vnd.jupyter.widget-view+json": {
       "model_id": "0fba77936f054f378b229f8d39fd5905",
       "version_major": 2,
       "version_minor": 0
      },
      "text/plain": [
       "Button(description='Show Widgets', style=ButtonStyle())"
      ]
     },
     "metadata": {},
     "output_type": "display_data"
    }
   ],
   "source": [
    "plt.close('all')\n",
    "view = viewer([img_recons, img_wf], joint_zoom=True, cmap='viridis', subplots=(1,2))"
   ]
  },
  {
   "cell_type": "code",
   "execution_count": 7,
   "metadata": {
    "kernel": "Python3"
   },
   "outputs": [
    {
     "data": {
      "application/vnd.jupyter.widget-view+json": {
       "model_id": "b54c866c25de4a929338f394fbe9c07c",
       "version_major": 2,
       "version_minor": 0
      },
      "text/plain": [
       "HBox(children=(Output(layout=Layout(width='80%')), Output(), Output(layout=Layout(width='25%'))))"
      ]
     },
     "metadata": {},
     "output_type": "display_data"
    },
    {
     "data": {
      "application/vnd.jupyter.widget-view+json": {
       "model_id": "cc48d1bf66d0462badfcbdd4397152c7",
       "version_major": 2,
       "version_minor": 0
      },
      "text/plain": [
       "Button(description='Show Widgets', style=ButtonStyle())"
      ]
     },
     "metadata": {},
     "output_type": "display_data"
    },
    {
     "data": {
      "text/plain": [
       "<iplabs.IPLabViewer at 0x1ef262d2ac8>"
      ]
     },
     "execution_count": 7,
     "metadata": {},
     "output_type": "execute_result"
    }
   ],
   "source": [
    "images = [x for x in img_sim]\n",
    "view = viewer(images, subplots=(3,3))"
   ]
  }
 ],
 "metadata": {
  "kernelspec": {
   "display_name": "SoS",
   "language": "sos",
   "name": "sos"
  },
  "language_info": {
   "codemirror_mode": "sos",
   "file_extension": ".sos",
   "mimetype": "text/x-sos",
   "name": "sos",
   "nbconvert_exporter": "sos_notebook.converter.SoS_Exporter",
   "pygments_lexer": "sos"
  },
  "sos": {
   "kernels": [
    [
     "Python3",
     "python3",
     "Python3",
     "#FFD91A",
     {
      "name": "ipython",
      "version": 3
     }
    ]
   ],
   "panel": {
    "displayed": false,
    "height": 0
   },
   "version": "0.21.9"
  }
 },
 "nbformat": 4,
 "nbformat_minor": 4
}
