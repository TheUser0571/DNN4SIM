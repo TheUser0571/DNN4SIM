{
 "cells": [
  {
   "cell_type": "code",
   "execution_count": 1,
   "metadata": {
    "kernel": "Python3"
   },
   "outputs": [],
   "source": [
    "import numpy as np\n",
    "from pathlib import Path\n",
    "import matplotlib.pyplot as plt\n",
    "import cv2 as cv\n",
    "import scipy.io as sio\n",
    "\n",
    "%matplotlib widget\n",
    "\n",
    "import sys  \n",
    "sys.path.insert(0, 'lib')\n",
    "from iplabs import IPLabViewer as viewer\n",
    "\n",
    "# Print colors\n",
    "class bcolors:\n",
    "    HEADER = '\\033[95m'\n",
    "    OKBLUE = '\\033[94m'\n",
    "    OKGREEN = '\\033[92m'\n",
    "    WARNING = '\\033[93m'\n",
    "    FAIL = '\\033[91m'\n",
    "    ENDC = '\\033[0m'\n",
    "    BOLD = '\\033[1m'\n",
    "    UNDERLINE = '\\033[4m'"
   ]
  },
  {
   "cell_type": "code",
   "execution_count": 48,
   "metadata": {
    "kernel": "Python3"
   },
   "outputs": [],
   "source": [
    "# Load the entire sim dataset into a numpy array\n",
    "def load_dataset(path_to_raw):\n",
    "    ls = []\n",
    "    path_to_raw = Path(path_to_raw)\n",
    "\n",
    "    # Read images and resize them\n",
    "    print('Collecting images...   0%', end='\\r')\n",
    "    subdir_list = [f for f in path_to_raw.glob('*')]\n",
    "    for i, f in enumerate(subdir_list):\n",
    "        img = cv.imread(str(f), cv.IMREAD_GRAYSCALE)\n",
    "        sz = min(img.shape)//2\n",
    "        img = cv.resize(img[img.shape[0]//2 - sz:img.shape[0]//2 + sz, img.shape[1]//2 - sz:img.shape[1]//2 + sz], (1024, 1024))\n",
    "        img = img / np.max(img)\n",
    "        ls.append(img)\n",
    "        print(f'Collecting images... {i/len(subdir_list)*100:3.0f}%', end='\\r')\n",
    "    \n",
    "    print(f'Collecting images... {bcolors.OKGREEN}100%{bcolors.ENDC}')\n",
    "        \n",
    "    return np.array(ls)"
   ]
  },
  {
   "cell_type": "code",
   "execution_count": 49,
   "metadata": {
    "kernel": "Python3"
   },
   "outputs": [
    {
     "name": "stdout",
     "output_type": "stream",
     "text": [
      "Collecting images... \u001b[92m100%\u001b[0m\n"
     ]
    }
   ],
   "source": [
    "dataset = load_dataset('DNN4SIM_data/DIV2K')"
   ]
  },
  {
   "cell_type": "markdown",
   "metadata": {
    "kernel": "Python3"
   },
   "source": [
    "# Save dataset as .mat file"
   ]
  },
  {
   "cell_type": "code",
   "execution_count": 58,
   "metadata": {
    "kernel": "Python3"
   },
   "outputs": [],
   "source": [
    "for i in range(4):\n",
    "    with open(f'DNN4SIM_data/DIV2K_{i}.mat', 'wb') as f:\n",
    "        sio.savemat(f, {'data' : dataset[i*dataset.shape[0]//4:(i+1)*dataset.shape[0]//4]})"
   ]
  },
  {
   "cell_type": "markdown",
   "metadata": {
    "kernel": "Python3"
   },
   "source": [
    "# Generating the rosette"
   ]
  },
  {
   "cell_type": "code",
   "execution_count": 22,
   "metadata": {
    "kernel": "Python3"
   },
   "outputs": [],
   "source": [
    "rosette_512 = sio.loadmat(f'DNN4SIM_data/rosette_512.mat')['rosette']\n",
    "rosette_1024 = sio.loadmat(f'DNN4SIM_data/rosette_1024.mat')['rosette']\n",
    "rosette_512 = cv.morphologyEx(rosette_512, cv.MORPH_CLOSE, np.ones((3,3)))\n",
    "rosette_1024 = cv.morphologyEx(rosette_1024, cv.MORPH_CLOSE, np.ones((7,7)))"
   ]
  },
  {
   "cell_type": "code",
   "execution_count": 24,
   "metadata": {
    "kernel": "Python3"
   },
   "outputs": [
    {
     "data": {
      "application/vnd.jupyter.widget-view+json": {
       "model_id": "be32a9a5fbb94d9f96329b11b23d57b7",
       "version_major": 2,
       "version_minor": 0
      },
      "text/plain": [
       "HBox(children=(Output(layout=Layout(width='80%')), Output(), Output(layout=Layout(width='25%'))))"
      ]
     },
     "metadata": {},
     "output_type": "display_data"
    },
    {
     "data": {
      "application/vnd.jupyter.widget-view+json": {
       "model_id": "69a538496b8845eaa2b3119c918e9832",
       "version_major": 2,
       "version_minor": 0
      },
      "text/plain": [
       "Button(description='Show Widgets', style=ButtonStyle())"
      ]
     },
     "metadata": {},
     "output_type": "display_data"
    }
   ],
   "source": [
    "plt.close('all')\n",
    "view = viewer([rosette_512, rosette_1024], subplots=(1,2))"
   ]
  },
  {
   "cell_type": "code",
   "execution_count": 25,
   "metadata": {
    "kernel": "Python3"
   },
   "outputs": [],
   "source": [
    "with open('DNN4SIM_data/rosette_512.npy', 'wb') as f:\n",
    "    np.save(f, rosette_512)\n",
    "with open('DNN4SIM_data/rosette_1024.npy', 'wb') as f:\n",
    "    np.save(f, rosette_1024)"
   ]
  },
  {
   "cell_type": "markdown",
   "metadata": {
    "kernel": "Python3"
   },
   "source": [
    "# Generate NumPy dataset from reconstruction .mat files"
   ]
  },
  {
   "cell_type": "code",
   "execution_count": 30,
   "metadata": {
    "kernel": "Python3"
   },
   "outputs": [],
   "source": [
    "def apply_rosette(img, rosette):\n",
    "    FT = np.fft.fftshift(np.fft.fft2(img))\n",
    "    FT[rosette == 0] = 1e-5\n",
    "    return np.real(np.fft.ifft2(np.fft.ifftshift(FT)))\n",
    "\n",
    "def apply_fft(img):\n",
    "    FT = np.abs(np.fft.fftshift(np.fft.fft2(img)))\n",
    "    FT[FT == 0] = 1e-5\n",
    "    return 10*np.log10(FT)"
   ]
  },
  {
   "cell_type": "code",
   "execution_count": 7,
   "metadata": {
    "kernel": "Python3"
   },
   "outputs": [],
   "source": [
    "#ds_recons = []\n",
    "#ds = []\n",
    "ds_wf = []\n",
    "for i in range(4):\n",
    "    #ds_recons.append(sio.loadmat(f'DNN4SIM_data/DIV2K_recons_{i}.mat')['recons_data'])\n",
    "    #ds.append(sio.loadmat(f'DNN4SIM_data/DIV2K_{i}.mat')['data'])\n",
    "    ds_wf.append(sio.loadmat(f'DNN4SIM_data/DIV2K_wf_{i}.mat')['wf_data'])\n",
    "\n",
    "#ds_recons = np.concatenate(ds_recons, axis=0)\n",
    "#ds = np.concatenate(ds, axis=0)\n",
    "ds_wf = np.concatenate(ds_wf, axis=0)"
   ]
  },
  {
   "cell_type": "code",
   "execution_count": 7,
   "metadata": {
    "kernel": "Python3"
   },
   "outputs": [],
   "source": [
    "for i, x in enumerate(ds_recons):\n",
    "    ds_recons[i] = (x - np.min(x)) / (np.max(x) - np.min(x))"
   ]
  },
  {
   "cell_type": "code",
   "execution_count": 28,
   "metadata": {
    "kernel": "Python3"
   },
   "outputs": [],
   "source": [
    "rosette_1024 = np.load('DNN4SIM_data/rosette_1024.npy')\n",
    "for i, x in enumerate(ds):\n",
    "    x = apply_rosette(x, rosette_1024)\n",
    "    ds[i] = (x - np.min(x)) / (np.max(x) - np.min(x))"
   ]
  },
  {
   "cell_type": "code",
   "execution_count": 32,
   "metadata": {
    "kernel": "Python3"
   },
   "outputs": [
    {
     "data": {
      "application/vnd.jupyter.widget-view+json": {
       "model_id": "c4f320ad505f401697b4d39a5a9b4aa3",
       "version_major": 2,
       "version_minor": 0
      },
      "text/plain": [
       "HBox(children=(Output(layout=Layout(width='80%')), Output(), Output(layout=Layout(width='25%'))))"
      ]
     },
     "metadata": {},
     "output_type": "display_data"
    },
    {
     "data": {
      "application/vnd.jupyter.widget-view+json": {
       "model_id": "3a79071ea1da457db339cfbf89a12c87",
       "version_major": 2,
       "version_minor": 0
      },
      "text/plain": [
       "Button(description='Show Widgets', style=ButtonStyle())"
      ]
     },
     "metadata": {},
     "output_type": "display_data"
    }
   ],
   "source": [
    "view = viewer([ds[234], apply_fft(ds[234])], subplots=(2,1))"
   ]
  },
  {
   "cell_type": "code",
   "execution_count": 8,
   "metadata": {
    "kernel": "Python3"
   },
   "outputs": [],
   "source": [
    "#with open('features.npy', 'wb') as f:\n",
    "#    np.save(f, ds_recons)\n",
    "#with open('labels.npy', 'wb') as f:\n",
    "#    np.save(f, ds)\n",
    "with open('wf.npy', 'wb') as f:\n",
    "    np.save(f, ds_wf)"
   ]
  }
 ],
 "metadata": {
  "kernelspec": {
   "display_name": "SoS",
   "language": "sos",
   "name": "sos"
  },
  "language_info": {
   "codemirror_mode": "sos",
   "file_extension": ".sos",
   "mimetype": "text/x-sos",
   "name": "sos",
   "nbconvert_exporter": "sos_notebook.converter.SoS_Exporter",
   "pygments_lexer": "sos"
  },
  "sos": {
   "kernels": [
    [
     "Python3",
     "python3",
     "Python3",
     "#FFD91A",
     {
      "name": "ipython",
      "version": 3
     }
    ]
   ],
   "panel": {
    "displayed": false,
    "height": 0
   },
   "version": "0.21.9"
  }
 },
 "nbformat": 4,
 "nbformat_minor": 4
}
