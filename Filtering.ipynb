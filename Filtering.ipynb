{
 "cells": [
  {
   "cell_type": "markdown",
   "metadata": {
    "kernel": "SoS",
    "nbgrader": {
     "grade": false,
     "grade_id": "cell-2f137ed5983c4fea",
     "locked": true,
     "schema_version": 3,
     "solution": false,
     "task": false
    }
   },
   "source": [
    "<img src=\"https://www.epfl.ch/about/overview/wp-content/uploads/2020/07/logo-epfl-1024x576.png\" style=\"padding-right:10px;width:140px;float:left\"></td>\n",
    "<h2 style=\"white-space: nowrap\">Image Processing Laboratory Notebooks</h2>\n",
    "<hr style=\"clear:both\">\n",
    "<p style=\"font-size:0.85em; margin:2px; text-align:justify\">\n",
    "This Juypter notebook is part of a series of computer laboratories which are designed\n",
    "to teach image-processing programming; they are running on the EPFL's Noto server. They are the practical complement of the theoretical lectures of the EPFL's Master course <b>Image Processing I</b> \n",
    "(<a href=\"https://moodle.epfl.ch/course/view.php?id=522\">MICRO-511</a>) taught by Prof. M. Unser and Prof. D. Van de Ville.\n",
    "</p>\n",
    "<p style=\"font-size:0.85em; margin:2px; text-align:justify\">\n",
    "The project is funded by the Center for Digital Education and the School of Engineering. It is owned by the <a href=\"http://bigwww.epfl.ch/\">Biomedical Imaging Group</a>. \n",
    "The distribution or the reproduction of the notebook is strictly prohibited without the written consent of the authors.  &copy; EPFL 2020.\n",
    "</p>\n",
    "<p style=\"font-size:0.85em; margin:0px\"><b>Authors</b>: \n",
    "    <a href=\"mailto:pol.delaguilapla@epfl.ch\">Pol del Aguila Pla</a>, \n",
    "    <a href=\"mailto:kay.lachler@epfl.ch\">Kay Lächler</a>,\n",
    "    <a href=\"mailto:alejandro.nogueronaramburu@epfl.ch\">Alejandro Noguerón Arámburu</a>, and\n",
    "    <a href=\"mailto:daniel.sage@epfl.ch\">Daniel Sage</a>.\n",
    "</p>\n",
    "<hr style=\"clear:both\">\n",
    "<h1>Lab 2: Digital filtering</h1>\n",
    "<div style=\"background-color:#F0F0F0;padding:4px\">\n",
    "    <p style=\"margin:4px;\"><b>Released</b>: Thursday November 5, 2020</p>\n",
    "    <p style=\"margin:4px;\"><b>Submission</b>: <span style=\"color:red\">Friday November 13, 2020</span> (before 11:59PM) on <a href=\"https://moodle.epfl.ch/course/view.php?id=522\">Moodle</a></p>\n",
    "    <p style=\"margin:4px;\"><b>Grade weigth</b>: 10% of the overall grade</p>\n",
    "    <p style=\"margin:4px;\"><b>Remote help</b>: Monday November 9, on Zoom (see Moodle for link and time)</p>    \n",
    "    <p style=\"margin:4px;\"><b>Related lectures</b>: Chapter 3</p>\n",
    "</div>"
   ]
  },
  {
   "cell_type": "markdown",
   "metadata": {
    "kernel": "SoS"
   },
   "source": [
    "### Student Name: \n",
    "### SCIPER: \n",
    "\n",
    "Double-click on this cell and fill your name and SCIPER number. Then, run the cell below to verify your identity in Noto and set the seed for random results."
   ]
  },
  {
   "cell_type": "code",
   "execution_count": 1,
   "metadata": {
    "kernel": "SoS",
    "nbgrader": {
     "grade": false,
     "grade_id": "cell-5808010fef9a8499",
     "locked": true,
     "schema_version": 3,
     "solution": false,
     "task": false
    }
   },
   "outputs": [
    {
     "name": "stdout",
     "output_type": "stream",
     "text": [
      "SCIPER: 107\n"
     ]
    }
   ],
   "source": [
    "%use sos\n",
    "import getpass\n",
    "# This line recovers your camipro number to mark the images with your ID\n",
    "uid = int(getpass.getuser().split('-')[2]) if len(getpass.getuser().split('-')) > 2 else ord(getpass.getuser()[0])\n",
    "print(f'SCIPER: {uid}')"
   ]
  },
  {
   "cell_type": "markdown",
   "metadata": {
    "kernel": "SoS",
    "nbgrader": {
     "grade": false,
     "grade_id": "cell-22d02ae9386542b4",
     "locked": true,
     "schema_version": 3,
     "solution": false,
     "task": false
    }
   },
   "source": [
    "### <a name=\"imports_\"></a> Imports\n",
    "In the next cell we import the python libraries that we will use throughout the lab, as well as the `IPLabViewer()` class for interactive image visualization based on the `ipywidgets` library:\n",
    "* [`matplotlib.pyplot`](https://matplotlib.org), to display images\n",
    "* [`ipywidgets`](https://ipywidgets.readthedocs.io/en/latest/), to make the image display interactive\n",
    "* [`numpy`](https://numpy.org/doc/stable/reference/index.html), for mathematical operations on arrays\n",
    "* [`openCV` (cv2)](https://docs.opencv.org/2.4/index.html), for image-processing tasks\n",
    "* [`scipy.ndimage`](https://docs.scipy.org/doc/scipy/reference/ndimage.html), Scipy's specific module for multidimensional image processing\n",
    "* [`scikit-image` (skimage)](https://scikit-image.org/docs/stable/api/api.html), also for image-processing tasks\n",
    "\n",
    "We will then load the `IPLabViewer` class (either see the complete documentation [here](https://github.com/Biomedical-Imaging-Group/IPLabImageViewer/wiki/Python-IPLabViewer()-Class), run the python command `help(viewer)` after loading the class, or refer to [Lab 0: Introduction](./Introductory.ipynb)).\n",
    "\n",
    "Finally, we load the images you will use in the exercise to test your algorithms. "
   ]
  },
  {
   "cell_type": "code",
   "execution_count": 2,
   "metadata": {
    "kernel": "SoS",
    "nbgrader": {
     "grade": false,
     "grade_id": "cell-e71e32bb6c3077e0",
     "locked": true,
     "schema_version": 3,
     "solution": false,
     "task": false
    }
   },
   "outputs": [],
   "source": [
    "%use sos\n",
    "# Configure plotting as dynamic\n",
    "%matplotlib widget\n",
    "\n",
    "# Import standard required packages for this exercise\n",
    "import matplotlib.pyplot as plt\n",
    "import numpy as np\n",
    "import cv2 as cv \n",
    "import scipy.ndimage as ndi\n",
    "import ipywidgets as widgets\n",
    "import skimage\n",
    "from skimage import filters\n",
    "from skimage import io\n",
    "\n",
    "# Import IPLabViewer() Class\n",
    "from lib.iplabs import IPLabViewer as viewer\n",
    "\n",
    "# Load images to be used in this exercise \n",
    "bikesgray = plt.imread('images/bikesgray.tif')\n",
    "camera = plt.imread('images/camera-16bits.tif')\n",
    "spots = cv.imread('images/spots.tif',cv.IMREAD_UNCHANGED)"
   ]
  },
  {
   "cell_type": "code",
   "execution_count": 3,
   "metadata": {
    "kernel": "JavaScript",
    "nbgrader": {
     "grade": false,
     "grade_id": "cell-c6c746246d09f0e7",
     "locked": true,
     "schema_version": 3,
     "solution": false,
     "task": false
    }
   },
   "outputs": [],
   "source": [
    "%use javascript\n",
    "// import IPLabImageAccess as Image\n",
    "var Image = require('./lib/IPLabImageAccess.js')"
   ]
  },
  {
   "cell_type": "markdown",
   "metadata": {
    "kernel": "SoS",
    "nbgrader": {
     "grade": false,
     "grade_id": "cell-4b72a2bcfd3b306d",
     "locked": true,
     "schema_version": 3,
     "solution": false,
     "task": false
    }
   },
   "source": [
    "# <a name=\"filtering_lab\"></a> Digital filtering (15 Points)\n",
    "\n",
    "In this lab you will review the basics of digital image filtering. You will review topics such as separable filters, non-separable filters, filter design, and convolution. Finally, you will program a spot detector using digital filtering techniques.\n",
    "\n",
    "## Index\n",
    "1. [Edge detection](#-1.-Edge-detection-(3-points))\n",
    "    1. [Non-separable version](#-1.A.-Non-separable-version-(1-point)) (**1 point**)\n",
    "    2. [Separable version](#-1.B.-Separable-version-(2-points)) (**2 points**)\n",
    "    3. [Comparison: Separable vs Non-separable](#-1.C.-Comparison:-Separable-vs-Non-separable) \n",
    "    4. [Edge detection in Python](#-1.D.-Edge-detection-in-Python)\n",
    "2. [Implementation and classification of digital filters](#-2.-Implementation-and-classification-of-digital-filters-(3-points)) (**3 points**)\n",
    "    1. [Mask A](#-2.A.-Mask-A)\n",
    "    2. [Mask B](#-2.B.-Mask-B)\n",
    "    3. [Mask C](#-2.C.-Mask-C)\n",
    "    4. [Mask D](#-2.D.-Mask-D)\n",
    "    5. [Mask E](#-2.E.-Mask-E)\n",
    "    6. [Mask F](#-2.F.-Mask-F)\n",
    "3. [Gaussian filter](#-3.-Gaussian-filter-(4-points))\n",
    "    1. [Implementation of a 2D Gaussian filter](#-3.A.-Implementation-of-a-2D-Gaussian-filter-(4-points)) (**4 points**)\n",
    "    2. [Gaussian filter in Python](#-3.B.-Gaussian-filter-in-Python)\n",
    "4. [Application: Spot detector](#-4.-Application:-Spot-detector-(5-points))\n",
    "    1. [Difference of Gaussians](#-4.A.-Difference-of-Gaussians-(2-points)) (**2 points**)\n",
    "    2. [Local maxima](#-4.B.-Local-maxima-(1-point)) (**1 point**)\n",
    "    3. [Spot detector](#-4.C.-Spot-detector-(2-points)) (**2 points**)\n",
    "\n",
    "In particular, you will: \n",
    "* Fully understand the implementation of a digital filter (Sections 1 and 2);\n",
    "* Learn how to implement filters using different image-processing libraries in Python (Sections 1 and 2);\n",
    "* Implement a method `gaussian()` for separable Gaussian filtering (Section 3); and\n",
    "* Develop a practical application of filtering (Section 4).\n",
    "\n",
    "The goal is for you to fully understand the filtering algorithm at a pixel-by-pixel level (implementing it in JavaScript), and at the same time to learn the standard tools to use filtering in professional image-processing libraries in Python.\n",
    "\n",
    "<div class=\" alert alert-danger\">\n",
    "\n",
    "<b>Important:</b> Each cell that contains code begins with `%use sos` or `%use javascript`. This indicates if the code in this specific cell should be written in Python or JavaScript. Do not change or remove any lines of code that begin with an %. They are used for the notebook to run smoothly with <code>SoS</code> and need to be on the first line of each cell!\n",
    "</div>\n",
    "\n",
    "Good luck and enjoy! "
   ]
  },
  {
   "cell_type": "markdown",
   "metadata": {
    "kernel": "SoS",
    "nbgrader": {
     "grade": false,
     "grade_id": "cell-74e9fa45faa39321",
     "locked": true,
     "schema_version": 3,
     "solution": false,
     "task": false
    }
   },
   "source": [
    "### Visualize images\n",
    "Get familiar now with the images you are going to be using.\n",
    "\n",
    "Remember that to use the `IPLabViewer` class, you only need to call it with an image (make sure that the image is a `numpy.ndarray`, or a list of such arrays). From there, you can click the button `Show Widgets` and change the plotting range, visualize the histogram, get the statistics, etc."
   ]
  },
  {
   "cell_type": "code",
   "execution_count": 4,
   "metadata": {
    "kernel": "SoS"
   },
   "outputs": [
    {
     "data": {
      "application/vnd.jupyter.widget-view+json": {
       "model_id": "73be0cabde354ccfa0f2befa77eb4990",
       "version_major": 2,
       "version_minor": 0
      },
      "text/plain": [
       "HBox(children=(Output(layout=Layout(width='80%')), Output(), Output(layout=Layout(width='25%'))))"
      ]
     },
     "metadata": {},
     "output_type": "display_data"
    }
   ],
   "source": [
    "%use sos\n",
    "\n",
    "# Declare image_list for ImageViewer\n",
    "image_list = [bikesgray, camera, spots]\n",
    "\n",
    "imgs_viewer = viewer(image_list, widgets = True, hist = True)"
   ]
  },
  {
   "cell_type": "markdown",
   "metadata": {
    "kernel": "JavaScript",
    "nbgrader": {
     "grade": false,
     "grade_id": "cell-197bf6fba6c8591a",
     "locked": true,
     "schema_version": 3,
     "solution": false,
     "task": false
    }
   },
   "source": [
    "# <a class=\"anchor\"></a> 1. Edge detection (3 points)\n",
    "\n",
    "As you might remember from the course, edge detection algorithms try to outline steep intesity differences between neighbouring pixels. A common vertical edge detector (detecting changes in the $x$ direction) is the filter represented by the impulse response \n",
    "\n",
    "$$h[m,n] = \\begin{bmatrix} -1 & 0 & 1 \\\\ -2 & \\boxed{0} & 2 \\\\ -1 & 0 & 1 \\end{bmatrix}\\,.$$\n",
    "\n",
    "If pixels neighbouring a given pixel position all have a similar value, the output at that pixel will have a value close to zero after applying the mask. On the other hand, if there is a big difference in the values of the left and right columns, this likely indicates some kind of vertical edge and consequently the output at that location will have either a highly positive or highly negative intensity. "
   ]
  },
  {
   "cell_type": "markdown",
   "metadata": {
    "kernel": "JavaScript",
    "nbgrader": {
     "grade": false,
     "grade_id": "cell-6dbf92312a1ff865",
     "locked": true,
     "schema_version": 3,
     "solution": false,
     "task": false
    }
   },
   "source": [
    "## <a class=\"anchor\"></a> 1.A. Non-separable version (1 point)\n",
    "\n",
    "In the next cell we provide the method `filterNonSeparable()`. **This function is supposed to perform a convolution** on two input images `img` and `mask`. However, whoever implemented the function (_it certainly wasn't us_) had not heard about the difference between a correlation and a convolution. Long story short, the function does not provide the correct result. **For 1 point**, find the mistake and correct it in the cell below.\n",
    "\n",
    "<div class=\"alert alert-info\">\n",
    "\n",
    "**Hint:** The two-dimensional convolution between two images `h` and `f` is given by\n",
    "$$(h \\ast f)[x,y] = \\sum_{m \\in \\mathbb{Z}}\\sum_{n \\in \\mathbb{Z}}f[m,n]h[x-m,y-n]$$\n",
    "</div>"
   ]
  },
  {
   "cell_type": "code",
   "execution_count": 5,
   "metadata": {
    "kernel": "JavaScript"
   },
   "outputs": [],
   "source": [
    "%use javascript\n",
    "\n",
    "// function that performs a convolution on the two input parameters img and mask\n",
    "function filterNonSeparable(img, mask){\n",
    "    // create output Image, of the same shape as the input\n",
    "    var output = new Image(img.shape());\n",
    "    // iterate through every pixel\n",
    "    for(var x = 0; x < img.nx; x++){  \n",
    "        for(var y = 0; y < img.ny; y++){\n",
    "            // get neighbourhood with the size of mask of current position\n",
    "            var neigh = img.getNbh(x, y, mask.nx, mask.ny)\n",
    "            // perform convolution\n",
    "            var val = 0;\n",
    "            for(var k = 0; k < mask.nx; k++){\n",
    "                for(var l = 0; l < mask.ny; l++){\n",
    "                    val += neigh.getPixel(k, l) * mask.getPixel(k, l);\n",
    "                }\n",
    "            }\n",
    "            // assign value on output image\n",
    "            output.setPixel(x, y, val)\n",
    "        }\n",
    "    }\n",
    "    return output\n",
    "}"
   ]
  },
  {
   "cell_type": "markdown",
   "metadata": {
    "kernel": "JavaScript",
    "nbgrader": {
     "grade": false,
     "grade_id": "cell-1bf275d12cc9758b",
     "locked": true,
     "schema_version": 3,
     "solution": false,
     "task": false
    }
   },
   "source": [
    "Run the next cell to perform a sanity check (convolution of the mask with an impulse image)."
   ]
  },
  {
   "cell_type": "code",
   "execution_count": 6,
   "metadata": {
    "kernel": "JavaScript",
    "nbgrader": {
     "grade": false,
     "grade_id": "cell-1dabd588ee42d0a0",
     "locked": true,
     "schema_version": 3,
     "solution": false,
     "task": false
    }
   },
   "outputs": [
    {
     "name": "stdout",
     "output_type": "stream",
     "text": [
      "Convolving by an impulse should return the unchanged mask.\n",
      "Mask:\t [ [ -1, 0, 1 ], [ -2, 0, 2 ], [ -1, 0, 1 ] ]\n",
      "Result:\t [ [ 1, 0, -1 ], [ 2, 0, -2 ], [ 1, 0, -1 ] ]\n"
     ]
    },
    {
     "ename": "Error",
     "evalue": "Sorry, the function still provides an incorrect output.",
     "output_type": "error",
     "traceback": [
      "evalmachine.<anonymous>:10",
      "    throw new Error('Sorry, the function still provides an incorrect output.')",
      "    ^",
      "",
      "Error: Sorry, the function still provides an incorrect output.",
      "    at evalmachine.<anonymous>:10:11",
      "    at Script.runInThisContext (vm.js:120:20)",
      "    at Object.runInThisContext (vm.js:311:38)",
      "    at run ([eval]:1054:15)",
      "    at onRunRequest ([eval]:888:18)",
      "    at onMessage ([eval]:848:13)",
      "    at process.emit (events.js:315:20)",
      "    at emit (internal/child_process.js:876:12)",
      "    at processTicksAndRejections (internal/process/task_queues.js:85:21)"
     ]
    }
   ],
   "source": [
    "// Lets do a sanity check\n",
    "// we use a simple 3x3 impulse image\n",
    "var impulse = new Image([[0, 0, 0], [0, 1, 0], [0, 0, 0]]);\n",
    "// declare mask\n",
    "var mask = new Image([[-1, 0, 1],[-2, 0, 2],[-1, 0, 1]]);\n",
    "// check the result\n",
    "console.log('Convolving by an impulse should return the unchanged mask.\\nMask:\\t', mask.toArray() )\n",
    "console.log('Result:\\t', filterNonSeparable(impulse, mask).toArray());\n",
    "if(filterNonSeparable(impulse, mask).imageCompare(mask) == false){\n",
    "    throw new Error('Sorry, the function still provides an incorrect output.')\n",
    "}\n",
    "console.log('Well done, now the function probably performs a convolution!')"
   ]
  },
  {
   "cell_type": "markdown",
   "metadata": {
    "kernel": "JavaScript",
    "nbgrader": {
     "grade": false,
     "grade_id": "cell-d4b757e2b974576f",
     "locked": true,
     "schema_version": 3,
     "solution": false,
     "task": false
    }
   },
   "source": [
    "### Applying the function\n",
    "\n",
    "Run the next cell to apply the `filterNonSeparable` function with the mask given above to the images `bikesgray`, `camera` and `spots`."
   ]
  },
  {
   "cell_type": "code",
   "execution_count": 7,
   "metadata": {
    "kernel": "JavaScript",
    "nbgrader": {
     "grade": true,
     "grade_id": "cell-43d01fbb15e5a663",
     "locked": true,
     "points": 1,
     "schema_version": 3,
     "solution": false,
     "task": false
    }
   },
   "outputs": [
    {
     "ename": "Error",
     "evalue": "The filterNonSeparable function does not provide the correct output.",
     "output_type": "error",
     "traceback": [
      "evalmachine.<anonymous>:38",
      "    throw new Error('The filterNonSeparable function does not provide the correct output.')",
      "    ^",
      "",
      "Error: The filterNonSeparable function does not provide the correct output.",
      "    at evalmachine.<anonymous>:38:11",
      "    at Script.runInThisContext (vm.js:120:20)",
      "    at Object.runInThisContext (vm.js:311:38)",
      "    at run ([eval]:1054:15)",
      "    at onRunRequest ([eval]:888:18)",
      "    at onMessage ([eval]:848:13)",
      "    at process.emit (events.js:315:20)",
      "    at emit (internal/child_process.js:876:12)",
      "    at processTicksAndRejections (internal/process/task_queues.js:85:21)"
     ]
    }
   ],
   "source": [
    "%use javascript\n",
    "%get bikesgray camera spots\n",
    "%put vedge_bike_nons vedge_camera_nons vedge_spots_nons\n",
    "\n",
    "// apply Non separable filter\n",
    "var vedge_bike_nons = filterNonSeparable(new Image(bikesgray), mask).toArray();\n",
    "var vedge_spots_nons = filterNonSeparable(new Image(spots), mask).toArray();\n",
    "var vedge_camera_nons = filterNonSeparable(new Image(camera), mask).toArray();\n",
    "//### BEGIN HIDDEN TESTS\n",
    "// declare mask\n",
    "var mask = new Image([[-1, 0, 1],[-2, 0, 2],[-1, 0, 1]]);\n",
    "\n",
    "// function that performs a convolution on the two input parameters img and mask\n",
    "function filterNonSeparableCorrect(img, mask){\n",
    "    // create output Image, of the same shape as the input\n",
    "    var output = new Image(img.shape());\n",
    "    // iterate through every pixel\n",
    "    for(var x = 0; x < img.nx; x++){  \n",
    "        for(var y = 0; y < img.ny; y++){\n",
    "            // get neighbourhood with the size of mask of current position\n",
    "            var neigh = img.getNbh(x, y, mask.nx, mask.ny)\n",
    "            // perform convolution\n",
    "            var val = 0;\n",
    "            for(var k = 0; k < mask.nx; k++){\n",
    "                for(var l = 0; l < mask.ny; l++){\n",
    "                    val += neigh.getPixel(k, l) * mask.getPixel(mask.nx - 1 - k, mask.ny - 1 - l);\n",
    "                }\n",
    "            }\n",
    "            // assign value on output image\n",
    "            output.setPixel(x, y, val)\n",
    "        }\n",
    "    }\n",
    "    return output\n",
    "}\n",
    "// declare mask\n",
    "var mask = new Image([[-1, 0, 1],[-2, 0, 2],[-1, 0, 1]]);\n",
    "// run the functions\n",
    "var vedge_bike_nons_check = filterNonSeparable(new Image(bikesgray), mask);\n",
    "var vedge_bike_nons_correct = filterNonSeparableCorrect(new Image(bikesgray), mask);\n",
    "// check the result\n",
    "if(vedge_bike_nons_check.imageCompare(vedge_bike_nons_correct) == false){\n",
    "    throw new Error('The filterNonSeparable function does not provide the correct output.')\n",
    "}\n",
    "//### END HIDDEN TESTS"
   ]
  },
  {
   "cell_type": "markdown",
   "metadata": {
    "kernel": "JavaScript",
    "nbgrader": {
     "grade": false,
     "grade_id": "cell-eaf895c6a9a0fe0a",
     "locked": true,
     "schema_version": 3,
     "solution": false,
     "task": false
    }
   },
   "source": [
    "### Visualize the results\n",
    "We will use the `IPLabViewer` to take a look at the results of the edge detection. Run the next cell to visualize the results and use the `Next` / `Prev` buttons to cycle through the images."
   ]
  },
  {
   "cell_type": "code",
   "execution_count": 8,
   "metadata": {
    "kernel": "SoS",
    "nbgrader": {
     "grade": false,
     "grade_id": "cell-737f3f5d40ce108a",
     "locked": true,
     "schema_version": 3,
     "solution": false,
     "task": false
    }
   },
   "outputs": [
    {
     "data": {
      "application/vnd.jupyter.widget-view+json": {
       "model_id": "25d6bc9045cc4440bb4ba32cc93a110e",
       "version_major": 2,
       "version_minor": 0
      },
      "text/plain": [
       "HBox(children=(Output(layout=Layout(width='80%')), Output(), Output(layout=Layout(width='25%'))))"
      ]
     },
     "metadata": {},
     "output_type": "display_data"
    }
   ],
   "source": [
    "%use sos\n",
    "%get vedge_bike_nons vedge_camera_nons vedge_spots_nons --from javascript\n",
    "\n",
    "# Declare parameters for viewer\n",
    "image_list_nons = [vedge_bike_nons, vedge_camera_nons, vedge_spots_nons]\n",
    "title_list = ['Bike - Vertical edges', 'Camera - Vertical edges', 'Spots - Vertical edges']\n",
    "\n",
    "# Make sure that the images are numpy arrays and not lists\n",
    "for image in range(len(image_list_nons)):\n",
    "    image_list_nons[image] = np.array(image_list_nons[image])\n",
    "\n",
    "vedge_nons_viewer = viewer(image_list_nons, title = title_list, widgets=True)"
   ]
  },
  {
   "cell_type": "markdown",
   "metadata": {
    "kernel": "Python3",
    "nbgrader": {
     "grade": false,
     "grade_id": "cell-cf84e8455a646681",
     "locked": true,
     "schema_version": 3,
     "solution": false,
     "task": false
    }
   },
   "source": [
    "## <a class=\"anchor\"></a> 1.B. Separable version (2 points)\n",
    "\n",
    "In this subsection, you are going to modify the function `filterSeparable()` we provide to implement the separable version of the filter. This function is based on the method `filter1D()` (also declared in the next cell), which takes as input a row/column of the image and a 1D mask and performs a 1D convolution. Recall that separable filters are divided into two 1D masks (`mx` and `my` in the code below). \n",
    "\n",
    "In the next cell, **for 1 point** complete the method `filterSeparable()` by implementing the column filtering. The row filtering is already coded and can be used as a reference.\n",
    "\n",
    "<div class=\"alert alert-info\">\n",
    "    \n",
    "**Note:** `img.getRow(y)` extracts the $y^{\\text{th}}$ row from `img` while `output.putRow(y, new_row)` inserts `new_row` into the $y^{\\text{th}}$ row of `output`. Similarly you can use `.getColumn(x)` and `.putColumn(x, new_column)` to extract and insert columns from/to `Image` objects.\n",
    "</div>\n",
    "<div class=\"alert alert-info\">\n",
    "    \n",
    "**Hint:** If you don't remember how a separable filter works, review the theory in your course notes.\n",
    "</div>"
   ]
  },
  {
   "cell_type": "code",
   "execution_count": 71,
   "metadata": {
    "kernel": "JavaScript",
    "nbgrader": {
     "grade": false,
     "grade_id": "cell-91d7512eab988bf2",
     "locked": false,
     "schema_version": 3,
     "solution": true,
     "task": false
    }
   },
   "outputs": [],
   "source": [
    "%use javascript\n",
    "\n",
    "// function that performs a separable convolution on img using two 1D masks mx and my\n",
    "function filterSeparable(img, mx, my){\n",
    "    // initialize output Image, of the same shape as the input\n",
    "    var output = new Image(img.shape());\n",
    "    \n",
    "    // iterate through every row \n",
    "    for(var y = 0; y < img.ny; y++){\n",
    "        // extract row\n",
    "        var row = img.getRow(y);\n",
    "        // apply filter\n",
    "        var new_row = filter1D(row, mx)\n",
    "        // set column in output variable\n",
    "        output.putRow(y, new_row);    \n",
    "    }\n",
    "    // iterate through every column\n",
    "    for(var x = 0; x < img.nx; x++){\n",
    "        // filter the columns\n",
    "        \n",
    "        // BEGIN SOLUTION\n",
    "        // extract column\n",
    "        var column = output.getColumn(x);\n",
    "        // apply filter\n",
    "        var new_column = filter1D(column, my); \n",
    "        // set column in output variable\n",
    "        output.putColumn(x, new_column);\n",
    "        // END SOLUTION\n",
    "        \n",
    "    }\n",
    "    return output\n",
    "}\n",
    "\n",
    "// function that applies a 1D filter\n",
    "function filter1D(img, mask){\n",
    "    // transpose the input variables if necessary\n",
    "    if(img.nx == 1){\n",
    "        img.transposeImage();\n",
    "    }\n",
    "    if(mask.nx == 1){\n",
    "        mask.transposeImage();\n",
    "    }\n",
    "    // create the output image\n",
    "    var output = new Image(img.shape());\n",
    "    // iterate through all pixels\n",
    "    for(var x = 0; x < img.nx; x++){\n",
    "        // get the neighbourhood around position x\n",
    "        var neigh = img.getNbh(x, 0, mask.nx, 1);\n",
    "        // declare a variable to store the values of the convolution. \n",
    "        var val = 0;\n",
    "        // iterate through the neighbourhood\n",
    "        for(var i = 0; i < neigh.nx; i++){\n",
    "            // perform convolution\n",
    "            val += neigh.getPixel(i, 0) * mask.getPixel(mask.nx - 1 - i, 0);\n",
    "        }\n",
    "        // set value in output array\n",
    "        output.setPixel(x, 0, val);\n",
    "    }\n",
    "    return output\n",
    "}"
   ]
  },
  {
   "cell_type": "markdown",
   "metadata": {
    "kernel": "JavaScript",
    "nbgrader": {
     "grade": false,
     "grade_id": "cell-a01e57b63a6a2aee",
     "locked": true,
     "schema_version": 3,
     "solution": false,
     "task": false
    }
   },
   "source": [
    "### 1D masks\n",
    "\n",
    "In the cell below, **for 1 point** change the masks `mask_x` and `mask_y` to the correct 1D masks corresponding to the separable version of the vertical edge detection filter presented [at the beginning of this exercise](#-1.-Edge-detection-(3-points))."
   ]
  },
  {
   "cell_type": "code",
   "execution_count": 72,
   "metadata": {
    "kernel": "JavaScript",
    "nbgrader": {
     "grade": false,
     "grade_id": "cell-39c4339868e3faa2",
     "locked": false,
     "schema_version": 3,
     "solution": true,
     "task": false
    }
   },
   "outputs": [
    {
     "data": {
      "text/plain": [
       "IPLabImageAccess { image: [ [ 1, 2, 1 ] ], nx: 3, ny: 1 }"
      ]
     },
     "execution_count": 72,
     "metadata": {},
     "output_type": "execute_result"
    }
   ],
   "source": [
    "%use javascript\n",
    "%put mask_x mask_y\n",
    "// // change the masks to the correct value \n",
    "var mask_x = [0, 0, 0];\n",
    "var mask_y = [0, 0, 0];\n",
    "\n",
    "// BEGIN SOLUTION\n",
    "var mask_x = [-1, 0, 1];\n",
    "var mask_y = [1, 2, 1];\n",
    "// END SOLUTION\n",
    "\n",
    "// convert the masks to Image objects\n",
    "mask_x_img = new Image([mask_x]);\n",
    "mask_y_img = new Image([mask_y]);"
   ]
  },
  {
   "cell_type": "code",
   "execution_count": 73,
   "metadata": {
    "kernel": "JavaScript",
    "nbgrader": {
     "grade": true,
     "grade_id": "cell-f0edc6838129ae12",
     "locked": true,
     "points": 1,
     "schema_version": 3,
     "solution": false,
     "task": false
    }
   },
   "outputs": [
    {
     "name": "stdout",
     "output_type": "stream",
     "text": [
      "Convolving by an impulse should return the unchanged mask.\n",
      "Masks:\t [ [ -1, 0, 1 ], [ -2, 0, 2 ], [ -1, 0, 1 ] ]\n",
      "Result:  [ [ -1, 0, 1 ], [ -2, 0, 2 ], [ -1, 0, 1 ] ]\n",
      "Nice, the separable filter seems to be correct!\n"
     ]
    }
   ],
   "source": [
    "%use javascript\n",
    "// again let's do a sanity check with an impulse image\n",
    "var impulse = new Image([[0, 0, 0], [0, 1, 0], [0, 0, 0]]);\n",
    "// declare correct 2D mask\n",
    "var mask = new Image([[-1, 0, 1],[-2, 0, 2],[-1, 0, 1]]);\n",
    "// the result of a convolution with an impulse image should be the mask itself\n",
    "console.log('Convolving by an impulse should return the unchanged mask.\\nMasks:\\t', mask.toArray() )\n",
    "console.log('Result: ', filterSeparable(impulse, mask_x_img, mask_y_img).toArray());\n",
    "if(filterSeparable(impulse, mask_x_img, mask_y_img).imageCompare(mask) == false){\n",
    "    throw new Error('Sorry, the separable filter is not yet correct.');\n",
    "}\n",
    "console.log('Nice, the separable filter seems to be correct!');\n",
    "//### BEGIN HIDDEN TESTS\n",
    "// check that the column filtering was implemented correctly\n",
    "var mask_x_correct = new Image([[-1, 0, 1]]);\n",
    "var mask_y_correct = new Image([[1, 2, 1]]);\n",
    "\n",
    "if(filterSeparable(new Image(bikesgray), mask_x_correct, mask_y_correct).imageCompare(filterNonSeparableCorrect(new Image(bikesgray), mask)) == false){\n",
    "    throw new Error('the separable filter is not correct.');\n",
    "}\n",
    "//### END HIDDEN TESTS"
   ]
  },
  {
   "cell_type": "markdown",
   "metadata": {
    "kernel": "JavaScript",
    "nbgrader": {
     "grade": false,
     "grade_id": "cell-cbc3f7362589bdc4",
     "locked": true,
     "schema_version": 3,
     "solution": false,
     "task": false
    }
   },
   "source": [
    "### Apply the method on the same images. \n",
    "\n",
    "Run the next cell to apply the method to the same three images we have been using before."
   ]
  },
  {
   "cell_type": "code",
   "execution_count": 12,
   "metadata": {
    "kernel": "JavaScript",
    "nbgrader": {
     "grade": true,
     "grade_id": "cell-371402cb11573886",
     "locked": true,
     "points": 1,
     "schema_version": 3,
     "solution": false,
     "task": false
    }
   },
   "outputs": [],
   "source": [
    "%use javascript\n",
    "%put vedge_bike_s vedge_camera_s vedge_spots_s\n",
    "\n",
    "// Apply method on previously defined Images\n",
    "var vedge_bike_s = filterSeparable(new Image(bikesgray), mask_x_img, mask_y_img).toArray();\n",
    "var vedge_spots_s = filterSeparable(new Image(spots), mask_x_img, mask_y_img).toArray();\n",
    "var vedge_camera_s = filterSeparable(new Image(camera), mask_x_img, mask_y_img).toArray();\n",
    "//### BEGIN HIDDEN TESTS\n",
    "// check that they provide the correct masks\n",
    "var mask_x_correct = new Image([[-1, 0, 1]]);\n",
    "var mask_y_correct = new Image([[1, 2, 1]]);\n",
    "\n",
    "if(mask_x_correct.imageCompare(mask_x_img) == false || mask_y_correct.imageCompare(mask_y_img) == false){\n",
    "    console.log(mask_x_img.toArray(), mask_y_img.toArray())\n",
    "    throw new Error('The provided masks are not correct');\n",
    "}\n",
    "//### END HIDDEN TESTS"
   ]
  },
  {
   "cell_type": "markdown",
   "metadata": {
    "kernel": "JavaScript",
    "nbgrader": {
     "grade": false,
     "grade_id": "cell-5dd51236de517c9f",
     "locked": true,
     "schema_version": 3,
     "solution": false,
     "task": false
    }
   },
   "source": [
    "Now run the next one to visualize the results."
   ]
  },
  {
   "cell_type": "code",
   "execution_count": 13,
   "metadata": {
    "kernel": "SoS",
    "nbgrader": {
     "grade": false,
     "grade_id": "cell-664065187b4a1db7",
     "locked": true,
     "schema_version": 3,
     "solution": false,
     "task": false
    }
   },
   "outputs": [
    {
     "data": {
      "application/vnd.jupyter.widget-view+json": {
       "model_id": "74a173083ea34d958c1ed5081f788aad",
       "version_major": 2,
       "version_minor": 0
      },
      "text/plain": [
       "HBox(children=(Output(layout=Layout(width='80%')), Output(), Output(layout=Layout(width='25%'))))"
      ]
     },
     "metadata": {},
     "output_type": "display_data"
    }
   ],
   "source": [
    "%use sos\n",
    "# Declare the image list\n",
    "image_list_sep = [vedge_bike_s, vedge_camera_s, vedge_spots_s]\n",
    "title_list = ['Bike - Vertical edges', 'Camera - Vertical edges', 'Spots - Vertical edges']\n",
    "\n",
    "# Make sure that the images are numpy arrays and not lists\n",
    "for i, image in enumerate(image_list_sep):\n",
    "    image_list_sep[i] = np.array(image)\n",
    "\n",
    "plt.close('all')\n",
    "vedge_s_viewer = viewer(image_list_sep, title = title_list, widgets=True)"
   ]
  },
  {
   "cell_type": "markdown",
   "metadata": {
    "kernel": "Python3",
    "nbgrader": {
     "grade": false,
     "grade_id": "cell-c52bb35862da59d5",
     "locked": true,
     "schema_version": 3,
     "solution": false,
     "task": false
    }
   },
   "source": [
    "## <a class=\"anchor\"></a> 1.C. Comparison: Separable vs Non-separable\n",
    "\n",
    "Did you notice any difference between the separable and non-separable versions? Did you expect any difference? \n",
    "\n",
    "Explore the two histograms, zoom into different areas of the three images, and see if they are truly equal. There are several tests you can do to measure the equality of both implementations. You can even take the difference between the two images and visualize it (`image1 - image2`), or you can use the different methods provided by NumPy to compare arrays (see [numpy.testing.assert_array_equal](https://numpy.org/doc/stable/reference/generated/numpy.testing.assert_array_equal.html) and [numpy.testing.assert_array_almost_equal](https://numpy.org/doc/stable/reference/generated/numpy.testing.assert_array_almost_equal.html))  Use the next blank cell to do any necessary exploration. "
   ]
  },
  {
   "cell_type": "code",
   "execution_count": 14,
   "metadata": {
    "kernel": "SoS",
    "nbgrader": {
     "grade": false,
     "grade_id": "cell-cf3ac27ebe1266d6",
     "locked": false,
     "schema_version": 3,
     "solution": true,
     "task": false
    }
   },
   "outputs": [
    {
     "data": {
      "application/vnd.jupyter.widget-view+json": {
       "model_id": "64138e6ff72444d185b6659ec25241d7",
       "version_major": 2,
       "version_minor": 0
      },
      "text/plain": [
       "HBox(children=(Output(layout=Layout(width='80%')), Output(), Output(layout=Layout(width='25%'))))"
      ]
     },
     "metadata": {},
     "output_type": "display_data"
    }
   ],
   "source": [
    "%use sos\n",
    "\n",
    "### BEGIN SOLUTION\n",
    "image_list_diff = []\n",
    "for i in range(len(image_list_nons)):\n",
    "    image_list_diff.append(image_list_nons[i] - image_list_sep[i])\n",
    "    \n",
    "plt.close('all')\n",
    "diff_viewer = viewer(image_list_diff, title = title_list, widgets=True)\n",
    "### END SOLUTION"
   ]
  },
  {
   "cell_type": "markdown",
   "metadata": {
    "kernel": "Python3",
    "nbgrader": {
     "grade": false,
     "grade_id": "cell-89cfd0072f776104",
     "locked": true,
     "schema_version": 3,
     "solution": false,
     "task": false
    }
   },
   "source": [
    "## <a class=\"anchor\"></a> 1.D. Edge detection in Python\n",
    "\n",
    "In Python, the two functions `filterNonSeparate` and `filterSeparate` you implemented above are provided by the [`scipy.ndimage`](https://docs.scipy.org/doc/scipy/reference/ndimage.html) library. They are called [`convolve`](https://docs.scipy.org/doc/scipy/reference/generated/scipy.ndimage.convolve.html) and [`convolve1d`](https://docs.scipy.org/doc/scipy/reference/generated/scipy.ndimage.convolve1d.html), respectively. You can look at their documentation by clicking on their names.\n",
    "\n",
    "**Example:**\n",
    "\n",
    "To apply a non-separable filter with a 2D mask `mask` to the image `img` we use:\n",
    "```python\n",
    "filtered_img = ndi.convolve(img, mask, output=np.int32)\n",
    "```\n",
    "To apply a separable filter with two 1D masks `mask_x` and `mask_y` to the image `img` we use:\n",
    "```python\n",
    "# filter the columns\n",
    "filtered_img = ndi.convolve1d(img, mask_y, axis=0, output=np.int32)\n",
    "# filter the rows\n",
    "filtered_img = ndi.convolve1d(filtered_img, mask_x, axis=1, output=np.int32)\n",
    "```\n",
    "\n",
    "<div class=\"alert alert-info\">\n",
    "\n",
    "**Note:** We specify `output=np.int32` in the examples because the default type of the result is the same as that of the input image. In the case of `bikesgray` this would imply `np.uint8` (8-bit unsigned integer). However, we know that the gradient can take large positive and negative values, so an unsigned integer is not the right type. Because we know that the result will still be an integer because the mask only contains integers, we choose `np.int32` (32-bit signed integers). Reflect on which output type you would need to select to process `spots` by exploring its values and histogram using the viewer at the beginning of the lab. Make sure to re-run it if it does not respond, only one viewer is active at a time!\n",
    "</div>\n",
    "\n",
    "Let's compare the Python implementations to the JavaScript implementations to make sure that we get the same result. Run the cell below to compare the different versions and review your previous code if necessary. If you did everything correctly in Sections [1.A.](#-1.A.-Non-separable-version-(1-point)) and [1.B.](#-1.B.-Separable-version-(2-points)), all four images should look exactly the same!"
   ]
  },
  {
   "cell_type": "code",
   "execution_count": 15,
   "metadata": {
    "kernel": "SoS",
    "nbgrader": {
     "grade": false,
     "grade_id": "cell-847d91faeebc157a",
     "locked": true,
     "schema_version": 3,
     "solution": false,
     "task": false
    }
   },
   "outputs": [
    {
     "data": {
      "application/vnd.jupyter.widget-view+json": {
       "model_id": "f1cd1c00d10f4fc7af3bf2735102cbd9",
       "version_major": 2,
       "version_minor": 0
      },
      "text/plain": [
       "HBox(children=(Output(layout=Layout(width='80%')), Output(), Output(layout=Layout(width='25%'))))"
      ]
     },
     "metadata": {},
     "output_type": "display_data"
    },
    {
     "data": {
      "application/vnd.jupyter.widget-view+json": {
       "model_id": "acd0c90db0a84fa0a91220e670f478ed",
       "version_major": 2,
       "version_minor": 0
      },
      "text/plain": [
       "Button(description='Show Widgets', style=ButtonStyle())"
      ]
     },
     "metadata": {},
     "output_type": "display_data"
    }
   ],
   "source": [
    "%use sos \n",
    "# Define the 2D mask\n",
    "mask = np.array([[-1, 0, 1],[-2, 0, 2],[-1, 0, 1]])\n",
    "# Apply non-separable Filter\n",
    "vedge_ndi = ndi.convolve(bikesgray, mask, output=np.int32)\n",
    "# Apply separable Filter - we use mask_x and mask_y you defined in the exercise before\n",
    "# filter the columns\n",
    "vedge_ndi_s = ndi.convolve1d(bikesgray, mask_y, axis=0, output=np.int32)\n",
    "# filter the rows\n",
    "vedge_ndi_s = ndi.convolve1d(vedge_ndi_s, mask_x, axis=1, output=np.int32)\n",
    "# Visualize\n",
    "plt.close('all')\n",
    "vedge_viewer = viewer([np.array(vedge_bike_nons), vedge_ndi, np.array(vedge_bike_s), vedge_ndi_s], title=['JS non-separable', 'Python non-separable', 'JS separable', 'Python separable'], subplots=(2,2))"
   ]
  },
  {
   "cell_type": "markdown",
   "metadata": {
    "kernel": "SoS",
    "nbgrader": {
     "grade": false,
     "grade_id": "cell-88ed9417d9374ead",
     "locked": true,
     "schema_version": 3,
     "solution": false,
     "task": false
    }
   },
   "source": [
    "# <a class=\"anchor\"></a> 2. Implementation and classification of digital filters (3 points)\n",
    "\n",
    "In this exercise, we will look at 6 different digital filters. Your job, **for 3 points**, is to implement each one of the filters in Python, apply them to an image, and classify their visual effect.\n",
    "\n",
    "Note that you can define a 2D mask in Python with \n",
    "```python\n",
    "np.array([[ 1,  2,  3,  4,  5], \n",
    "          [ 6,  7,  8,  9, 10], \n",
    "          [11, 12, 13, 14, 15],\n",
    "          [16, 17, 18, 19, 20],\n",
    "          [21, 22, 23, 24, 25]])\n",
    "```\n",
    "and define a 1D mask in Python with\n",
    "```python\n",
    "np.array([1, 2, 3, 4, 5])\n",
    "```\n",
    "\n",
    "<div class=\"alert alert-danger\">\n",
    "\n",
    "**Important:** If the 2D mask is separable, implement it as a separable filter using `ndi.convolve1d` with the appropriate 1D masks. Otherwise, use `ndi.convolve`. Review Section [1.D.](#-1.D.-Edge-detection-in-Python) for an example. \n",
    "</div>"
   ]
  },
  {
   "cell_type": "markdown",
   "metadata": {
    "kernel": "SoS",
    "nbgrader": {
     "grade": false,
     "grade_id": "cell-25f8efa499cc3a13",
     "locked": true,
     "schema_version": 3,
     "solution": false,
     "task": false
    }
   },
   "source": [
    "## <a class=\"anchor\"></a> 2.A. Mask A\n",
    "In the cell below, **for 0.25 points**, implement the function `filter_A`, which convolves the input image with the filter\n",
    "\n",
    "$$A =\n",
    "\\begin{bmatrix}\n",
    "    0 & 0 & 1 & 0 & 0 \\\\\n",
    "    0 & 1 & 2 & 1 & 0 \\\\\n",
    "    1 & 2 & -16 & 2 & 1 \\\\\n",
    "    0 & 1 & 2 & 1 & 0 \\\\\n",
    "    0 & 0 & 1 & 0 & 0 \\\\\n",
    "\\end{bmatrix}\\,.$$\n",
    "\n",
    "Remember to check if the filter is separable, and in that case, implement it in that way."
   ]
  },
  {
   "cell_type": "code",
   "execution_count": 16,
   "metadata": {
    "kernel": "SoS",
    "nbgrader": {
     "grade": false,
     "grade_id": "cell-a49df00199c666c4",
     "locked": false,
     "schema_version": 3,
     "solution": true,
     "task": false
    }
   },
   "outputs": [],
   "source": [
    "%use sos\n",
    "\n",
    "# Function that filters img with the mask A\n",
    "def filter_A(img):\n",
    "    output = img.copy()\n",
    "    \n",
    "    # Filter the image with mask A\n",
    "    \n",
    "    ### BEGIN SOLUTION\n",
    "    # Define the mask\n",
    "    mask = np.array([ [ 0,  0,  1,  0,  0], \n",
    "                      [ 0,  1,  2,  1,  0], \n",
    "                      [ 1,  2,-16,  2,  1],\n",
    "                      [ 0,  1,  2,  1,  0],\n",
    "                      [ 0,  0,  1,  0,  0]])\n",
    "    \n",
    "    # Perform the filtering\n",
    "    output = ndi.convolve(img, mask, output=np.int32)\n",
    "    \n",
    "    ### END SOLUTION\n",
    "    \n",
    "    return output"
   ]
  },
  {
   "cell_type": "markdown",
   "metadata": {
    "kernel": "SoS",
    "nbgrader": {
     "grade": false,
     "grade_id": "cell-94a0847393c20373",
     "locked": true,
     "schema_version": 3,
     "solution": false,
     "task": false
    }
   },
   "source": [
    "Run the next cell to visualize the result of applying `filter_A` to the image `bikesgray`."
   ]
  },
  {
   "cell_type": "code",
   "execution_count": 17,
   "metadata": {
    "kernel": "SoS",
    "nbgrader": {
     "grade": true,
     "grade_id": "cell-1ff60c4e8ad4a813",
     "locked": true,
     "points": 0.25,
     "schema_version": 3,
     "solution": false,
     "task": false
    }
   },
   "outputs": [
    {
     "data": {
      "application/vnd.jupyter.widget-view+json": {
       "model_id": "2fc0318e5b514051888100ab9c7eefa7",
       "version_major": 2,
       "version_minor": 0
      },
      "text/plain": [
       "HBox(children=(Output(layout=Layout(width='80%')), Output(), Output(layout=Layout(width='25%'))))"
      ]
     },
     "metadata": {},
     "output_type": "display_data"
    },
    {
     "data": {
      "application/vnd.jupyter.widget-view+json": {
       "model_id": "1542bee1c6d64a808aa72e0b4ae8dd49",
       "version_major": 2,
       "version_minor": 0
      },
      "text/plain": [
       "Button(description='Show Widgets', style=ButtonStyle())"
      ]
     },
     "metadata": {},
     "output_type": "display_data"
    }
   ],
   "source": [
    "%use sos\n",
    "# Apply the function\n",
    "bikesgray_A = filter_A(bikesgray)\n",
    "# Visualize the result\n",
    "plt.close('all')\n",
    "vis_A = viewer([bikesgray, bikesgray_A], title=['Original', 'Convolved with filter A'], subplots=(1,2))\n",
    "### BEGIN HIDDEN TESTS\n",
    "# here we test that they use ndi.convolve exactly once with the correct mask\n",
    "\n",
    "from unittest.mock import patch\n",
    "\n",
    "# check that ndi.convolve1d was not called\n",
    "# set the ndi.convolve1d function as observed object\n",
    "with patch('__main__.ndi.convolve1d') as mock_operator:\n",
    "    # set the return value of the mock function\n",
    "    mock_operator.return_value = np.ones(bikesgray.shape)\n",
    "    # run the student function\n",
    "    filter_A(bikesgray)\n",
    "# check that ndi.convolve1d was not used\n",
    "mock_operator.assert_not_called()\n",
    "\n",
    "# set the ndi.convolve function as observed object\n",
    "with patch('__main__.ndi.convolve') as mock_operator:\n",
    "    # set the return value of the mock function\n",
    "    mock_operator.return_value = np.ones(bikesgray.shape)\n",
    "    # run the student function\n",
    "    filter_A(bikesgray)\n",
    "\n",
    "# check that ndi.convolve was used once\n",
    "mock_operator.assert_called_once()\n",
    "\n",
    "# Define the mask\n",
    "mask_correct = np.array([ [ 0,  0,  1,  0,  0], \n",
    "                          [ 0,  1,  2,  1,  0], \n",
    "                          [ 1,  2,-16,  2,  1],\n",
    "                          [ 0,  1,  2,  1,  0],\n",
    "                          [ 0,  0,  1,  0,  0]])\n",
    "\n",
    "# cycle through the calls made to the ndi.convolve function\n",
    "for call_args in mock_operator.call_args_list:\n",
    "    # extract the second argument passed to the function in each call and check if the correct mask was used\n",
    "    if np.testing.assert_array_equal(call_args[0][1], mask_correct) == False:\n",
    "        raise AssertionError(\"The provided mask is not correct\")\n",
    "        \n",
    "# to be sure, check that the output is correct as well\n",
    "np.testing.assert_array_almost_equal(ndi.convolve(bikesgray, mask_correct, output=np.int32), filter_A(bikesgray))\n",
    "### END HIDDEN TESTS"
   ]
  },
  {
   "cell_type": "markdown",
   "metadata": {
    "kernel": "SoS",
    "nbgrader": {
     "grade": false,
     "grade_id": "cell-8685fc2ecdf287cb",
     "locked": true,
     "schema_version": 3,
     "solution": false,
     "task": false
    }
   },
   "source": [
    "**For 0.25 points** answer the following question:<br>\n",
    "Which of the following keywords best describes the visual effect of this filter?\n",
    "\n",
    "1. isotropic blurring, or\n",
    "2. vertical blurring, or\n",
    "3. horizontal blurring, or\n",
    "4. diagonal blurring, or\n",
    "5. sharpening, or\n",
    "6. vertical edge detection, or\n",
    "7. horizontal edge detection, or\n",
    "8. diagonal edge detection, or\n",
    "9. Laplacian: a second order derivative to find edges (maxima and minima), or\n",
    "10. it has not effect."
   ]
  },
  {
   "cell_type": "code",
   "execution_count": 18,
   "metadata": {
    "kernel": "SoS",
    "nbgrader": {
     "grade": false,
     "grade_id": "cell-5447a7b75c32f43d",
     "locked": false,
     "schema_version": 3,
     "solution": true,
     "task": false
    }
   },
   "outputs": [],
   "source": [
    "%use sos\n",
    "# Assign your answer to this variable\n",
    "answer = None\n",
    "### BEGIN SOLUTION\n",
    "answer = 9\n",
    "### END SOLUTION"
   ]
  },
  {
   "cell_type": "code",
   "execution_count": 19,
   "metadata": {
    "kernel": "SoS",
    "nbgrader": {
     "grade": true,
     "grade_id": "cell-1aae516709224dc8",
     "locked": true,
     "points": 0.25,
     "schema_version": 3,
     "solution": false,
     "task": false
    }
   },
   "outputs": [],
   "source": [
    "%use sos\n",
    "# Sanity check\n",
    "assert answer in list(range(1,11)), 'Answer one of 1, 2, 3, 4, 5, 6, 7, 8, 9 or 10'\n",
    "### BEGIN HIDDEN TESTS\n",
    "assert answer == 9\n",
    "### END HIDDEN TESTS"
   ]
  },
  {
   "cell_type": "markdown",
   "metadata": {
    "kernel": "SoS",
    "nbgrader": {
     "grade": false,
     "grade_id": "cell-d287c24b60062255",
     "locked": true,
     "schema_version": 3,
     "solution": false,
     "task": false
    }
   },
   "source": [
    "## <a class=\"anchor\"></a> 2.B. Mask B\n",
    "In the cell below, **for 0.25 points**, implement the function `filter_B`, which convolves the input image with the filter\n",
    "\n",
    "$$B =\n",
    "\\begin{bmatrix}\n",
    "    0 & 1 & 2 & 1 & 0 \\\\\n",
    "    1 & 2 & 4 & 2 & 1 \\\\\n",
    "    2 & 4 & 8 & 4 & 2 \\\\\n",
    "    1 & 2 & 4 & 2 & 1 \\\\\n",
    "    0 & 1 & 2 & 1 & 0 \\\\\n",
    "\\end{bmatrix}\\,.$$\n",
    "\n",
    "Remember to check if the filter is separable, and in that case, implement it in that way."
   ]
  },
  {
   "cell_type": "code",
   "execution_count": 20,
   "metadata": {
    "kernel": "SoS",
    "nbgrader": {
     "grade": false,
     "grade_id": "cell-ea68ff81d2e30188",
     "locked": false,
     "schema_version": 3,
     "solution": true,
     "task": false
    }
   },
   "outputs": [],
   "source": [
    "%use sos\n",
    "\n",
    "# Function that filters img with the mask B\n",
    "def filter_B(img):\n",
    "    output = img.copy()\n",
    "    \n",
    "    # Filter the image with mask B\n",
    "    \n",
    "    ### BEGIN SOLUTION\n",
    "    # Define the mask\n",
    "    mask = np.array([ [ 0,  1,  2,  1,  0], \n",
    "                      [ 1,  2,  4,  2,  1], \n",
    "                      [ 2,  4,  8,  4,  2],\n",
    "                      [ 1,  2,  4,  2,  1],\n",
    "                      [ 0,  1,  2,  1,  0]])\n",
    "    \n",
    "    # Perform the filtering\n",
    "    output = ndi.convolve(img, mask, output=np.int32)\n",
    "    \n",
    "    ### END SOLUTION\n",
    "    \n",
    "    return output"
   ]
  },
  {
   "cell_type": "markdown",
   "metadata": {
    "kernel": "SoS",
    "nbgrader": {
     "grade": false,
     "grade_id": "cell-3caffb4abde56d6a",
     "locked": true,
     "schema_version": 3,
     "solution": false,
     "task": false
    }
   },
   "source": [
    "Run the next cell to visualize the result of applying `filter_B` to the image `bikesgray`."
   ]
  },
  {
   "cell_type": "code",
   "execution_count": 21,
   "metadata": {
    "kernel": "SoS",
    "nbgrader": {
     "grade": true,
     "grade_id": "cell-4bd2f074776e8c20",
     "locked": true,
     "points": 0.25,
     "schema_version": 3,
     "solution": false,
     "task": false
    }
   },
   "outputs": [
    {
     "data": {
      "application/vnd.jupyter.widget-view+json": {
       "model_id": "b7fd83460e4742c8b94272b5e10bf6ad",
       "version_major": 2,
       "version_minor": 0
      },
      "text/plain": [
       "HBox(children=(Output(layout=Layout(width='80%')), Output(), Output(layout=Layout(width='25%'))))"
      ]
     },
     "metadata": {},
     "output_type": "display_data"
    },
    {
     "data": {
      "application/vnd.jupyter.widget-view+json": {
       "model_id": "17cfbcab7e924f779b2b35b9fd294083",
       "version_major": 2,
       "version_minor": 0
      },
      "text/plain": [
       "Button(description='Show Widgets', style=ButtonStyle())"
      ]
     },
     "metadata": {},
     "output_type": "display_data"
    }
   ],
   "source": [
    "%use sos\n",
    "# Apply the function\n",
    "bikesgray_B = filter_B(bikesgray)\n",
    "# Visualize the result\n",
    "plt.close('all')\n",
    "vis_B = viewer([bikesgray, bikesgray_B], title=['Original', 'Filtered with mask B'], subplots=(1,2))\n",
    "### BEGIN HIDDEN TESTS\n",
    "# here we test that they use ndi.convolve exactly once with the correct mask\n",
    "\n",
    "from unittest.mock import patch\n",
    "\n",
    "# check that ndi.convolve1d was not called\n",
    "# set the ndi.convolve1d function as observed object\n",
    "with patch('__main__.ndi.convolve1d') as mock_operator:\n",
    "    # set the return value of the mock function\n",
    "    mock_operator.return_value = np.ones(bikesgray.shape)\n",
    "    # run the student function\n",
    "    filter_B(bikesgray)\n",
    "# check that ndi.convolve1d was not used\n",
    "mock_operator.assert_not_called()\n",
    "\n",
    "# set the ndi.convolve function as observed object\n",
    "with patch('__main__.ndi.convolve') as mock_operator:\n",
    "    # set the return value of the mock function\n",
    "    mock_operator.return_value = np.ones(bikesgray.shape)\n",
    "    # run the student function\n",
    "    filter_B(bikesgray)\n",
    "\n",
    "# check that ndi.convolve was used once\n",
    "mock_operator.assert_called_once()\n",
    "    \n",
    "# Define the mask\n",
    "mask_correct = np.array([ [ 0,  1,  2,  1,  0], \n",
    "                          [ 1,  2,  4,  2,  1], \n",
    "                          [ 2,  4,  8,  4,  2],\n",
    "                          [ 1,  2,  4,  2,  1],\n",
    "                          [ 0,  1,  2,  1,  0]])\n",
    "    \n",
    "# cycle through the calls made to the ndi.convolve function\n",
    "for call_args in mock_operator.call_args_list:\n",
    "    # extract the second argument passed to the function in each call and check if the correct mask was used\n",
    "    np.testing.assert_array_equal(call_args[0][1], mask_correct)\n",
    "        \n",
    "# to be sure, check that the output is correct as well\n",
    "np.testing.assert_array_almost_equal(ndi.convolve(bikesgray, mask_correct, output=np.int32), filter_B(bikesgray))\n",
    "### END HIDDEN TESTS"
   ]
  },
  {
   "cell_type": "markdown",
   "metadata": {
    "kernel": "SoS",
    "nbgrader": {
     "grade": false,
     "grade_id": "cell-b1fd0c4867b8446f",
     "locked": true,
     "schema_version": 3,
     "solution": false,
     "task": false
    }
   },
   "source": [
    "**For 0.25 points** answer the following question:<br>\n",
    "Which of the following keywords best describes the visual effect of this filter?\n",
    "\n",
    "1. isotropic blurring, or\n",
    "2. vertical blurring, or\n",
    "3. horizontal blurring, or\n",
    "4. diagonal blurring, or\n",
    "5. sharpening, or\n",
    "6. vertical edge detection, or\n",
    "7. horizontal edge detection, or\n",
    "8. diagonal edge detection, or\n",
    "9. Laplacian: a second order derivative to find edges (maxima and minima), or\n",
    "10. it has not effect."
   ]
  },
  {
   "cell_type": "code",
   "execution_count": 22,
   "metadata": {
    "kernel": "SoS",
    "nbgrader": {
     "grade": false,
     "grade_id": "cell-28826dd8aeee4fbd",
     "locked": false,
     "schema_version": 3,
     "solution": true,
     "task": false
    }
   },
   "outputs": [],
   "source": [
    "%use sos\n",
    "# Assign your answer to this variable\n",
    "answer = None\n",
    "### BEGIN SOLUTION\n",
    "answer = 1\n",
    "### END SOLUTION"
   ]
  },
  {
   "cell_type": "code",
   "execution_count": 23,
   "metadata": {
    "kernel": "SoS",
    "nbgrader": {
     "grade": true,
     "grade_id": "cell-69d785a8379b181c",
     "locked": true,
     "points": 0.25,
     "schema_version": 3,
     "solution": false,
     "task": false
    }
   },
   "outputs": [],
   "source": [
    "%use sos\n",
    "# Sanity check\n",
    "assert answer in list(range(1,11)), 'Answer one of 1, 2, 3, 4, 5, 6, 7, 8, 9 or 10'\n",
    "### BEGIN HIDDEN TESTS\n",
    "assert answer == 1\n",
    "### END HIDDEN TESTS"
   ]
  },
  {
   "cell_type": "markdown",
   "metadata": {
    "kernel": "SoS",
    "nbgrader": {
     "grade": false,
     "grade_id": "cell-f92cafcf93a0db16",
     "locked": true,
     "schema_version": 3,
     "solution": false,
     "task": false
    }
   },
   "source": [
    "## <a class=\"anchor\"></a> 2.C. Mask C\n",
    "In the cell below, **for 0.25 points**, implement the function `filter_C`, which convolves the input image with the filter\n",
    "\n",
    "$$C =\n",
    "\\begin{bmatrix}\n",
    "    -1 & -1 & -1 & -1 & -1 \\\\\n",
    "    -2 & -2 & -2 & -2 & -2 \\\\\n",
    "    0 & 0 & 0 & 0 & 0 \\\\\n",
    "    2 & 2 & 2 & 2 & 2 \\\\\n",
    "    1 & 1 & 1 & 1 & 1\n",
    "\\end{bmatrix}\\,.$$\n",
    "\n",
    "Remember to check if the filter is separable, and in that case, implement it in that way."
   ]
  },
  {
   "cell_type": "code",
   "execution_count": 37,
   "metadata": {
    "kernel": "SoS",
    "nbgrader": {
     "grade": false,
     "grade_id": "cell-272af542af1aac69",
     "locked": false,
     "schema_version": 3,
     "solution": true,
     "task": false
    }
   },
   "outputs": [],
   "source": [
    "%use sos\n",
    "\n",
    "# Function that filters img with the mask C\n",
    "def filter_C(img):\n",
    "    output = img.copy()\n",
    "    \n",
    "    # Filter the image with mask C\n",
    "    \n",
    "    ### BEGIN SOLUTION\n",
    "    # Define the mask\n",
    "    mask_x = np.array([1,  1,  1,  1,  1])\n",
    "    mask_y = np.array([-1,  -2,  0,  2,  1])\n",
    "    \n",
    "    # Perform the filtering\n",
    "    output = ndi.convolve1d(img, mask_y, axis=0, output=np.int32)\n",
    "    output = ndi.convolve1d(output, mask_x, axis=1, output=np.int32)\n",
    "    \n",
    "    ### END SOLUTION\n",
    "    \n",
    "    return output"
   ]
  },
  {
   "cell_type": "markdown",
   "metadata": {
    "kernel": "SoS",
    "nbgrader": {
     "grade": false,
     "grade_id": "cell-94d15031d58549ee",
     "locked": true,
     "schema_version": 3,
     "solution": false,
     "task": false
    }
   },
   "source": [
    "Run the next cell to visualize the result of applying `filter_C` to the image `bikesgray`."
   ]
  },
  {
   "cell_type": "code",
   "execution_count": 38,
   "metadata": {
    "kernel": "SoS",
    "nbgrader": {
     "grade": true,
     "grade_id": "cell-912e231be098ed1c",
     "locked": true,
     "points": 0.25,
     "schema_version": 3,
     "solution": false,
     "task": false
    }
   },
   "outputs": [
    {
     "data": {
      "application/vnd.jupyter.widget-view+json": {
       "model_id": "9ab305dd57934a3b87bf2aacd910edda",
       "version_major": 2,
       "version_minor": 0
      },
      "text/plain": [
       "HBox(children=(Output(layout=Layout(width='80%')), Output(), Output(layout=Layout(width='25%'))))"
      ]
     },
     "metadata": {},
     "output_type": "display_data"
    },
    {
     "data": {
      "application/vnd.jupyter.widget-view+json": {
       "model_id": "b5f9d1dd864846418fc072b43528b3f1",
       "version_major": 2,
       "version_minor": 0
      },
      "text/plain": [
       "Button(description='Show Widgets', style=ButtonStyle())"
      ]
     },
     "metadata": {},
     "output_type": "display_data"
    }
   ],
   "source": [
    "%use sos\n",
    "# Apply the function\n",
    "bikesgray_C = filter_C(bikesgray)\n",
    "# Visualize the result\n",
    "plt.close('all')\n",
    "vis_C = viewer([bikesgray, bikesgray_C], title=['Original', 'Filtered with mask C'], subplots=(1,2))\n",
    "### BEGIN HIDDEN TESTS\n",
    "# here we test that they use ndi.convolve1d exactly twice with the correct masks\n",
    "\n",
    "from unittest.mock import patch\n",
    "\n",
    "# check that ndi.convolve was not called\n",
    "# set the ndi.convolve function as observed object\n",
    "with patch('__main__.ndi.convolve') as mock_operator:\n",
    "    # set the return value of the mock function\n",
    "    mock_operator.return_value = np.ones(bikesgray.shape)\n",
    "    # run the student function\n",
    "    filter_C(bikesgray)\n",
    "\n",
    "# check that ndi.convolve was used once\n",
    "mock_operator.assert_not_called()\n",
    "\n",
    "# set the ndi.convolve1d function as observed object\n",
    "with patch('__main__.ndi.convolve1d') as mock_operator:\n",
    "    # set the return value of the mock function\n",
    "    mock_operator.return_value = np.ones(bikesgray.shape)\n",
    "    # run the student function\n",
    "    filter_C(bikesgray)\n",
    "# check that ndi.convolve1d was used twice\n",
    "mock_operator.assert_called()\n",
    "if len(mock_operator.call_args_list) != 2:\n",
    "    raise AssertionError('Separable filter was not implemented correctly')\n",
    "    \n",
    "# Define the masks\n",
    "mask_x_correct = np.array([1,  1,  1,  1,  1])\n",
    "mask_y_correct = np.array([-1,  -2,  0,  2,  1])\n",
    "# Student masks\n",
    "mask_x_test = None\n",
    "mask_y_test = None\n",
    "    \n",
    "# Cycle through the calls made to the ndi.convolve function\n",
    "for call_args in mock_operator.call_args_list:\n",
    "    # Extract the second argument passed to the function in each call and check if the correct mask was used\n",
    "    axis = None\n",
    "    try:\n",
    "        axis = call_args[1]['axis']\n",
    "    except KeyError:\n",
    "        axis = call_args[0][2]\n",
    "    if axis == 0:\n",
    "        # axis 0\n",
    "        mask_y_test = call_args[0][1]\n",
    "    elif axis == 1:\n",
    "        # axis 1\n",
    "        mask_x_test = call_args[0][1]\n",
    "\n",
    "# Check the student masks\n",
    "assert mask_x_correct @ mask_y_correct == mask_x_test @ mask_y_test, 'The masks are not correct.'\n",
    "\n",
    "# to be sure, check that the output is correct as well\n",
    "np.testing.assert_array_almost_equal(ndi.convolve1d(ndi.convolve1d(bikesgray, mask_y_correct, axis=0, output=np.int32), mask_x_correct, axis=1, output=np.int32), filter_C(bikesgray))\n",
    "### END HIDDEN TESTS"
   ]
  },
  {
   "cell_type": "markdown",
   "metadata": {
    "kernel": "SoS",
    "nbgrader": {
     "grade": false,
     "grade_id": "cell-91f9deee1a55bd99",
     "locked": true,
     "schema_version": 3,
     "solution": false,
     "task": false
    }
   },
   "source": [
    "**For 0.25 points** answer the following question:<br>\n",
    "Which of the following keywords best describes the visual effect of this filter?\n",
    "\n",
    "1. isotropic blurring, or\n",
    "2. vertical blurring, or\n",
    "3. horizontal blurring, or\n",
    "4. diagonal blurring, or\n",
    "5. sharpening, or\n",
    "6. vertical edge detection, or\n",
    "7. horizontal edge detection, or\n",
    "8. diagonal edge detection, or\n",
    "9. Laplacian: a second order derivative to find edges (maxima and minima), or\n",
    "10. it has not effect."
   ]
  },
  {
   "cell_type": "code",
   "execution_count": 41,
   "metadata": {
    "kernel": "SoS",
    "nbgrader": {
     "grade": false,
     "grade_id": "cell-f16ee02c059ed28a",
     "locked": false,
     "schema_version": 3,
     "solution": true,
     "task": false
    }
   },
   "outputs": [],
   "source": [
    "%use sos\n",
    "# Assign your answer to this variable\n",
    "answer = None\n",
    "### BEGIN SOLUTION\n",
    "answer = 7\n",
    "### END SOLUTION"
   ]
  },
  {
   "cell_type": "code",
   "execution_count": 42,
   "metadata": {
    "kernel": "SoS",
    "nbgrader": {
     "grade": true,
     "grade_id": "cell-6186de8d22151933",
     "locked": true,
     "points": 0.25,
     "schema_version": 3,
     "solution": false,
     "task": false
    }
   },
   "outputs": [],
   "source": [
    "%use sos\n",
    "# Sanity check\n",
    "assert answer in list(range(1,11)), 'Answer one of 1, 2, 3, 4, 5, 6, 7, 8, 9 or 10'\n",
    "### BEGIN HIDDEN TESTS\n",
    "assert answer == 7\n",
    "### END HIDDEN TESTS"
   ]
  },
  {
   "cell_type": "markdown",
   "metadata": {
    "kernel": "SoS",
    "nbgrader": {
     "grade": false,
     "grade_id": "cell-43a53842332bbb66",
     "locked": true,
     "schema_version": 3,
     "solution": false,
     "task": false
    }
   },
   "source": [
    "## <a class=\"anchor\"></a> 2.D. Mask D\n",
    "In the cell below, **for 0.25 points**, implement the function `filter_D`, which convolves the input image with the filter\n",
    "\n",
    "$$D = \n",
    "\\begin{bmatrix}\n",
    "-1 & -4 & -6 & -4 & -1 \\\\\n",
    "-4 & -16 & -24 & -16 & -4 \\\\\n",
    "-6 & -24 & 476 & -24 & -6 \\\\\n",
    "-4 & -16 & -24 & -16 & -4 \\\\\n",
    "-1 & -4 & -6 & -4 & -1\n",
    "\\end{bmatrix}\\,.$$\n",
    "\n",
    "Remember to check if the filter is separable, and in that case, implement it in that way."
   ]
  },
  {
   "cell_type": "code",
   "execution_count": 43,
   "metadata": {
    "kernel": "SoS",
    "nbgrader": {
     "grade": false,
     "grade_id": "cell-4ab67e5043c326fc",
     "locked": false,
     "schema_version": 3,
     "solution": true,
     "task": false
    }
   },
   "outputs": [],
   "source": [
    "%use sos\n",
    "\n",
    "# Function that filters img with the mask D\n",
    "def filter_D(img):\n",
    "    output = img.copy()\n",
    "    \n",
    "    # Filter the image with mask D\n",
    "    \n",
    "    ### BEGIN SOLUTION\n",
    "    # Define the mask\n",
    "    mask = np.array([ [-1, -4, -6, -4, -1], \n",
    "                      [-4,-16,-24,-16, -4], \n",
    "                      [-6,-24,476,-24, -6],\n",
    "                      [-4,-16,-24,-16, -4],\n",
    "                      [-1, -4, -6, -4, -1]])\n",
    "    \n",
    "    # Perform the filtering\n",
    "    output = ndi.convolve(img, mask, output=np.int32)\n",
    "    \n",
    "    ### END SOLUTION\n",
    "    \n",
    "    return output"
   ]
  },
  {
   "cell_type": "markdown",
   "metadata": {
    "kernel": "SoS",
    "nbgrader": {
     "grade": false,
     "grade_id": "cell-c647c16bf1a486a2",
     "locked": true,
     "schema_version": 3,
     "solution": false,
     "task": false
    }
   },
   "source": [
    "Run the next cell to visualize the result of applying `filter_D` to the image `bikesgray`."
   ]
  },
  {
   "cell_type": "code",
   "execution_count": 44,
   "metadata": {
    "kernel": "SoS",
    "nbgrader": {
     "grade": true,
     "grade_id": "cell-cc68125ec3aea436",
     "locked": true,
     "points": 0.25,
     "schema_version": 3,
     "solution": false,
     "task": false
    }
   },
   "outputs": [
    {
     "data": {
      "application/vnd.jupyter.widget-view+json": {
       "model_id": "dc8195fefe6b4ff590239366af7af759",
       "version_major": 2,
       "version_minor": 0
      },
      "text/plain": [
       "HBox(children=(Output(layout=Layout(width='80%')), Output(), Output(layout=Layout(width='25%'))))"
      ]
     },
     "metadata": {},
     "output_type": "display_data"
    },
    {
     "data": {
      "application/vnd.jupyter.widget-view+json": {
       "model_id": "10160f18058349a68d0224a4ba136364",
       "version_major": 2,
       "version_minor": 0
      },
      "text/plain": [
       "Button(description='Show Widgets', style=ButtonStyle())"
      ]
     },
     "metadata": {},
     "output_type": "display_data"
    }
   ],
   "source": [
    "%use sos\n",
    "# Apply the function\n",
    "bikesgray_D = filter_D(bikesgray)\n",
    "# Visualize the result\n",
    "plt.close('all')\n",
    "vis_D = viewer([bikesgray, bikesgray_D], title=['Original', 'Filtered with mask D'], subplots=(1,2))\n",
    "### BEGIN HIDDEN TESTS\n",
    "# here we test that they use ndi.convolve exactly once with the correct mask\n",
    "\n",
    "from unittest.mock import patch\n",
    "\n",
    "# check that ndi.convolve1d was not called\n",
    "# set the ndi.convolve1d function as observed object\n",
    "with patch('__main__.ndi.convolve1d') as mock_operator:\n",
    "    # set the return value of the mock function\n",
    "    mock_operator.return_value = np.ones(bikesgray.shape)\n",
    "    # run the student function\n",
    "    filter_D(bikesgray)\n",
    "# check that ndi.convolve1d was used twice\n",
    "mock_operator.assert_not_called()\n",
    "\n",
    "# set the ndi.convolve function as observed object\n",
    "with patch('__main__.ndi.convolve') as mock_operator:\n",
    "    # set the return value of the mock function\n",
    "    mock_operator.return_value = np.ones(bikesgray.shape)\n",
    "    # run the student function\n",
    "    filter_D(bikesgray)\n",
    "\n",
    "# check that ndi.convolve was used once\n",
    "mock_operator.assert_called_once()\n",
    "    \n",
    "# Define the mask\n",
    "mask_correct = np.array([ [-1, -4, -6, -4, -1], \n",
    "                          [-4,-16,-24,-16, -4], \n",
    "                          [-6,-24,476,-24, -6],\n",
    "                          [-4,-16,-24,-16, -4],\n",
    "                          [-1, -4, -6, -4, -1]])\n",
    "    \n",
    "# cycle through the calls made to the ndi.convolve function\n",
    "for call_args in mock_operator.call_args_list:\n",
    "    # extract the second argument passed to the function in each call and check if the correct mask was used\n",
    "    np.testing.assert_array_equal(call_args[0][1], mask_correct)\n",
    "        \n",
    "# to be sure, check that the output is correct as well\n",
    "np.testing.assert_array_almost_equal(ndi.convolve(bikesgray, mask_correct, output=np.int32), filter_D(bikesgray))\n",
    "### END HIDDEN TESTS"
   ]
  },
  {
   "cell_type": "markdown",
   "metadata": {
    "kernel": "SoS",
    "nbgrader": {
     "grade": false,
     "grade_id": "cell-0b65f5379d705bc4",
     "locked": true,
     "schema_version": 3,
     "solution": false,
     "task": false
    }
   },
   "source": [
    "**For 0.25 points** answer the following question:<br>\n",
    "Which of the following keywords best describes the visual effect of this filter?\n",
    "\n",
    "1. isotropic blurring, or\n",
    "2. vertical blurring, or\n",
    "3. horizontal blurring, or\n",
    "4. diagonal blurring, or\n",
    "5. sharpening, or\n",
    "6. vertical edge detection, or\n",
    "7. horizontal edge detection, or\n",
    "8. diagonal edge detection, or\n",
    "9. Laplacian: a second order derivative to find edges (maxima and minima), or\n",
    "10. it has not effect."
   ]
  },
  {
   "cell_type": "code",
   "execution_count": 45,
   "metadata": {
    "kernel": "SoS",
    "nbgrader": {
     "grade": false,
     "grade_id": "cell-deab1ba862c2eff9",
     "locked": false,
     "schema_version": 3,
     "solution": true,
     "task": false
    }
   },
   "outputs": [],
   "source": [
    "%use sos\n",
    "# Assign your answer to this variable\n",
    "answer = None\n",
    "### BEGIN SOLUTION\n",
    "answer = 5\n",
    "### END SOLUTION"
   ]
  },
  {
   "cell_type": "code",
   "execution_count": 46,
   "metadata": {
    "kernel": "SoS",
    "nbgrader": {
     "grade": true,
     "grade_id": "cell-8e4a71699dc0e13a",
     "locked": true,
     "points": 0.25,
     "schema_version": 3,
     "solution": false,
     "task": false
    }
   },
   "outputs": [],
   "source": [
    "%use sos\n",
    "# Sanity check\n",
    "assert answer in list(range(1,11)), 'Answer one of 1, 2, 3, 4, 5, 6, 7, 8, 9 or 10'\n",
    "### BEGIN HIDDEN TESTS\n",
    "assert answer == 5\n",
    "### END HIDDEN TESTS"
   ]
  },
  {
   "cell_type": "markdown",
   "metadata": {
    "kernel": "SoS",
    "nbgrader": {
     "grade": false,
     "grade_id": "cell-f2e72c21bcc037a0",
     "locked": true,
     "schema_version": 3,
     "solution": false,
     "task": false
    }
   },
   "source": [
    "## <a class=\"anchor\"></a> 2.E. Mask E\n",
    "In the cell below, **for 0.25 points**, implement the function `filter_E`, which convolves the input image with the filter \n",
    "\n",
    "$$E = \n",
    "\\begin{bmatrix}\n",
    "    0 & 0 & 0 & 0 & 0 \\\\\n",
    "    0 & 0 & 0 & 0 & 0 \\\\\n",
    "    0 & 0 & 1 & 0 & 0 \\\\\n",
    "    0 & 0 & 0 & 0 & 0 \\\\\n",
    "    0 & 0 & 0 & 0 & 0 \\\\\n",
    "\\end{bmatrix}\\,.$$\n",
    "\n",
    "Remember to check if the filter is separable, and in that case, implement it in that way."
   ]
  },
  {
   "cell_type": "code",
   "execution_count": 51,
   "metadata": {
    "kernel": "SoS",
    "nbgrader": {
     "grade": false,
     "grade_id": "cell-173cb71050c2c7e1",
     "locked": false,
     "schema_version": 3,
     "solution": true,
     "task": false
    }
   },
   "outputs": [],
   "source": [
    "%use sos\n",
    "\n",
    "# Function that filters img with the mask E\n",
    "def filter_E(img):\n",
    "    output = img.copy()\n",
    "    \n",
    "    # Filter the image with mask E\n",
    "    \n",
    "    ### BEGIN SOLUTION\n",
    "    # Define the mask\n",
    "    mask_x = np.array([0,  0,  1,  0,  0])\n",
    "    mask_y = np.array([0,  0,  1,  0,  0])\n",
    "    \n",
    "    # Perform the filtering\n",
    "    output = ndi.convolve1d(img, mask_y, axis=0, output=np.int32)\n",
    "    output = ndi.convolve1d(output, mask_x, axis=1, output=np.int32)\n",
    "    \n",
    "    ### END SOLUTION\n",
    "    \n",
    "    return output"
   ]
  },
  {
   "cell_type": "markdown",
   "metadata": {
    "kernel": "SoS",
    "nbgrader": {
     "grade": false,
     "grade_id": "cell-7a9854133b2bfe83",
     "locked": true,
     "schema_version": 3,
     "solution": false,
     "task": false
    }
   },
   "source": [
    "Run the next cell to visualize the result of applying `filter_E` to the image `bikesgray`."
   ]
  },
  {
   "cell_type": "code",
   "execution_count": 52,
   "metadata": {
    "kernel": "SoS",
    "nbgrader": {
     "grade": true,
     "grade_id": "cell-817aa10b2ac7c506",
     "locked": true,
     "points": 0.25,
     "schema_version": 3,
     "solution": false,
     "task": false
    }
   },
   "outputs": [
    {
     "data": {
      "application/vnd.jupyter.widget-view+json": {
       "model_id": "b8007441a4e447d3bbff2c95017d2da1",
       "version_major": 2,
       "version_minor": 0
      },
      "text/plain": [
       "HBox(children=(Output(layout=Layout(width='80%')), Output(), Output(layout=Layout(width='25%'))))"
      ]
     },
     "metadata": {},
     "output_type": "display_data"
    },
    {
     "data": {
      "application/vnd.jupyter.widget-view+json": {
       "model_id": "8b6a7164c9074f5c8497e0e5fab539f9",
       "version_major": 2,
       "version_minor": 0
      },
      "text/plain": [
       "Button(description='Show Widgets', style=ButtonStyle())"
      ]
     },
     "metadata": {},
     "output_type": "display_data"
    }
   ],
   "source": [
    "%use sos\n",
    "# Apply the function\n",
    "bikesgray_E = filter_E(bikesgray)\n",
    "# Visualize the result\n",
    "plt.close('all')\n",
    "vis_E = viewer([bikesgray, bikesgray_E], title=['Original', 'Filtered with mask E'], subplots=(1,2))\n",
    "### BEGIN HIDDEN TESTS\n",
    "# here we test that they use ndi.convolve1d exactly twice with the correct masks\n",
    "\n",
    "from unittest.mock import patch\n",
    "\n",
    "# check that ndi.convolve was not called\n",
    "# set the ndi.convolve function as observed object\n",
    "with patch('__main__.ndi.convolve') as mock_operator:\n",
    "    # set the return value of the mock function\n",
    "    mock_operator.return_value = np.ones(bikesgray.shape)\n",
    "    # run the student function\n",
    "    filter_E(bikesgray)\n",
    "\n",
    "# check that ndi.convolve was used once\n",
    "mock_operator.assert_not_called()\n",
    "\n",
    "# set the ndi.convolve1d function as observed object\n",
    "with patch('__main__.ndi.convolve1d') as mock_operator:\n",
    "    # set the return value of the mock function\n",
    "    mock_operator.return_value = np.ones(bikesgray.shape)\n",
    "    # run the student function\n",
    "    filter_E(bikesgray)\n",
    "# check that ndi.convolve1d was used twice\n",
    "mock_operator.assert_called()\n",
    "if len(mock_operator.call_args_list) != 2:\n",
    "    raise AssertionError('Separable filter was not implemented correctly')\n",
    "    \n",
    "# Define the masks\n",
    "mask_x_correct = np.array([0,  0,  1,  0,  0])\n",
    "mask_y_correct = np.array([0,  0,  1,  0,  0])\n",
    "# Student masks\n",
    "mask_x_test = None\n",
    "mask_y_test = None\n",
    "    \n",
    "# cycle through the calls made to the ndi.convolve function\n",
    "for call_args in mock_operator.call_args_list:\n",
    "    # extract the second argument passed to the function in each call and check if the correct mask was used\n",
    "    axis = None\n",
    "    try:\n",
    "        axis = call_args[1]['axis']\n",
    "    except KeyError:\n",
    "        axis = call_args[0][2]\n",
    "    if axis == 0:\n",
    "        # axis 0\n",
    "        mask_y_test = call_args[0][1]\n",
    "    elif axis == 1:\n",
    "        # axis 1\n",
    "        mask_x_test = call_args[0][1]\n",
    "\n",
    "# Check the student masks\n",
    "assert mask_x_correct @ mask_y_correct == mask_x_test @ mask_y_test, 'The masks are not correct.'\n",
    "\n",
    "# to be sure, check that the output is correct as well\n",
    "np.testing.assert_array_almost_equal(ndi.convolve1d(ndi.convolve1d(bikesgray, mask_y_correct, axis=0, output=np.int32), mask_x_correct, axis=1, output=np.int32), filter_E(bikesgray))\n",
    "### END HIDDEN TESTS"
   ]
  },
  {
   "cell_type": "markdown",
   "metadata": {
    "kernel": "SoS",
    "nbgrader": {
     "grade": false,
     "grade_id": "cell-88f79d21ec289e43",
     "locked": true,
     "schema_version": 3,
     "solution": false,
     "task": false
    }
   },
   "source": [
    "**For 0.25 points** answer the following question:<br>\n",
    "Which of the following keywords best describes the visual effect of this filter?\n",
    "\n",
    "1. isotropic blurring, or\n",
    "2. vertical blurring, or\n",
    "3. horizontal blurring, or\n",
    "4. diagonal blurring, or\n",
    "5. sharpening, or\n",
    "6. vertical edge detection, or\n",
    "7. horizontal edge detection, or\n",
    "8. diagonal edge detection, or\n",
    "9. Laplacian: a second order derivative to find edges (maxima and minima), or\n",
    "10. it has not effect."
   ]
  },
  {
   "cell_type": "code",
   "execution_count": 53,
   "metadata": {
    "kernel": "SoS",
    "nbgrader": {
     "grade": false,
     "grade_id": "cell-2b64f5ff98234834",
     "locked": false,
     "schema_version": 3,
     "solution": true,
     "task": false
    }
   },
   "outputs": [],
   "source": [
    "%use sos\n",
    "# Assign your answer to this variable\n",
    "answer = None\n",
    "### BEGIN SOLUTION\n",
    "answer = 10\n",
    "### END SOLUTION"
   ]
  },
  {
   "cell_type": "code",
   "execution_count": 54,
   "metadata": {
    "kernel": "SoS",
    "nbgrader": {
     "grade": true,
     "grade_id": "cell-59c47107eb0e8e63",
     "locked": true,
     "points": 0.25,
     "schema_version": 3,
     "solution": false,
     "task": false
    }
   },
   "outputs": [],
   "source": [
    "%use sos\n",
    "# Sanity check\n",
    "assert answer in list(range(1,11)), 'Answer one of 1, 2, 3, 4, 5, 6, 7, 8, 9 or 10'\n",
    "### BEGIN HIDDEN TESTS\n",
    "assert answer == 10\n",
    "### END HIDDEN TESTS"
   ]
  },
  {
   "cell_type": "markdown",
   "metadata": {
    "kernel": "SoS",
    "nbgrader": {
     "grade": false,
     "grade_id": "cell-888fd31f6fc28437",
     "locked": true,
     "schema_version": 3,
     "solution": false,
     "task": false
    }
   },
   "source": [
    "## <a class=\"anchor\"></a> 2.F. Mask F\n",
    "In the cell below, **for 0.25 points**, implement the function `filter_F`, which convolves the input image with the filter \n",
    "\n",
    "$$F = \n",
    "\\begin{bmatrix}\n",
    "    0 & -1 & -1 & 0 & 0 \\\\\n",
    "    -1 & -1 & 0 & 0 & 0 \\\\\n",
    "    -1 & 0 & 0 & 0 & 1 \\\\\n",
    "    0 & 0 & 0 & 1 & 1 \\\\\n",
    "    0 & 0 & 1 & 1 & 0 \\\\\n",
    "\\end{bmatrix}\\,.$$\n",
    "\n",
    "Remember to check if the filter is separable, and in that case, implement it in that way."
   ]
  },
  {
   "cell_type": "code",
   "execution_count": 55,
   "metadata": {
    "kernel": "SoS",
    "nbgrader": {
     "grade": false,
     "grade_id": "cell-5dfdcf7403d7e9d2",
     "locked": false,
     "schema_version": 3,
     "solution": true,
     "task": false
    }
   },
   "outputs": [],
   "source": [
    "%use sos\n",
    "\n",
    "# Function that filters img with the mask F\n",
    "def filter_F(img):\n",
    "    output = img.copy()\n",
    "    \n",
    "    # Filter the image with mask F\n",
    "    \n",
    "    ### BEGIN SOLUTION\n",
    "    # Define the mask\n",
    "    mask = np.array([ [  0, -1, -1,  0,  0], \n",
    "                      [ -1, -1, -1,  0,  0], \n",
    "                      [ -1,  0,  0,  0,  1],\n",
    "                      [  0,  0,  0,  1,  1],\n",
    "                      [  0,  0,  1,  1,  0]])\n",
    "    \n",
    "    # Perform the filtering\n",
    "    output = ndi.convolve(img, mask, output=np.int32)\n",
    "    \n",
    "    ### END SOLUTION\n",
    "    \n",
    "    return output"
   ]
  },
  {
   "cell_type": "markdown",
   "metadata": {
    "kernel": "SoS",
    "nbgrader": {
     "grade": false,
     "grade_id": "cell-f4360dff7751e4a4",
     "locked": true,
     "schema_version": 3,
     "solution": false,
     "task": false
    }
   },
   "source": [
    "Run the next cell to visualize the result of applying `filter_F` to the image `bikesgray`."
   ]
  },
  {
   "cell_type": "code",
   "execution_count": 56,
   "metadata": {
    "kernel": "SoS",
    "nbgrader": {
     "grade": true,
     "grade_id": "cell-89ecfa2af17122fe",
     "locked": true,
     "points": 0.25,
     "schema_version": 3,
     "solution": false,
     "task": false
    }
   },
   "outputs": [
    {
     "data": {
      "application/vnd.jupyter.widget-view+json": {
       "model_id": "061ef1976ca04bf2bc86c7c377535d33",
       "version_major": 2,
       "version_minor": 0
      },
      "text/plain": [
       "HBox(children=(Output(layout=Layout(width='80%')), Output(), Output(layout=Layout(width='25%'))))"
      ]
     },
     "metadata": {},
     "output_type": "display_data"
    },
    {
     "data": {
      "application/vnd.jupyter.widget-view+json": {
       "model_id": "9c038fea93d4423181470bbaa28a9469",
       "version_major": 2,
       "version_minor": 0
      },
      "text/plain": [
       "Button(description='Show Widgets', style=ButtonStyle())"
      ]
     },
     "metadata": {},
     "output_type": "display_data"
    }
   ],
   "source": [
    "%use sos\n",
    "# Apply the function\n",
    "bikesgray_F = filter_F(bikesgray)\n",
    "# Visualize the result\n",
    "plt.close('all')\n",
    "vis_F = viewer([bikesgray, bikesgray_F], title=['Original', 'Filtered with mask F'], subplots=(1,2))\n",
    "### BEGIN HIDDEN TESTS\n",
    "# here we test that they use ndi.convolve exactly once with the correct mask\n",
    "\n",
    "from unittest.mock import patch\n",
    "\n",
    "# check that ndi.convolve1d was not called\n",
    "# set the ndi.convolve1d function as observed object\n",
    "with patch('__main__.ndi.convolve1d') as mock_operator:\n",
    "    # set the return value of the mock function\n",
    "    mock_operator.return_value = np.ones(bikesgray.shape)\n",
    "    # run the student function\n",
    "    filter_F(bikesgray)\n",
    "# check that ndi.convolve1d was used twice\n",
    "mock_operator.assert_not_called()\n",
    "\n",
    "# set the ndi.convolve function as observed object\n",
    "with patch('__main__.ndi.convolve') as mock_operator:\n",
    "    # set the return value of the mock function\n",
    "    mock_operator.return_value = np.ones(bikesgray.shape)\n",
    "    # run the student function\n",
    "    filter_F(bikesgray)\n",
    "\n",
    "# check that ndi.convolve was used once\n",
    "mock_operator.assert_called_once()\n",
    "    \n",
    "# Define the mask\n",
    "mask_correct = np.array([ [  0, -1, -1,  0,  0], \n",
    "                          [ -1, -1, -1,  0,  0], \n",
    "                          [ -1,  0,  0,  0,  1],\n",
    "                          [  0,  0,  0,  1,  1],\n",
    "                          [  0,  0,  1,  1,  0]])\n",
    "    \n",
    "# cycle through the calls made to the ndi.convolve function\n",
    "for call_args in mock_operator.call_args_list:\n",
    "    # extract the second argument passed to the function in each call and check if the correct mask was used\n",
    "    np.testing.assert_array_equal(call_args[0][1], mask_correct)\n",
    "        \n",
    "# to be sure, check that the output is correct as well\n",
    "np.testing.assert_array_almost_equal(ndi.convolve(bikesgray, mask_correct, output=np.int32), filter_F(bikesgray))\n",
    "### END HIDDEN TESTS"
   ]
  },
  {
   "cell_type": "markdown",
   "metadata": {
    "kernel": "SoS",
    "nbgrader": {
     "grade": false,
     "grade_id": "cell-bcff8dcd8ce012f8",
     "locked": true,
     "schema_version": 3,
     "solution": false,
     "task": false
    }
   },
   "source": [
    "**For 0.25 points** answer the following question:<br>\n",
    "Which of the following keywords best describes the visual effect of this filter?\n",
    "\n",
    "1. isotropic blurring, or\n",
    "2. vertical blurring, or\n",
    "3. horizontal blurring, or\n",
    "4. diagonal blurring, or\n",
    "5. sharpening, or\n",
    "6. vertical edge detection, or\n",
    "7. horizontal edge detection, or\n",
    "8. diagonal edge detection, or\n",
    "9. Laplacian: a second order derivative to find edges (maxima and minima), or\n",
    "10. it has not effect."
   ]
  },
  {
   "cell_type": "code",
   "execution_count": 57,
   "metadata": {
    "kernel": "SoS",
    "nbgrader": {
     "grade": false,
     "grade_id": "cell-a4ac97cd58f978dc",
     "locked": false,
     "schema_version": 3,
     "solution": true,
     "task": false
    }
   },
   "outputs": [],
   "source": [
    "%use sos\n",
    "# Assign your answer to this variable\n",
    "answer = None\n",
    "### BEGIN SOLUTION\n",
    "answer = 8\n",
    "### END SOLUTION"
   ]
  },
  {
   "cell_type": "code",
   "execution_count": 58,
   "metadata": {
    "kernel": "SoS",
    "nbgrader": {
     "grade": true,
     "grade_id": "cell-0ba30a28ab95dad2",
     "locked": true,
     "points": 0.25,
     "schema_version": 3,
     "solution": false,
     "task": false
    }
   },
   "outputs": [],
   "source": [
    "%use sos\n",
    "# Sanity check\n",
    "assert answer in list(range(1,11)), 'Answer one of 1, 2, 3, 4, 5, 6, 7, 8, 9 or 10'\n",
    "### BEGIN HIDDEN TESTS\n",
    "assert answer == 8\n",
    "### END HIDDEN TESTS"
   ]
  },
  {
   "cell_type": "markdown",
   "metadata": {
    "kernel": "Python3",
    "nbgrader": {
     "grade": false,
     "grade_id": "cell-727e084ec8969cc3",
     "locked": true,
     "schema_version": 3,
     "solution": false,
     "task": false
    }
   },
   "source": [
    "## <a class=\"anchor\"></a> 3. Gaussian Filter (4 Points)\n",
    "\n",
    "In this exercise we will implement a very popular low-pass filter, the Gaussian filter. The Gaussian filter is used for noise reduction, realistic blur, and many other tasks. \n",
    "\n",
    "We propose to implement the 2D Gaussian filter with impulse response $h_{\\sigma}[m,n]$, where $\\sigma$ is the standard deviation of an isotropic 2D Gaussian and controls the smoothing strength. This impulse response discretizes the 2D Gaussian function $h_\\sigma(x,y)$ between $[-\\lceil3\\sigma\\rceil,\\lceil 3\\sigma\\rceil]$ in $x$ and $y$. You will choose the size of the filter to be $N = 2\\lceil 3\\sigma \\rceil+1$ (hence, $N$ is always odd), and you will ensure your impulse response adds up to $1$ using the appropriate normalization. Here, $\\lceil x \\rceil$ refers to the ceiling function, i.e., the smallest integer larger than $x$. \n",
    "\n",
    "Remember that the expression of an [isotropic 2D Gaussian](https://en.wikipedia.org/wiki/Multivariate_normal_distribution) is\n",
    "\n",
    "$$h_\\sigma(x,y) = \\frac{1}{2\\pi\\sigma^2}\\exp\\left(-\\frac{x^2 + y^2}{2\\sigma^2}\\right) = \\frac{1}{\\sqrt{2\\pi}\\sigma}\\exp\\left(-\\frac{x^2}{2\\sigma^2}\\right) \\frac{1}{\\sqrt{2\\pi}\\sigma}\\exp\\left(-\\frac{ y^2}{2\\sigma^2}\\right) \\,.$$"
   ]
  },
  {
   "cell_type": "markdown",
   "metadata": {
    "kernel": "Python3",
    "nbgrader": {
     "grade": false,
     "grade_id": "cell-4ee31adda2ebf52a",
     "locked": true,
     "schema_version": 3,
     "solution": false,
     "task": false
    }
   },
   "source": [
    "## <a class=\"anchor\"></a> 3.A. Implementation of a 2D Gaussian filter (4 points)\n",
    "\n",
    "For **3 points, implement the method `gaussian(img, sigma)`** that convolves an image with a Gaussian filter using a separable implementation. If you wish, you can take advantage of the method `filter1D` defined in Section [1.B.](#-1.B.-Separable-version-(2-points)).\n",
    "\n",
    "<div class=\"alert alert-info\">\n",
    "    <b>Hint: </b> Remember that you can use <a href=\"https://developer.mozilla.org/en-US/docs/Web/JavaScript/Reference/Global_Objects/Math\">the <code>Math</code> library</a> to access different mathematical functions (<code>Math.ceil()</code>, <code>Math.floor()</code>, <code>Math.exp()</code>, <code>Math.PI</code>, <code>Math.sqrt()</code>).\n",
    "</div>\n",
    "\n",
    "<div class=\"alert alert-info\">\n",
    "\n",
    "**Remember:** The first argument to the `Image` constructor is the **height** and the second is the **width**: <br>`new Image(height, width)` or `new Image([height, width])`\n",
    "</div>"
   ]
  },
  {
   "cell_type": "code",
   "execution_count": 74,
   "metadata": {
    "kernel": "JavaScript",
    "nbgrader": {
     "grade": false,
     "grade_id": "cell-6afcfd812f79ebb9",
     "locked": false,
     "schema_version": 3,
     "solution": true,
     "task": false
    }
   },
   "outputs": [],
   "source": [
    "%use javascript\n",
    "// function that performs a gaussian filter with sigma on img\n",
    "function gaussian(img, sigma){\n",
    "    // declare output variable\n",
    "    var output = new Image(img.shape());\n",
    "    \n",
    "    // BEGIN SOLUTION \n",
    "    // mask size\n",
    "    var N = 2* Math.ceil(3*sigma) + 1;\n",
    "    // define mask and fill it's values\n",
    "    var mask =  new Image(1, N);   \n",
    "    var norm = 0;\n",
    "    for(var x = 0; x < N; x++){  \n",
    "        mask.setPixel(x, 0, 1 / (Math.sqrt(2*Math.PI)*sigma) * Math.exp( - ( Math.pow( x-Math.floor(N/2), 2 ) / ( 2*Math.pow(sigma,2) ) ) ) )\n",
    "        norm += mask.getPixel(x,0)\n",
    "    } \n",
    "    for(var x = 0; x < N; x++){\n",
    "        mask.setPixel(x,0,mask.getPixel(x,0)/norm)\n",
    "    }\n",
    "    // iterate through every column \n",
    "    for(var y = 0; y < img.ny; y++){\n",
    "        // extract row\n",
    "        var row = img.getRow(y);\n",
    "        // apply filter\n",
    "        var new_row = filter1D(row, mask)\n",
    "        // set column in output variable\n",
    "        output.putRow(y, new_row);\n",
    "    }\n",
    "    // iterate through every row\n",
    "    for(var x = 0; x < img.nx; x++){\n",
    "        // extract column\n",
    "        var column = output.getColumn(x);\n",
    "        // apply filter\n",
    "        var new_column = filter1D(column, mask) \n",
    "        // set column in output variable\n",
    "        output.putColumn(x, new_column);\n",
    "        // END SOLUTION\n",
    "        \n",
    "    }    \n",
    "    return output\n",
    "}"
   ]
  },
  {
   "cell_type": "markdown",
   "metadata": {
    "kernel": "JavaScript",
    "nbgrader": {
     "grade": false,
     "grade_id": "cell-6e545f157757b7dd",
     "locked": true,
     "schema_version": 3,
     "solution": false,
     "task": false
    }
   },
   "source": [
    "We have designed a quick test for you to evaluate your method, applying it to a $3 \\times 3$ impulse image. Run the following cell and check that your output has all the desired properties of a Gaussian."
   ]
  },
  {
   "cell_type": "code",
   "execution_count": 75,
   "metadata": {
    "kernel": "JavaScript",
    "nbgrader": {
     "grade": true,
     "grade_id": "cell-60827fde3a4cfda5",
     "locked": true,
     "points": 2,
     "schema_version": 3,
     "solution": false,
     "task": false
    }
   },
   "outputs": [
    {
     "name": "stdout",
     "output_type": "stream",
     "text": [
      "[\n",
      "  [ 0.011388013762064005, 0.0839386095322009, 0.011388013762064005 ],\n",
      "  [ 0.08393860953220092, 0.6186935068229408, 0.08393860953220092 ],\n",
      "  [ 0.011388013762064005, 0.0839386095322009, 0.011388013762064005 ]\n",
      "]\n",
      "Well done! Your implementation seems to be correct.\n",
      "Well done! The output sums up to approximately 1.\n"
     ]
    }
   ],
   "source": [
    "%use javascript\n",
    "%put impulse_gaussian\n",
    "// define the impulse image\n",
    "var impulse = new Image([[0, 0, 0], [0, 1, 0], [0, 0, 0]])\n",
    "\n",
    "// apply filter to previously defined impulse\n",
    "var impulse_gaussian = gaussian(impulse, 0.5).toArray()\n",
    "\n",
    "// look at result, verify that it has the properties of a gaussian\n",
    "console.log(impulse_gaussian)\n",
    "\n",
    "// this assertion checks proper behaviour: that the center is the maximum, and that two pixels in equivalent positions have the same values.\n",
    "if(impulse_gaussian[1][1] < impulse_gaussian[2][1] || impulse_gaussian[0][1] !== impulse_gaussian[2][1]){\n",
    "    throw new Error(\"Implementation not correct\");\n",
    "}else{console.log('Well done! Your implementation seems to be correct.')}\n",
    "\n",
    "// check normalization\n",
    "sum = 0\n",
    "for(var x = 0; x < impulse_gaussian.length; x++){\n",
    "    for (var y =0; y < impulse_gaussian.length; y++){\n",
    "        sum += impulse_gaussian[y][x]\n",
    "    }\n",
    "}\n",
    "if (Math.abs(sum - 1) > 1e-5){\n",
    "    throw new Error(\"Normalization not correct\");\n",
    "}else{console.log(\"Well done! The output sums up to approximately 1.\")}\n",
    "    \n",
    "// BEGIN HIDDEN TESTS\n",
    "// apply filter with sigma = 0.5 (last assertions will work with any sigma)\n",
    "var impulse_gaussian_ta = gaussian(impulse, 0.5).toArray()\n",
    "\n",
    "// check that the filter is correctly implemented\n",
    "if(Math.abs( impulse_gaussian_ta[1][1]/impulse_gaussian_ta[2][1] - 7.37078574771476 ) > 1e-10 ){\n",
    "    throw new Error(\"Implementation not correct\");\n",
    "}\n",
    "// END HIDDEN TESTS"
   ]
  },
  {
   "cell_type": "markdown",
   "metadata": {
    "kernel": "Python3",
    "nbgrader": {
     "grade": false,
     "grade_id": "cell-55250fb304b56fbb",
     "locked": true,
     "schema_version": 3,
     "solution": false,
     "task": false
    }
   },
   "source": [
    "Now that you have tested your Gaussian filter, apply it to the image `bikesgray`. Use different values of $\\sigma$. Look at the evolution of the mean and the standard deviation (you can get them from the statistics box in the `IPLabViewer` class, or you can use the functions `np.mean` and `np.std`). Then, answer the two multiple choice questions.\n",
    "\n",
    "Run and modify the two following cells to apply Gaussian filters with different $\\sigma$ values to `bikesgray` and view the result. "
   ]
  },
  {
   "cell_type": "code",
   "execution_count": 76,
   "metadata": {
    "kernel": "JavaScript"
   },
   "outputs": [],
   "source": [
    "%use javascript\n",
    "%put bikesgray_gaussian1 bikesgray_gaussian5\n",
    "\n",
    "// apply filter to Image object. To try different sigma values, change the variables or declare more. \n",
    "var bikesgray_gaussian1 = gaussian(new Image(bikesgray), 1).toArray()\n",
    "var bikesgray_gaussian5 = gaussian(new Image(bikesgray), 5).toArray()"
   ]
  },
  {
   "cell_type": "code",
   "execution_count": 77,
   "metadata": {
    "kernel": "SoS"
   },
   "outputs": [
    {
     "data": {
      "application/vnd.jupyter.widget-view+json": {
       "model_id": "e2c41c27b48f49be83f529b7b0e36a9f",
       "version_major": 2,
       "version_minor": 0
      },
      "text/plain": [
       "HBox(children=(Output(layout=Layout(width='80%')), Output(), Output(layout=Layout(width='25%'))))"
      ]
     },
     "metadata": {},
     "output_type": "display_data"
    }
   ],
   "source": [
    "%use sos\n",
    "\n",
    "# Declare parameters for IPLabViewer. If you want to visualize more sigma values, update the previous cell and these lists accordingly\n",
    "image_list_blur = [bikesgray, bikesgray_gaussian1, bikesgray_gaussian5]\n",
    "title_list_blur = ['Original', 'Sigma: 1', 'Sigma: 5']\n",
    "# Make sure that the object used is a numpy array\n",
    "for i in range(len(image_list_blur)):\n",
    "    image_list_blur[i] = np.array(image_list_blur[i])\n",
    "\n",
    "# To allow a direct comparison of the images.\n",
    "plt.close('all')\n",
    "blurred_bikesgray_viewer = viewer(image_list_blur, title = title_list_blur, hist = True)"
   ]
  },
  {
   "cell_type": "markdown",
   "metadata": {
    "kernel": "Python3",
    "nbgrader": {
     "grade": false,
     "grade_id": "cell-ad335badddb0d387",
     "locked": true,
     "schema_version": 3,
     "solution": false,
     "task": false
    }
   },
   "source": [
    "### Multiple Choice Question\n",
    "\n",
    "After modifying the two cells above and visualizing the results, answer the next two questions (worth **0.5 points** each).\n",
    "\n",
    "* Q1: With a higher $\\sigma$, what happens to the mean and the standard deviation? How would you expect the Fourier transform to change?\n",
    "    1. The mean and the standard deviation are lower. The Fourier transform will show lower values for higher frequencies.\n",
    "    2. The mean and the standard deviation are higher. The Fourier transform will show lower values for higher frequencies.\n",
    "    3. The mean and the standard deviation do not change. The Fourier transform will show higher values for higher frequencies.\n",
    "    4. The mean is higher and the standard deviation does not change. The Fourier transform will show lower values for higher frequencies.\n",
    "    5. The mean does not change and the standard deviation is lower. The Fourier transform will show lower values for higher frequencies.\n",
    "\n",
    "\n",
    "* Q2: What will be the output image when $\\sigma\\rightarrow \\infty$? What type of filter would that be?\n",
    "    1. An image equal to the original. It would be an all-pass filter.\n",
    "    2. A constant image. It would be a high-pass filter.\n",
    "    3. A 2D Gaussian. It would be a band-pass filter.\n",
    "    4. A constant image. It would be a low-pass filter.\n",
    "\n",
    "Modify the variables `answer_one` and `answer_two` in the next cell to match your choices. The second and third cells are for you to make sure that your answer is valid (they should not raise any error)."
   ]
  },
  {
   "cell_type": "code",
   "execution_count": 78,
   "metadata": {
    "kernel": "SoS",
    "nbgrader": {
     "grade": false,
     "grade_id": "cell-d31ab4ed244354b6",
     "locked": false,
     "schema_version": 3,
     "solution": true,
     "task": false
    }
   },
   "outputs": [],
   "source": [
    "%use sos\n",
    "# Modify these variables\n",
    "answer_one = None\n",
    "answer_two = None\n",
    "### BEGIN SOLUTION\n",
    "answer_one = 5\n",
    "answer_two = 4\n",
    "### END SOLUTION"
   ]
  },
  {
   "cell_type": "code",
   "execution_count": 79,
   "metadata": {
    "kernel": "SoS",
    "nbgrader": {
     "grade": true,
     "grade_id": "cell-798aea71d77a0954",
     "locked": true,
     "points": 0.5,
     "schema_version": 3,
     "solution": false,
     "task": false
    }
   },
   "outputs": [],
   "source": [
    "%use sos\n",
    "# Sanity test\n",
    "assert answer_one in [1, 2, 3, 4, 5], 'Answer one of 1, 2, 3, 4 or 5'\n",
    "### BEGIN HIDDEN TESTS\n",
    "assert answer_one == 5\n",
    "### END HIDDEN TESTS"
   ]
  },
  {
   "cell_type": "code",
   "execution_count": 80,
   "metadata": {
    "kernel": "SoS",
    "nbgrader": {
     "grade": true,
     "grade_id": "cell-54c9fa3efc0ce756",
     "locked": true,
     "points": 0.5,
     "schema_version": 3,
     "solution": false,
     "task": false
    }
   },
   "outputs": [],
   "source": [
    "%use sos\n",
    "# Sanity test\n",
    "assert answer_two in [1, 2, 3, 4], 'Answer one of 1, 2, 3 or 4'\n",
    "### BEGIN HIDDEN TESTS\n",
    "assert answer_two == 4\n",
    "### END HIDDEN TESTS"
   ]
  },
  {
   "cell_type": "markdown",
   "metadata": {
    "kernel": "Python3",
    "nbgrader": {
     "grade": false,
     "grade_id": "cell-ab3b2bafff5869b1",
     "locked": true,
     "schema_version": 3,
     "solution": false,
     "task": false
    }
   },
   "source": [
    "## <a class=\"anchor\"></a> 3.B. Gaussian filter in Python\n",
    "\n",
    "There are several implementations of Gaussian filters in Python. We will use the `scikit-image` implementation (see its documentation [here](https://scikit-image.org/docs/dev/api/skimage.filters.html#skimage.filters.gaussian)). The basic syntax is the following:\n",
    "\n",
    "```python\n",
    "output = skimage.filters.gaussian(input, sigma, mode, truncate, preserve_range = True)\n",
    "```\n",
    "\n",
    "The parameters are:\n",
    "* `input` (numpy array): Original image\n",
    "* `sigma` (float): $\\sigma$ value.\n",
    "* `mode` (string): Boundary conditions. As in the rest of the course, we will be using `'reflect'`.\n",
    "* `truncate` (float): truncate the filter at this many standard deviations. Defaults to 4, but we will use 3 to agree with the implementation in JavaScript.\n",
    "* `preserve_range` (boolean): indicates whether to convert the image to a floating point value between $0$ and $1$ (`False`), or it simply normalizes the Gaussian kernel (`True`). \n",
    "\n",
    "The output is the filtered image. \n",
    "\n",
    "In the next cells, we will give you an example on the image `bikesgray`. Furthermore, we will compare it to your implementation. \n",
    "\n",
    "Run the next cell to get a blurred version of bikesgray using the skimage gaussian filter. We will use $\\sigma = 10$."
   ]
  },
  {
   "cell_type": "code",
   "execution_count": 81,
   "metadata": {
    "kernel": "SoS",
    "nbgrader": {
     "grade": false,
     "grade_id": "cell-96a61b2fe62e1965",
     "locked": true,
     "schema_version": 3,
     "solution": false,
     "task": false
    }
   },
   "outputs": [],
   "source": [
    "%use sos\n",
    "\n",
    "bikesgray_gaussian_skimage = skimage.filters.gaussian(bikesgray, sigma = 10 , mode = 'reflect', truncate = 3, preserve_range = True)"
   ]
  },
  {
   "cell_type": "markdown",
   "metadata": {
    "kernel": "Python3",
    "nbgrader": {
     "grade": false,
     "grade_id": "cell-7bd5fa00998f0187",
     "locked": true,
     "schema_version": 3,
     "solution": false,
     "task": false
    }
   },
   "source": [
    "Now, we will compare it to your implementation in JavaScript to make sure that they are equivalent (up to errors on the order of $10^{-14}$). For this, we call the `gaussian` method you implemented with the image bikesgray, also for $\\sigma = 10$. Run the next cell to get the variable `bikesgray_gaussian10`."
   ]
  },
  {
   "cell_type": "code",
   "execution_count": 82,
   "metadata": {
    "kernel": "JavaScript",
    "nbgrader": {
     "grade": false,
     "grade_id": "cell-ea846baf9848b17b",
     "locked": true,
     "schema_version": 3,
     "solution": false,
     "task": false
    }
   },
   "outputs": [],
   "source": [
    "%use javascript\n",
    "%put bikesgray_gaussian10\n",
    "\n",
    "// apply filter to Image object\n",
    "var bikesgray_gaussian10 = gaussian(new Image(bikesgray), 10).toArray()"
   ]
  },
  {
   "cell_type": "markdown",
   "metadata": {
    "kernel": "JavaScript",
    "nbgrader": {
     "grade": false,
     "grade_id": "cell-fa5028dc9b008544",
     "locked": true,
     "schema_version": 3,
     "solution": false,
     "task": false
    }
   },
   "source": [
    "Now we will look at each of them and at their differences."
   ]
  },
  {
   "cell_type": "code",
   "execution_count": 83,
   "metadata": {
    "kernel": "SoS",
    "nbgrader": {
     "grade": true,
     "grade_id": "cell-fbc96337ae903689",
     "locked": true,
     "points": 1,
     "schema_version": 3,
     "solution": false,
     "task": false
    }
   },
   "outputs": [
    {
     "data": {
      "application/vnd.jupyter.widget-view+json": {
       "model_id": "87a93ff2588743959c6d778fdfdd9c26",
       "version_major": 2,
       "version_minor": 0
      },
      "text/plain": [
       "HBox(children=(Output(layout=Layout(width='80%')), Output(), Output(layout=Layout(width='25%'))))"
      ]
     },
     "metadata": {},
     "output_type": "display_data"
    }
   ],
   "source": [
    "%use sos\n",
    "\n",
    "# Make sure that the one imported from JavaScript is a numpy array\n",
    "bikesgray_gaussian10 = np.array(bikesgray_gaussian10)\n",
    "\n",
    "# Declare parameters of viewer\n",
    "image_list = [bikesgray_gaussian10, bikesgray_gaussian_skimage, np.abs(bikesgray_gaussian_skimage - bikesgray_gaussian10)]\n",
    "title_list = ['JS', 'Skimage', 'Difference']\n",
    "\n",
    "# We call the viewer with clip_range = [0, 1] to compare the difference with respect to the originals\n",
    "plt.close('all')\n",
    "skimage_gaussian_viewer = viewer(image_list, title = title_list, subplots = [1, 3], widgets = True)\n",
    "\n",
    "### BEGIN HIDDEN TESTS\n",
    "np.testing.assert_array_almost_equal(bikesgray_gaussian10, bikesgray_gaussian_skimage, decimal = 10)\n",
    "### END HIDDEN TESTS"
   ]
  },
  {
   "cell_type": "markdown",
   "metadata": {
    "kernel": "Python3",
    "nbgrader": {
     "grade": false,
     "grade_id": "cell-fbad05695a20a7ac",
     "locked": true,
     "schema_version": 3,
     "solution": false,
     "task": false
    }
   },
   "source": [
    "# <a class=\"anchor\"></a> 4. Application: Spot detector (5 points)\n",
    "\n",
    "Now that you have implemented several filters and you master the concepts behind digital filtering, we are going to lead you in a real application of Gaussian filtering. You are going to implement a *spot detector*, based on the Difference of Gaussians (DoG) filter. From now on, you will only be using Python libraries.\n",
    "\n",
    "A good algorithm to detect spots is to compute the local maximum on the output of the DoG filter (Difference of Gaussians), which is an approximation of the Laplacian-of-Gaussian (LoG) filter explained on _page 5-35_ of the course notes.\n",
    "\n",
    "In the following two exercises we'll be using the image `spots`. Run the next cell to visualize it."
   ]
  },
  {
   "cell_type": "code",
   "execution_count": 84,
   "metadata": {
    "kernel": "SoS",
    "nbgrader": {
     "grade": false,
     "grade_id": "cell-47d11e507bc385e4",
     "locked": true,
     "schema_version": 3,
     "solution": false,
     "task": false
    }
   },
   "outputs": [
    {
     "data": {
      "application/vnd.jupyter.widget-view+json": {
       "model_id": "84e402a9b1a041508ddee346394cddf7",
       "version_major": 2,
       "version_minor": 0
      },
      "text/plain": [
       "HBox(children=(Output(layout=Layout(width='80%')), Output(), Output(layout=Layout(width='25%'))))"
      ]
     },
     "metadata": {},
     "output_type": "display_data"
    },
    {
     "data": {
      "application/vnd.jupyter.widget-view+json": {
       "model_id": "b233fb94ef76483b9c029b8bd62dd080",
       "version_major": 2,
       "version_minor": 0
      },
      "text/plain": [
       "Button(description='Show Widgets', style=ButtonStyle())"
      ]
     },
     "metadata": {},
     "output_type": "display_data"
    }
   ],
   "source": [
    "%use sos\n",
    "plt.close('all')\n",
    "spots_vis = viewer(spots)"
   ]
  },
  {
   "cell_type": "markdown",
   "metadata": {
    "kernel": "SoS",
    "nbgrader": {
     "grade": false,
     "grade_id": "cell-23b603ff28264ca5",
     "locked": true,
     "schema_version": 3,
     "solution": false,
     "task": false
    }
   },
   "source": [
    "## <a class=\"anchor\"></a> 4.A. Difference of Gaussians (2 points)\n",
    "\n",
    "The DoG is constructed from the subtraction of two Gaussian functions, i.e., $\\mathrm{DoG}(x) = h_{\\sigma_{1}}(x) - h_{\\sigma_2}(x)$. It is usually parametrised only by $\\sigma_1$, and $\\sigma_2$ is chosen as $\\sigma_2 = \\sqrt{2}\\sigma_1$. Experiment with the value of $\\sigma_1$ in the next cell to see the kind of profile generated by this filter in 1D. "
   ]
  },
  {
   "cell_type": "code",
   "execution_count": 85,
   "metadata": {
    "kernel": "SoS"
   },
   "outputs": [
    {
     "data": {
      "application/vnd.jupyter.widget-view+json": {
       "model_id": "47576d1eec0f4449815b35a2a27d46a1",
       "version_major": 2,
       "version_minor": 0
      },
      "text/plain": [
       "Canvas(toolbar=Toolbar(toolitems=[('Home', 'Reset original view', 'home', 'home'), ('Pan', 'Pan axes with left…"
      ]
     },
     "metadata": {},
     "output_type": "display_data"
    }
   ],
   "source": [
    "import scipy\n",
    "# Choose sigmas\n",
    "sigma_1 = 1; sigma_2 = np.sqrt(2)*sigma_1\n",
    "# Generate axis to plot\n",
    "x = np.arange(-3*sigma_2, (3+6./100)*sigma_2, 6*sigma_2/100)\n",
    "# Plot both Gaussians \n",
    "plt.close(\"all\"); plt.figure(f\"Difference of Gaussians filter in 1D - SCIPER: {uid}\", figsize = [10,4])\n",
    "plt.plot(x, scipy.stats.norm(scale=sigma_1).pdf(x), x, scipy.stats.norm(scale=sigma_2).pdf(x),\n",
    "         x, scipy.stats.norm(scale=sigma_1).pdf(x) - scipy.stats.norm(scale=sigma_2).pdf(x));\n",
    "plt.xlabel(r\"$x$\"); plt.legend([r\"$h_{\\sigma_1}(x)$\", r\"$h_{\\sigma_2}(x)$\", r\"$\\mathrm{DoG}_{\\sigma_1}(x)$\"]);\n",
    "plt.show()"
   ]
  },
  {
   "cell_type": "markdown",
   "metadata": {
    "kernel": "SoS",
    "nbgrader": {
     "grade": false,
     "grade_id": "cell-d32eba378f29b254",
     "locked": true,
     "schema_version": 3,
     "solution": false,
     "task": false
    }
   },
   "source": [
    "For **1 point**, modify the next cell and write the function `dog(image, sigma1)`. This method should implement the DoG filter by combining the result of two Gaussian filters. We recommend you to use the `scikit-image` implementation that we used in Section [3.B.](#-3.B.-Gaussian-filter-in-Python) , but feel free to use any library you want. Make sure you use the `preserve_range = True` option (or equivalent), to maintain the values of the filtered images with respect to each other. Normalize the output of your function so that it expands the range $[0,1]$."
   ]
  },
  {
   "cell_type": "code",
   "execution_count": 86,
   "metadata": {
    "kernel": "SoS",
    "nbgrader": {
     "grade": false,
     "grade_id": "cell-674ef161dfa3e785",
     "locked": false,
     "schema_version": 3,
     "solution": true,
     "task": false
    }
   },
   "outputs": [],
   "source": [
    "%use sos\n",
    "\n",
    "def dog(image, sigma_1):\n",
    "    output = np.copy(image)\n",
    "    ### BEGIN SOLUTION\n",
    "    sigma_2 = np.sqrt(2)*sigma_1\n",
    "    filt1 = skimage.filters.gaussian(image, sigma = sigma_1 , mode = 'reflect', truncate = 3, preserve_range = True)\n",
    "    filt2 = skimage.filters.gaussian(image, sigma = sigma_2 , mode = 'reflect', truncate = 3, preserve_range = True)\n",
    "    output = filt1 - filt2\n",
    "    # normalize output\n",
    "    output = (output - np.amin(output)) /(np.max(output) - np.min(output))\n",
    "    ### END SOLUTION\n",
    "    return output\n",
    "\n",
    "err_message = \"Remember to normalize the output so that it expands the range [0,1].\"\n",
    "assert dog( spots, 1 ).max() == 1, err_message\n",
    "assert dog( spots, 1 ).min() == 0, err_message"
   ]
  },
  {
   "cell_type": "markdown",
   "metadata": {
    "kernel": "Python3",
    "nbgrader": {
     "grade": false,
     "grade_id": "cell-c377142e63832728",
     "locked": true,
     "schema_version": 3,
     "solution": false,
     "task": false
    }
   },
   "source": [
    "In the next cell, you will visualize the results of your function for different $\\sigma$ values. We will declare a slider with values in the range $[0-10]$, a button and an activation function to get the value of the slider and apply your function to an input image. \n",
    "\n",
    "First, run the next cell to declare these widgets and the function."
   ]
  },
  {
   "cell_type": "code",
   "execution_count": 87,
   "metadata": {
    "kernel": "SoS"
   },
   "outputs": [],
   "source": [
    "%use sos\n",
    "# Define sliders and button\n",
    "sigma_slider = widgets.FloatSlider(value=1, min=0.5, max=10.0, step=0.5, description='\\u03c3\\u2081:')\n",
    "button = widgets.Button(description = 'Apply DoG')\n",
    "# Define callback function\n",
    "def button_dog(image):\n",
    "    sigma = sigma_slider.value\n",
    "    image = dog(image, sigma)\n",
    "    return image"
   ]
  },
  {
   "cell_type": "markdown",
   "metadata": {
    "kernel": "SoS",
    "nbgrader": {
     "grade": false,
     "grade_id": "cell-03303684c8a43c42",
     "locked": true,
     "schema_version": 3,
     "solution": false,
     "task": false
    }
   },
   "source": [
    "Now run the next cell to visualize the results. Go to the menu *Extra Widgets*, where you can find the slider. You will apply it to the image `spots`. If you want to experiment with the filter using other values of $\\sigma_1$, you can modify the values `min`, `max` and `step` in the cell above. "
   ]
  },
  {
   "cell_type": "code",
   "execution_count": 88,
   "metadata": {
    "kernel": "SoS",
    "nbgrader": {
     "grade": true,
     "grade_id": "cell-23f5b4868f24df69",
     "locked": true,
     "points": 1,
     "schema_version": 3,
     "solution": false,
     "task": false
    }
   },
   "outputs": [
    {
     "data": {
      "application/vnd.jupyter.widget-view+json": {
       "model_id": "76e019d5dc3c4c05bb0e8d10fd8d1dee",
       "version_major": 2,
       "version_minor": 0
      },
      "text/plain": [
       "HBox(children=(Output(layout=Layout(width='80%')), Output(), Output(layout=Layout(width='25%'))))"
      ]
     },
     "metadata": {},
     "output_type": "display_data"
    }
   ],
   "source": [
    "%use sos\n",
    "# Visualize the dog spots\n",
    "plt.close(\"all\")\n",
    "dog_viewer = viewer(spots, title = \"DoG Spots\", new_widgets = [sigma_slider, button], callbacks = [button_dog], widgets = True, normalize = True)\n",
    "\n",
    "### BEGIN HIDDEN TESTS\n",
    "def dog_ta(image, sigma1):\n",
    "    output = np.copy(image)\n",
    "    sigma2 = np.sqrt(2)*sigma1\n",
    "    filt1 = skimage.filters.gaussian(image, sigma = sigma1 , mode = 'reflect', truncate = 3, preserve_range = True)\n",
    "    filt2 = skimage.filters.gaussian(image, sigma = sigma2 , mode = 'reflect', truncate = 3, preserve_range = True)\n",
    "    output = filt1 - filt2\n",
    "    # normalize output\n",
    "    output = (output - np.amin(output)) /(np.amax(output) - np.amin(output))\n",
    "    return output\n",
    "\n",
    "dog_spots_ta = dog_ta(spots, 1)\n",
    "dog_spots = dog(spots, 1)\n",
    "\n",
    "# Test that arrays are equal to a certain extent\n",
    "np.testing.assert_array_almost_equal(dog_spots_ta, dog_spots, decimal = 5)\n",
    "### END HIDDEN TESTS"
   ]
  },
  {
   "cell_type": "markdown",
   "metadata": {
    "kernel": "Python3",
    "nbgrader": {
     "grade": false,
     "grade_id": "cell-fcf5fd34130ddd5f",
     "locked": true,
     "schema_version": 3,
     "solution": false,
     "task": false
    }
   },
   "source": [
    "### Multiple choice question (1 point)\n",
    "\n",
    "* Q1: What type of filter is the DoG?\n",
    "\n",
    "    1. Low-pass  \n",
    "    2. Band-pass  \n",
    "    3. High-pass  \n",
    "\n",
    "\n",
    "* Q2: Which $\\sigma$ would you choose to highlight the spots?\n",
    "\n",
    "    1. 1.5  \n",
    "    2. 5  \n",
    "    3. 10 \n",
    "\n",
    "\n",
    "Modify the variables `answer_one` and `answer_two` in the next cell to your choices. Use the subsequent two cells to verify that your answers are valid."
   ]
  },
  {
   "cell_type": "code",
   "execution_count": 89,
   "metadata": {
    "kernel": "SoS",
    "nbgrader": {
     "grade": false,
     "grade_id": "cell-dda6c8f5f9a1c163",
     "locked": false,
     "schema_version": 3,
     "solution": true,
     "task": false
    }
   },
   "outputs": [],
   "source": [
    "%use sos\n",
    "# Modify these variables\n",
    "answer_one = None\n",
    "answer_two = None\n",
    "### BEGIN SOLUTION\n",
    "answer_one = 2\n",
    "answer_two = 1\n",
    "### END SOLUTION"
   ]
  },
  {
   "cell_type": "code",
   "execution_count": 90,
   "metadata": {
    "kernel": "SoS",
    "nbgrader": {
     "grade": true,
     "grade_id": "cell-d7c3a04da9a8c7b5",
     "locked": true,
     "points": 0.5,
     "schema_version": 3,
     "solution": false,
     "task": false
    }
   },
   "outputs": [],
   "source": [
    "%use sos\n",
    "# Sanity check\n",
    "assert answer_one in [1, 2, 3], 'Choose one of 1, 2 or 3.'\n",
    "### BEGIN HIDDEN TESTS\n",
    "assert answer_one == 2\n",
    "### END HIDDEN TESTS"
   ]
  },
  {
   "cell_type": "code",
   "execution_count": 91,
   "metadata": {
    "kernel": "SoS",
    "nbgrader": {
     "grade": true,
     "grade_id": "cell-7cf69ee788a9b5d6",
     "locked": true,
     "points": 0.5,
     "schema_version": 3,
     "solution": false,
     "task": false
    }
   },
   "outputs": [],
   "source": [
    "%use sos\n",
    "# Sanity check\n",
    "assert answer_two in [1, 2, 3], 'Choose one of 1, 2 or 3.'\n",
    "### BEGIN HIDDEN TESTS\n",
    "assert answer_two == 1\n",
    "### END HIDDEN TESTS"
   ]
  },
  {
   "cell_type": "markdown",
   "metadata": {
    "kernel": "Python3",
    "nbgrader": {
     "grade": false,
     "grade_id": "cell-81417b2b120db889",
     "locked": true,
     "schema_version": 3,
     "solution": false,
     "task": false
    }
   },
   "source": [
    "## <a class=\"anchor\"></a> 4.B. Local maxima (1 point)\n",
    "\n",
    "Now you will write the function `local_max(img, T)` that returns a binary image. This function will set the pixels which are a local maximum in a $3\\times 3$ neighbourhood to the maximum value of the image, and any other pixels to $0$. A local maximum is a pixel that has a value strictly greater than its 8 closest neighbors (8-connected) and is strictly greater than a threshold $T$ (relative to the maximum of the image).\n",
    "\n",
    "<div class=\"alert alert-info\">\n",
    "\n",
    "**Remember:** 8-connected pixels are neighbors to every pixel that touches one of their edges or corners. <img src=\"images/8_connectivity.jpg\" alt=\"8-connectivity\" width=\"100px\">\n",
    "</div>\n",
    "\n",
    "Remember that Image Processing libraries can do most of the work for you. `scikit-image` has the method `skimage.feature.peak_local_max()` ([see documentation](https://scikit-image.org/docs/0.7.0/api/skimage.feature.peak)), which allows you to specify the minimum distance between peaks and a threshold relative to the maximum value of the image. It outputs the coordinates of the corresponding pixels. Once you have the coordinates, you can use them to index an array and put put the desired value in the appropriate places. For example, if we have a NumPy array `peaks` with local maxima locations as the one returned by the aforementioned function, you can index an image as `output[peaks[:,0], peaks[:,1]] = value`.\n",
    "\n",
    "For **1 point**, modify the next cell and define your function."
   ]
  },
  {
   "cell_type": "code",
   "execution_count": 92,
   "metadata": {
    "kernel": "SoS",
    "nbgrader": {
     "grade": false,
     "grade_id": "cell-3d3323cd890505a7",
     "locked": false,
     "schema_version": 3,
     "solution": true,
     "task": false
    }
   },
   "outputs": [],
   "source": [
    "%use sos\n",
    "# Import the module feature from skimage if you are going to use it\n",
    "from skimage import feature\n",
    "\n",
    "# Function that computes the local max in a 3x3 nbh\n",
    "def local_max(img, T):\n",
    "    output = np.zeros(img.shape)\n",
    "    ### BEGIN SOLUTION\n",
    "    coord = feature.peak_local_max(img, min_distance=1, threshold_rel = T)\n",
    "    output[coord[:,0],coord[:,1]] = np.max(img)\n",
    "    ### END SOLUTION\n",
    "    return output"
   ]
  },
  {
   "cell_type": "markdown",
   "metadata": {
    "kernel": "Python3",
    "nbgrader": {
     "grade": false,
     "grade_id": "cell-3d454b9aa5651480",
     "locked": true,
     "schema_version": 3,
     "solution": false,
     "task": false
    }
   },
   "source": [
    "Run the next cell for a quick test on your function. In it, we test  that your image applied to `camera` with a threshold $t = 0.5$ detects exactly the four maximum points of the image, as it should. If the assertion raises no error, your function is most probably correct."
   ]
  },
  {
   "cell_type": "code",
   "execution_count": 93,
   "metadata": {
    "kernel": "SoS",
    "nbgrader": {
     "grade": true,
     "grade_id": "cell-bd08c0fedcdfd206",
     "locked": true,
     "points": 1,
     "schema_version": 3,
     "solution": false,
     "task": false
    }
   },
   "outputs": [
    {
     "name": "stdout",
     "output_type": "stream",
     "text": [
      "Congratulations! Your function is correctly detecting the 4 spots.\n"
     ]
    }
   ],
   "source": [
    "%use sos\n",
    "\n",
    "assert np.count_nonzero(local_max(camera, 0.5)) == 4, 'Your function its not yet correct!'\n",
    "print('Congratulations! Your function is correctly detecting the 4 spots.')\n",
    "### BEGIN HIDDEN TESTS\n",
    "def local_max_ta(img, T):\n",
    "    output = np.zeros(img.shape)\n",
    "    coord = feature.peak_local_max(img, min_distance=1, threshold_rel = T)\n",
    "    coord = tuple(np.transpose(coord).tolist())\n",
    "    output[coord] = np.amax(img)\n",
    "    return output\n",
    "\n",
    "camera_lmax_ta = local_max_ta(camera, 0.6)\n",
    "camera_lmax = local_max(camera, 0.6)\n",
    "\n",
    "assert np.count_nonzero(camera_lmax_ta - camera_lmax) == 0\n",
    "### END HIDDEN TESTS"
   ]
  },
  {
   "cell_type": "markdown",
   "metadata": {
    "kernel": "Python3",
    "nbgrader": {
     "grade": false,
     "grade_id": "cell-c7584daecf25a116",
     "locked": true,
     "schema_version": 3,
     "solution": false,
     "task": false
    }
   },
   "source": [
    "Now you are going to see the effect of this function through a slider on the `IPLabViewer`. Like in the exercise to visualize the effects of `dog()`, we will declare one slider for the threshold and one button to call the `local_max` method. \n",
    "\n",
    "Run the next cell to test it on the image `camera`. Do you think that this function would be able to detect the **6 spots** in `spots`?  Modify the next cell and look at the result of your function applied to other images!"
   ]
  },
  {
   "cell_type": "code",
   "execution_count": 94,
   "metadata": {
    "kernel": "SoS"
   },
   "outputs": [
    {
     "data": {
      "application/vnd.jupyter.widget-view+json": {
       "model_id": "6474bd8337c74792b0d0b1a9314c39be",
       "version_major": 2,
       "version_minor": 0
      },
      "text/plain": [
       "HBox(children=(Output(layout=Layout(width='80%')), Output(), Output(layout=Layout(width='25%'))))"
      ]
     },
     "metadata": {},
     "output_type": "display_data"
    }
   ],
   "source": [
    "%use sos\n",
    "\n",
    "threshold_slider = widgets.FloatSlider(value=0, min=0, max=1, step=0.01, description='T:')\n",
    "button = widgets.Button(description = 'Apply Local Maxima')\n",
    "\n",
    "def button_local_max(image):\n",
    "    t = threshold_slider.value\n",
    "    image = local_max(image, t)\n",
    "    return image\n",
    "\n",
    "local_max_viewer = viewer(camera, title = \"Local Maxima\", new_widgets = [threshold_slider, button], callbacks = [button_local_max], widgets=True)"
   ]
  },
  {
   "cell_type": "markdown",
   "metadata": {
    "kernel": "Python3",
    "nbgrader": {
     "grade": false,
     "grade_id": "cell-1deb1d7cd1c39f9b",
     "locked": true,
     "schema_version": 3,
     "solution": false,
     "task": false
    }
   },
   "source": [
    "## <a class=\"anchor\"></a> 4.C. Spot detector (2 points)\n",
    "\n",
    "For **1 point**, implement the method `spot_detector(img, sigma, T)`, where you use your previous two functions to detect spots. In other words, apply the detection of local maxima on the output of the DoG filter."
   ]
  },
  {
   "cell_type": "code",
   "execution_count": 95,
   "metadata": {
    "kernel": "SoS",
    "nbgrader": {
     "grade": false,
     "grade_id": "cell-ea2375434c08cbb4",
     "locked": false,
     "schema_version": 3,
     "solution": true,
     "task": false
    }
   },
   "outputs": [],
   "source": [
    "%use sos\n",
    "\n",
    "# Function that detects spots in img, using sigma and a threshold T\n",
    "def spot_detector(img, sigma, T):\n",
    "    ### BEGIN SOLUTION\n",
    "    output = dog(img, sigma)\n",
    "    output = local_max(output, T)\n",
    "    ### END SOLUTION\n",
    "    return output"
   ]
  },
  {
   "cell_type": "markdown",
   "metadata": {
    "kernel": "Python3",
    "nbgrader": {
     "grade": false,
     "grade_id": "cell-b2328e6a28636925",
     "locked": true,
     "schema_version": 3,
     "solution": false,
     "task": false
    }
   },
   "source": [
    "Run the next cell for a quick test on your function."
   ]
  },
  {
   "cell_type": "code",
   "execution_count": 96,
   "metadata": {
    "kernel": "SoS",
    "nbgrader": {
     "grade": true,
     "grade_id": "cell-236fd22ab8cd9cc8",
     "locked": true,
     "points": 1,
     "schema_version": 3,
     "solution": false,
     "task": false
    }
   },
   "outputs": [
    {
     "name": "stdout",
     "output_type": "stream",
     "text": [
      "Congratulations! Your spot detector seems to be correct.\n"
     ]
    }
   ],
   "source": [
    "%use sos\n",
    "\n",
    "assert np.count_nonzero(spot_detector(spots, 1, 0.3)) == 6, 'Your function is not yet correct. First make sure that dog() and local_max() are.'\n",
    "print('Congratulations! Your spot detector seems to be correct.')\n",
    "### BEGIN HIDDEN TESTS\n",
    "def spot_detector_ta(img, sigma, T):\n",
    "    output = dog_ta(img, sigma)\n",
    "    output = local_max_ta(output, T)\n",
    "    return output\n",
    "\n",
    "spots_spots_ta = spot_detector_ta(spots, 1, 0.3)\n",
    "spots_spots = spot_detector(spots, 1, 0.3)\n",
    "\n",
    "np.testing.assert_array_almost_equal(spots_spots_ta, spots_spots, decimal = 5)\n",
    "### END HIDDEN TESTS"
   ]
  },
  {
   "cell_type": "markdown",
   "metadata": {
    "kernel": "Python3",
    "nbgrader": {
     "grade": false,
     "grade_id": "cell-1ab167d65b94d87e",
     "locked": true,
     "schema_version": 3,
     "solution": false,
     "task": false
    }
   },
   "source": [
    "Now, lets apply your function to the image `spots` inside an `IPLabViewer`, using two sliders for the values of $\\sigma_1$ and $T$. \n",
    "\n",
    "Run the following cell, and play with these values (access the sliders through the button *Extra Widgets*). Explore the results also on other images.\n",
    "\n",
    "<div class=\"alert alert-info\">\n",
    "\n",
    "**Note:** Because it can be hard to see single white pixels on some screens (especially if they're dusty) we also print the number of spots that have been detected when applying the function in the viewer.\n",
    "</div>"
   ]
  },
  {
   "cell_type": "code",
   "execution_count": 105,
   "metadata": {
    "kernel": "SoS"
   },
   "outputs": [
    {
     "data": {
      "application/vnd.jupyter.widget-view+json": {
       "model_id": "201e96eb1c45402083333069a03f145d",
       "version_major": 2,
       "version_minor": 0
      },
      "text/plain": [
       "HBox(children=(Output(layout=Layout(width='80%')), Output(), Output(layout=Layout(width='25%'))))"
      ]
     },
     "metadata": {},
     "output_type": "display_data"
    }
   ],
   "source": [
    "%use sos\n",
    "\n",
    "# Define sliders\n",
    "sigma_slider = widgets.FloatSlider(value=1, min=0.5, max=10.0, step=0.5, description=\"\\u03c3\\u2081:\")\n",
    "t_slider = widgets.FloatSlider(value=0, min=0, max=1, step=0.01, description='T:')\n",
    "button = widgets.Button(description = 'Apply Spot Detection')\n",
    "\n",
    "# Define callback function\n",
    "def button_spot_detection(image):\n",
    "    sigma = sigma_slider.value\n",
    "    t = t_slider.value\n",
    "    image = spot_detector(image, sigma, t)\n",
    "    contours, _ = cv.findContours(image.astype(np.uint8), cv.RETR_LIST, cv.CHAIN_APPROX_NONE)\n",
    "    print(f'Detected {len(contours):4} spots.', end='\\r')\n",
    "    return image\n",
    "\n",
    "# Launch viewer\n",
    "plt.close(\"all\")\n",
    "spot_detector_viewer = viewer(spots, title = \"Spot Detector\", new_widgets = [sigma_slider, t_slider, button], callbacks = [button_spot_detection], widgets=True, normalize=True )"
   ]
  },
  {
   "cell_type": "markdown",
   "metadata": {
    "kernel": "Python3",
    "nbgrader": {
     "grade": false,
     "grade_id": "cell-1beb5d91da314289",
     "locked": true,
     "schema_version": 3,
     "solution": false,
     "task": false
    }
   },
   "source": [
    "### Multiple choice question (1 point)\n",
    "\n",
    "What pair of parameters will give you exactly 6 spots? If there are more than one, try to select the most reasonable one. \n",
    "\n",
    "1. $\\sigma_1 = 10$ and $T = 0.2$,\n",
    "2. $\\sigma_1 = 5$ and $T = 0.6$, \n",
    "3. $\\sigma_1 = 5$ and $T = 0.2$, or\n",
    "4. $\\sigma_1 = 1$ and $T = 0.3$.\n",
    "\n",
    "Modify the variable answer in the next cell to reflect your choice. Run the last cell to check that your answer is valid."
   ]
  },
  {
   "cell_type": "code",
   "execution_count": 73,
   "metadata": {
    "kernel": "SoS",
    "nbgrader": {
     "grade": false,
     "grade_id": "cell-bd84aba67a6ffbda",
     "locked": false,
     "schema_version": 3,
     "solution": true,
     "task": false
    }
   },
   "outputs": [],
   "source": [
    "%use sos\n",
    "# Assign your answer to this variable\n",
    "answer = None\n",
    "### BEGIN SOLUTION\n",
    "answer = 4\n",
    "### END SOLUTION"
   ]
  },
  {
   "cell_type": "code",
   "execution_count": 74,
   "metadata": {
    "kernel": "SoS",
    "nbgrader": {
     "grade": true,
     "grade_id": "cell-de4a59f4d4ea2220",
     "locked": true,
     "points": 1,
     "schema_version": 3,
     "solution": false,
     "task": false
    }
   },
   "outputs": [],
   "source": [
    "%use sos\n",
    "# Sanity check\n",
    "assert answer in [1, 2, 3, 4], 'Answer one of 1, 2, 3 or 4'\n",
    "### BEGIN HIDDEN TESTS\n",
    "assert answer == 2 or answer == 4\n",
    "### END HIDDEN TESTS"
   ]
  },
  {
   "cell_type": "markdown",
   "metadata": {
    "kernel": "SoS",
    "nbgrader": {
     "grade": false,
     "grade_id": "cell-150b621dbb22fc35",
     "locked": true,
     "schema_version": 3,
     "solution": false,
     "task": false
    }
   },
   "source": [
    "Congratulations on finishing Lab 2!\n",
    "\n",
    "Remember that, in doubt, you can always ask the TAs of the course. Now, make sure to save your notebook (keep a copy on your personal computer) and upload it to moodle."
   ]
  }
 ],
 "metadata": {
  "celltoolbar": "Create Assignment",
  "kernelspec": {
   "display_name": "SoS",
   "language": "sos",
   "name": "sos"
  },
  "language_info": {
   "codemirror_mode": "sos",
   "file_extension": ".sos",
   "mimetype": "text/x-sos",
   "name": "sos",
   "nbconvert_exporter": "sos_notebook.converter.SoS_Exporter",
   "pygments_lexer": "sos"
  },
  "sos": {
   "kernels": [
    [
     "JavaScript",
     "javascript",
     "JavaScript",
     "#c8e1ae",
     ""
    ],
    [
     "SoS",
     "sos",
     "",
     "",
     "sos"
    ]
   ],
   "panel": {
    "displayed": false,
    "height": 0
   },
   "version": "0.21.10"
  }
 },
 "nbformat": 4,
 "nbformat_minor": 4
}
