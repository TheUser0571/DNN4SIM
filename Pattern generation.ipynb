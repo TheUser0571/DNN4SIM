{
 "cells": [
  {
   "cell_type": "markdown",
   "metadata": {
    "kernel": "SoS"
   },
   "source": [
    "# Variable definitions"
   ]
  },
  {
   "cell_type": "code",
   "execution_count": 54,
   "metadata": {
    "kernel": "MATLAB"
   },
   "outputs": [
    {
     "name": "stdout",
     "output_type": "stream",
     "text": []
    },
    {
     "name": "stderr",
     "output_type": "stream",
     "text": []
    }
   ],
   "source": [
    "%% General \n",
    "sav=1;                                    % to save results\n",
    "gtpath='SIM/Test/object.tif';             % file name ground truth \n",
    "expFolder='DNN4SIM_data/simulated_sim';   % experiment folder\n",
    "\n",
    "% Image size\n",
    "sz = [1024,1024];\n",
    "\n",
    "%% PSF\n",
    "lamb=488;                % Illumination wavelength\n",
    "res=32;                  % Resolution (nm)\n",
    "Na=1.49;                 % Objective numerica aperture\n",
    "nl=1.518;                % Refractive index of the objective medium (glass/oil)\n",
    "ns=1.333;                % Refractive index of the sample medium (water)\n",
    "\n",
    "%% Patterns\n",
    "orr=[0 pi/3 2*pi/3] + pi/12;   % Patterns orientations (vector)                \n",
    "ph=linspace(0,pi/4,3); % Patterns lateral phases (vector)\n",
    "%ph=ph(1:end-1);  \n",
    "a=0.9;                 % Amplitude coefficient \n",
    "bet=asin(Na/nl);       % Angle between side beams and the optic axis (e.g. bet asin(Na/nl))\n",
    "wf=0;              \t   % Boolean true to add a widefield image in the SIM acquisition\n",
    "\n",
    "%% Acquisition\n",
    "downFact=[2 2];  % Downsmpling factor (e.g. [2 2 2]) \n",
    "photBud=500;    % Photon Budget\n",
    "\n",
    "% add necessary paths\n",
    "addpath('SIM/Utils')\n",
    "run 'SIM/GlobalBioIm-master/setGlobalBioImPath.m'\n",
    "javaaddpath 'SIM/Utils/PSFGenerator.jar'"
   ]
  },
  {
   "cell_type": "markdown",
   "metadata": {
    "kernel": "MATLAB"
   },
   "source": [
    "# Pattern Generation"
   ]
  },
  {
   "cell_type": "code",
   "execution_count": 55,
   "metadata": {
    "kernel": "MATLAB"
   },
   "outputs": [
    {
     "name": "stdout",
     "output_type": "stream",
     "text": [
      "PSF Generation ........... done \n",
      "Patterns Generation ...... done \n"
     ]
    },
    {
     "name": "stderr",
     "output_type": "stream",
     "text": []
    }
   ],
   "source": [
    "%% PSF Generation\n",
    "fprintf('PSF Generation ...........');\n",
    "fc=2*Na/lamb*res;\n",
    "ll=linspace(-0.5,0,sz(1)/2+1);\n",
    "lr=linspace(0,0.5,sz(1)/2);\n",
    "[X,Y]=meshgrid([ll,lr(2:end)],[ll,lr(2:end)]);\n",
    "[th,rho]=cart2pol(X,Y);\n",
    "OTF=fftshift(1/pi*(2*acos(abs(rho)/fc)-sin(2*acos(abs(rho)/fc))).*(rho<fc));\n",
    "figure;subplot(1,2,1);imagesc((fftshift(OTF))); axis image; title('OTF'); colormap(fire(200));viscircles(floor(sz/2)+1,fc*sz(1));\n",
    "psf=real(fftshift(ifft2(OTF)));\n",
    "subplot(1,2,2);imagesc(psf); axis image; title('PSF'); caxis([0 0.01*max(psf(:))]);\n",
    "fprintf(' done \\n');\n",
    "\n",
    "%% Patterns Generation\n",
    "fprintf('Patterns Generation ......');\n",
    "patt=zeros([sz(1:2),length(orr)*length(ph)]);\n",
    "[X,Y]=meshgrid(0:sz(2)-1,0:sz(1)-1);X=X*res;Y=Y*res;\n",
    "it=1;\n",
    "for ii=1:length(orr)\n",
    "    k=2*pi*ns/lamb*[cos(orr(ii)), sin(orr(ii))]*sin(bet);\n",
    "    for jj=1:length(ph)\n",
    "        patt(:,:,it)=1+ a*cos(2*(k(1)*X+k(2)*Y + ph(jj)));\n",
    "        it=it+1;\n",
    "    end\n",
    "end\n",
    "if wf, patt(:,:,end+1)=ones(sz(1:2));\n",
    "end\n",
    "nbPatt=size(patt,3); % Normalization such that the mean of each pattern is 1/#Patterns\n",
    "for ii=1:nbPatt\n",
    "    tmp=patt(:,:,ii);\n",
    "    patt(:,:,ii)=patt(:,:,ii)/(mean(tmp(:))*nbPatt);\n",
    "end\n",
    "figure;subplot(1,2,1);imagesc(patt(:,:,1)); axis image; title('Example pattern');\n",
    "subplot(1,2,2);imagesc(log(1+abs(fftshift(fftn(patt(:,:,1)))))); axis image; title('Example pattern FFT'); \n",
    "viscircles(floor(sz(1:2)/2)+1,fc*sz(1));\n",
    "fprintf(' done \\n');\n",
    "\n",
    "save([expFolder,'/PSF'],'psf');\n",
    "save([expFolder,'/OTF'],'OTF');\n",
    "OTF = imresize(OTF, 0.5);\n",
    "saveastiff(single(fftshift(OTF)),[expFolder,'/OTF.tif']);\n",
    "saveastiff(single(psf),[expFolder,'/psf.tif']);\n",
    "saveastiff(single(patt),[expFolder,'/patterns.tif']);"
   ]
  },
  {
   "cell_type": "code",
   "execution_count": 41,
   "metadata": {
    "kernel": "MATLAB"
   },
   "outputs": [
    {
     "name": "stdout",
     "output_type": "stream",
     "text": []
    },
    {
     "name": "stderr",
     "output_type": "stream",
     "text": []
    }
   ],
   "source": [
    "imshow(patt(:,:,1))"
   ]
  },
  {
   "cell_type": "markdown",
   "metadata": {
    "kernel": "MATLAB"
   },
   "source": [
    "# Importing the dataset"
   ]
  },
  {
   "cell_type": "code",
   "execution_count": 42,
   "metadata": {
    "kernel": "Python3"
   },
   "outputs": [],
   "source": [
    "from nd2reader import ND2Reader\n",
    "import numpy as np\n",
    "from pathlib import Path\n",
    "import matplotlib.pyplot as plt\n",
    "\n",
    "%matplotlib widget\n",
    "\n",
    "import sys  \n",
    "sys.path.insert(0, 'lib')\n",
    "from iplabs import IPLabViewer as viewer\n",
    "# Print colors\n",
    "class bcolors:\n",
    "    HEADER = '\\033[95m'\n",
    "    OKBLUE = '\\033[94m'\n",
    "    OKGREEN = '\\033[92m'\n",
    "    WARNING = '\\033[93m'\n",
    "    FAIL = '\\033[91m'\n",
    "    ENDC = '\\033[0m'\n",
    "    BOLD = '\\033[1m'\n",
    "    UNDERLINE = '\\033[4m'\n",
    "\n",
    "# Load the sim_output image from 'path'\n",
    "def load_sim_output(path, channels):\n",
    "    # Read image\n",
    "    sim_in = ND2Reader(path)\n",
    "    sim_ch = []\n",
    "    sim_in.iter_axes = 'c'\n",
    "    for i, channel in enumerate(sim_in):\n",
    "        # Extract the required channel\n",
    "        if sim_in.metadata['channels'][i] in channels:\n",
    "            # Check the size\n",
    "            if channel.shape != (1024,1024):\n",
    "                print(f'{bcolors.FAIL}Size problem with file {path}, skipping this file.{bcolors.ENDC}')\n",
    "                raise ValueError()\n",
    "\n",
    "            sim_ch.append(np.array(channel))\n",
    "    \n",
    "    return sim_ch\n",
    "    \n",
    "# Load the entire sim dataset into a numpy array\n",
    "def load_sim_dataset(path_to_raw, channels):\n",
    "    ls = []\n",
    "    path_to_raw = Path(path_to_raw)\n",
    "\n",
    "    # Loop through all image folders and add the sim images to the dataset\n",
    "    print('Collecting images...   0%', end='\\r')\n",
    "    subdir_list = [f for f in path_to_raw.glob('*')]\n",
    "    for i, f in enumerate(subdir_list):\n",
    "        # Output images\n",
    "        output_path = f / 'SIM_output.nd2'\n",
    "        try:\n",
    "            # Append images to labels\n",
    "            ls = ls + load_sim_output(output_path, channels)\n",
    "        except (FileNotFoundError, ValueError) as err:\n",
    "            if type(err) == FileNotFoundError:\n",
    "                print(f'{bcolors.FAIL}File missing: {output_path}{bcolors.ENDC}')\n",
    "                continue\n",
    "            elif type(err) == ValueError:\n",
    "                continue\n",
    "        print(f'Collecting images... {i/len(subdir_list)*100:3.0f}%', end='\\r')\n",
    "    \n",
    "    print(f'Collecting images... {bcolors.OKGREEN}100%{bcolors.ENDC}')\n",
    "        \n",
    "    return np.array(ls)\n",
    "\n",
    "# Augment dataset (add a 180 degree rotated copy of the dataset and shuffle the result)\n",
    "def augment_dataset(ds):\n",
    "    skip = False\n",
    "    if skip is False:\n",
    "        # Normalize images\n",
    "        print('Normalizing images...   0%', end='\\r')\n",
    "        # Calculate min an max for data and labels\n",
    "        min_data = np.min(np.min(ds, axis=-1), axis=-1)\n",
    "        max_data = np.max(np.max(ds, axis=-1), axis=-1)\n",
    "        # Normalize all images to [0, 1]\n",
    "        data_length = ds.shape[0]\n",
    "        ds_ = ds.copy().astype(np.float64)\n",
    "        for i in range(data_length):\n",
    "            ds_[i] = (ds[i].astype(np.float64) - min_data[i]) / (max_data[i] - min_data[i])\n",
    "            print(f'Normalizing images... {i/data_length*100:3.0f}%', end='\\r')\n",
    "\n",
    "        print(f'Normalizing images... {bcolors.OKGREEN}100%{bcolors.ENDC}')\n",
    "    \n",
    "    # Rotate images\n",
    "    print('Augmenting dataset...', end='\\r')\n",
    "    # Create new dataset with rotated images and labels\n",
    "    ds_ = np.concatenate((ds_, np.rot90(ds_, k=1, axes=(1,2)), np.rot90(ds_, k=2, axes=(1,2)), np.rot90(ds_, k=3, axes=(1,2))))\n",
    "    print(f'Augmenting dataset... {bcolors.OKGREEN}Done{bcolors.ENDC}')\n",
    "    # Shuffle the dataset\n",
    "    print('Shuffling dataset...', end='\\r')\n",
    "    rng = np.random.default_rng()\n",
    "    idx = rng.permutation(ds_.shape[0])\n",
    "    ds_= ds_[idx]\n",
    "    print(f'Shuffling dataset... {bcolors.OKGREEN}Done{bcolors.ENDC}')\n",
    "    \n",
    "    return ds_"
   ]
  },
  {
   "cell_type": "code",
   "execution_count": 43,
   "metadata": {
    "kernel": "Python3"
   },
   "outputs": [
    {
     "name": "stdout",
     "output_type": "stream",
     "text": [
      "Collecting images...   0%\r",
      "Collecting images...   0%\r",
      "Collecting images...   1%\r"
     ]
    },
    {
     "name": "stderr",
     "output_type": "stream",
     "text": [
      "C:\\Users\\kay-1\\Google Drive\\DNN4SIM\\env\\lib\\site-packages\\nd2reader\\raw_metadata.py:171: UserWarning: Z-levels details missing in metadata. Using Z-coordinates instead.\n",
      "  warnings.warn(\"Z-levels details missing in metadata. Using Z-coordinates instead.\")\n"
     ]
    },
    {
     "name": "stdout",
     "output_type": "stream",
     "text": [
      "\u001b[91mFile missing: DNN4SIM_data\\data\\raw\\Image057\\SIM_output.nd2\u001b[0m\n",
      "Collecting images... \u001b[92m100%\u001b[0m\n"
     ]
    }
   ],
   "source": [
    "dataset = load_sim_dataset('DNN4SIM_data/data/raw', channels='3D-SIM 640')"
   ]
  },
  {
   "cell_type": "code",
   "execution_count": 44,
   "metadata": {
    "kernel": "Python3",
    "scrolled": true
   },
   "outputs": [
    {
     "name": "stdout",
     "output_type": "stream",
     "text": [
      "Normalizing images... \u001b[92m100%\u001b[0m\n",
      "Augmenting dataset... \u001b[92mDone\u001b[0m\n",
      "Shuffling dataset... \u001b[92mDone\u001b[0m\n"
     ]
    }
   ],
   "source": [
    "aug_dataset = augment_dataset(dataset)"
   ]
  },
  {
   "cell_type": "code",
   "execution_count": 45,
   "metadata": {
    "kernel": "Python3"
   },
   "outputs": [
    {
     "name": "stdout",
     "output_type": "stream",
     "text": [
      "Data:  (476, 1024, 1024)\n"
     ]
    },
    {
     "data": {
      "application/vnd.jupyter.widget-view+json": {
       "model_id": "ab77620b77a841b9a608047e92034a80",
       "version_major": 2,
       "version_minor": 0
      },
      "text/plain": [
       "HBox(children=(Output(layout=Layout(width='80%')), Output(), Output(layout=Layout(width='25%'))))"
      ]
     },
     "metadata": {},
     "output_type": "display_data"
    },
    {
     "data": {
      "application/vnd.jupyter.widget-view+json": {
       "model_id": "dbf844b2d7694b0580f10d039922e948",
       "version_major": 2,
       "version_minor": 0
      },
      "text/plain": [
       "Button(description='Show Widgets', style=ButtonStyle())"
      ]
     },
     "metadata": {},
     "output_type": "display_data"
    }
   ],
   "source": [
    "print('Data: ', aug_dataset.shape)\n",
    "\n",
    "# Show a random collection of 5 images and their corresponding labels\n",
    "r_0 = np.random.randint(0, aug_dataset.shape[0], 4)\n",
    "img_list = []\n",
    "for i in range(len(r_0)):\n",
    "    img_list.append(aug_dataset[r_0[i]])\n",
    "\n",
    "plt.close('all')\n",
    "view = viewer(img_list, subplots=(2,2))"
   ]
  },
  {
   "cell_type": "markdown",
   "metadata": {
    "kernel": "Python3"
   },
   "source": [
    "# Save augmented dataset as Matlab file(s)"
   ]
  },
  {
   "cell_type": "code",
   "execution_count": 46,
   "metadata": {
    "kernel": "Python3"
   },
   "outputs": [],
   "source": [
    "import scipy.io as sio\n",
    "ch = '3D-SIM 640' # Channel\n",
    "for i in range(4):\n",
    "    with open(f'DNN4SIM_data/dataset_labels_{i}_{ch}.mat', 'wb') as f:\n",
    "        sio.savemat(f, {'data' : aug_dataset[i*aug_dataset.shape[0]//4:(i+1)*aug_dataset.shape[0]//4]})"
   ]
  },
  {
   "cell_type": "markdown",
   "metadata": {
    "kernel": "MATLAB"
   },
   "source": [
    "# Image Acquisition"
   ]
  },
  {
   "cell_type": "code",
   "execution_count": 56,
   "metadata": {
    "kernel": "MATLAB"
   },
   "outputs": [
    {
     "name": "stdout",
     "output_type": "stream",
     "text": [
      "Acquisition simulation ... Pattern # 1..2..3..4..5..6..7..8..9.. done \n",
      "SNR = 17.7661 dB\n",
      " Pattern # 1..2..3..4..5..6..7..8..9.. done \n",
      "SNR = 19.9309 dB\n",
      " Pattern # 1..2..3..4..5..6..7..8..9.. done \n",
      "SNR = 22.015 dB\n",
      " Pattern # 1..2..3..4..5..6..7..8..9.. done \n",
      "SNR = 19.2014 dB\n"
     ]
    },
    {
     "name": "stderr",
     "output_type": "stream",
     "text": []
    }
   ],
   "source": [
    "%% Reading data\n",
    "%fprintf('Reading data .............');\n",
    "%im=double(loadtiff(gtpath)); im=im/max(im(:));\n",
    "%fprintf(' done \\n');\n",
    "%% Image Noiseless Acquisition\n",
    "\n",
    "ch = '3D-SIM 488'; % Channel\n",
    "\n",
    "fprintf('Acquisition simulation ...');\n",
    "img_count = 0;\n",
    "for mat_nb = 0:3\n",
    "    load(['DNN4SIM_data/dataset_labels_' num2str(mat_nb) '_' ch '.mat']);\n",
    "    for img_idx = 1:size(data,1)\n",
    "        im = squeeze(data(img_idx, :, :));\n",
    "        % - LinOp Downsampling and integration over camera pixels\n",
    "        SS=LinOpIdentity(sz);\n",
    "        S=LinOpDownsample(sz(1:2),downFact);\n",
    "        % htilde=padarray(ones(downFact),(sz(1:2)-downFact)/2,0,'both');\n",
    "        % Htilde=LinOpConv(fftn(fftshift(htilde)));\n",
    "        % - LinOpConv (PSF)\n",
    "        OTF=Sfft(fftshift(fftshift(psf(:,:,end:-1:1),1),2),3);\n",
    "        H=LinOpConv(OTF,1,[1 2]);\n",
    "        % - Acquisition\n",
    "        acqNoNoise=zeros([S.sizeout,size(patt,3)]);\n",
    "        fprintf(' Pattern # ');\n",
    "        for it=1:size(patt,3)\n",
    "            fprintf([num2str(it),'..']);\n",
    "            D=LinOpDiag(sz,patt(:,:,it));\n",
    "        %     acqNoNoise(:,:,it)=S*Htilde*SS*H*D*im;\n",
    "            acqNoNoise(:,:,it)=S*SS*H*D*im;\n",
    "        end\n",
    "        fprintf(' done \\n');\n",
    "\n",
    "        %% Add noise and Save\n",
    "        for ii=1:length(photBud)\n",
    "            % - Add Noise\n",
    "            acq=acqNoNoise;\n",
    "            if photBud>0\n",
    "                tmp=sum(acqNoNoise,3);\n",
    "                factor = photBud(ii)./mean(tmp(:)) ;\n",
    "                acqNoNoise = acqNoNoise.* factor;\n",
    "                im = im.*factor;\n",
    "                acq = random('Poisson',acqNoNoise);\n",
    "            end\n",
    "            %     acq=poissrnd(round(acqNoNoise/sum(acqNoNoise(:))*photBud(ii)*prod(sz)));\n",
    "            %     acqWF=poissrnd(round(acqWFNoNoise/sum(acqWFNoNoise(:))*photBud(ii)*prod(sz)));\n",
    "            SNR=20*log10(norm(acqNoNoise(:))/norm(acq(:)-acqNoNoise(:)));\n",
    "            disp(['SNR = ',num2str(SNR),' dB']);\n",
    "\n",
    "            % - Save\n",
    "            if sav\n",
    "                expFolder_ = [expFolder '_' ch '_' num2str(img_count)];\n",
    "                saveastiff(single(acqNoNoise),[expFolder_,'/AcqDataNoiseless.tif']);\n",
    "                %saveastiff(single(log(1+abs(fftshift(fftshift(Sfft(acqNoNoise,3),1),2)))),[expFolder_,'/AcqDataNoiseless-FFT.tif']);\n",
    "                saveastiff(single(acq),[expFolder_,'/AcqData.tif']);\n",
    "                %saveastiff(single(log(1+abs(fftshift(fftshift(Sfft(acq,3),1),2)))),[expFolder_,'/AcqData-FFT.tif']);\n",
    "                saveastiff(single(sum(acq,3)),[expFolder_,'/WFData.tif']);\n",
    "                %saveastiff(single(log(1+abs(fftshift(fft2(sum(acq,3)))))),[expFolder_,'/WFData-FFT.tif']);\n",
    "                saveastiff(single(sum(acqNoNoise,3)),[expFolder_,'/WFDataNoiseless.tif']);\n",
    "                %saveastiff(single(log(1+abs(fftshift(fft2(sum(acqNoNoise,3)))))),[expFolder_,'/WFDataNoiseless-FFT.tif']);\n",
    "            end\n",
    "        end\n",
    "        img_count = img_count + 1;\n",
    "        break % for testing\n",
    "    end\n",
    "end"
   ]
  },
  {
   "cell_type": "code",
   "execution_count": null,
   "metadata": {
    "kernel": "Python3"
   },
   "outputs": [],
   "source": []
  }
 ],
 "metadata": {
  "kernelspec": {
   "display_name": "SoS",
   "language": "sos",
   "name": "sos"
  },
  "language_info": {
   "codemirror_mode": "sos",
   "file_extension": ".sos",
   "mimetype": "text/x-sos",
   "name": "sos",
   "nbconvert_exporter": "sos_notebook.converter.SoS_Exporter",
   "pygments_lexer": "sos"
  },
  "sos": {
   "kernels": [
    [
     "MATLAB",
     "imatlab",
     "MATLAB",
     "#8ee7f1",
     "octave"
    ],
    [
     "Python3",
     "python3",
     "Python3",
     "#FFD91A",
     {
      "name": "ipython",
      "version": 3
     }
    ]
   ],
   "panel": {
    "displayed": false,
    "height": 0
   },
   "version": "0.21.9"
  }
 },
 "nbformat": 4,
 "nbformat_minor": 4
}
